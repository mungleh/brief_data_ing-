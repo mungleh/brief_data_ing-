{
 "cells": [
  {
   "cell_type": "markdown",
   "metadata": {},
   "source": [
    "# Elastic Stack\n",
    "L'objectif du TP est de continuer à prendre en main la stack Elastic(elasticsearch & Kibana) en mode local avec des requêtes d'agrégation"
   ]
  },
  {
   "cell_type": "markdown",
   "metadata": {},
   "source": [
    "##  1- elasticsearch\n",
    "Utiliser l'environnement déja mis en place lors du TP1 et utilisé lors du TP2\n",
    "\n",
    "Vérifier que l'environnement est bien lancé :\n",
    "\n",
    "* L'url d'elasticsearch:  http://localhost:9200\n",
    "* L'url cerebro:  http://localhost:9000\n",
    "* L'url de Kibana : http://localhost:5601"
   ]
  },
  {
   "cell_type": "code",
   "execution_count": null,
   "metadata": {},
   "outputs": [],
   "source": []
  },
  {
   "cell_type": "markdown",
   "metadata": {},
   "source": [
    "## 2- Aggregations"
   ]
  },
  {
   "cell_type": "markdown",
   "metadata": {},
   "source": [
    "* 1- Ecrire l'aggrégation qui permet de chercher dans l'index, le nombre de films par année."
   ]
  },
  {
   "cell_type": "code",
   "execution_count": null,
   "metadata": {},
   "outputs": [],
   "source": [
    "#TBD"
   ]
  },
  {
   "cell_type": "markdown",
   "metadata": {},
   "source": [
    "* 2- Donner la note (rating) moyenne des films."
   ]
  },
  {
   "cell_type": "code",
   "execution_count": null,
   "metadata": {},
   "outputs": [],
   "source": [
    "#TBD"
   ]
  },
  {
   "cell_type": "markdown",
   "metadata": {},
   "source": [
    "* 3- Donner la note (rating) moyenne, et le rang moyen des films de George Lucas."
   ]
  },
  {
   "cell_type": "code",
   "execution_count": null,
   "metadata": {},
   "outputs": [],
   "source": [
    "#TBD"
   ]
  },
  {
   "cell_type": "markdown",
   "metadata": {},
   "source": [
    "* 4- Donnez la note (rating) moyenne des films par année. Attention, il y a ici une imbrication d’agrégats."
   ]
  },
  {
   "cell_type": "code",
   "execution_count": null,
   "metadata": {},
   "outputs": [],
   "source": [
    "#TBD"
   ]
  },
  {
   "cell_type": "markdown",
   "metadata": {},
   "source": [
    " * 5- Donner la note (rating) minimum, maximum et moyenne des films par année."
   ]
  },
  {
   "cell_type": "code",
   "execution_count": null,
   "metadata": {},
   "outputs": [],
   "source": [
    "#TBD"
   ]
  },
  {
   "cell_type": "markdown",
   "metadata": {},
   "source": [
    "* 6- Donner le rang (rank) moyen des films par année et trier par ordre décroissant."
   ]
  },
  {
   "cell_type": "code",
   "execution_count": null,
   "metadata": {},
   "outputs": [],
   "source": [
    "#TBD"
   ]
  },
  {
   "cell_type": "markdown",
   "metadata": {},
   "source": [
    "* 7- Compter le nombre de films par tranche de note (0-1.9, 2-3.9, 4-5.9...). \n",
    "\n",
    "Indication : group_range.\n"
   ]
  },
  {
   "cell_type": "code",
   "execution_count": null,
   "metadata": {},
   "outputs": [],
   "source": [
    "#TBD"
   ]
  },
  {
   "cell_type": "code",
   "execution_count": null,
   "metadata": {},
   "outputs": [],
   "source": []
  },
  {
   "cell_type": "markdown",
   "metadata": {},
   "source": [
    " * 8- grouper par “genre” de film, et donner leurs occurrences :\n",
    " \n",
    "indication : un mapping des propriétes peut être nécessaire..\n",
    " "
   ]
  },
  {
   "cell_type": "code",
   "execution_count": null,
   "metadata": {},
   "outputs": [],
   "source": [
    "#TBD"
   ]
  },
  {
   "cell_type": "markdown",
   "metadata": {},
   "source": [
    "### Bonus\n",
    "\n",
    "   * Donner le nombre d’occurrences de chaque réalisateur ou réalisatrice.\n",
    "\n",
    "   * Donner la note (rating) moyenne, le rang min et max, des films par acteur. \n",
    "   \n",
    "   * Nombre de réalisateurs distincts pour les films d’aventure.\n",
    "\n",
    "   * Termes les plus utilisés (agrégat : significant_terms) dans les descriptions des films de George Lucas.\n"
   ]
  },
  {
   "cell_type": "markdown",
   "metadata": {},
   "source": [
    "* Donner la note moyenne par genre,\n",
    "* Donner une note minimale, maximale et moyenne pour chaque genre,\n",
    "* Donner le classement moyen des films par an et les trier par ordre ascendant,\n",
    "* Donner le rang moyen du film et la note moyenne du film pour chaque réalisateur. Trier le résultat de manière décroissante en moyenne de rating\n",
    "* Donner les termes occurrences extraites du titre de chaque film. \n",
    "\n"
   ]
  },
  {
   "cell_type": "markdown",
   "metadata": {},
   "source": [
    "# 3- Visualiser les résultats avec Kibana\n",
    "\n",
    "lancer kibana : https://www.elastic.co/fr/downloads/kibana\n",
    "\n",
    "Vérifier que c'est bien démarré via l'URL:  http://localhost:5601\n",
    "\n",
    "RQ: Analyser les diff paramètres dans le fichier de conf: config/kibana.yml\n",
    "\n",
    "Charger votre index movies dans Elasticsearch et contruire un Dashboard avec 3 Graphes pertinents de votre choix"
   ]
  },
  {
   "cell_type": "code",
   "execution_count": null,
   "metadata": {},
   "outputs": [],
   "source": []
  },
  {
   "cell_type": "markdown",
   "metadata": {},
   "source": [
    "# Ressources utiles:\n",
    "\n",
    "voir https://www.elastic.co/guide/en/elasticsearch/reference/current/search-aggregations.html\n",
    "https://www.elastic.co/guide/en/elasticsearch/reference/current/indices-put-mapping.html\n",
    "\n"
   ]
  },
  {
   "cell_type": "code",
   "execution_count": null,
   "metadata": {},
   "outputs": [],
   "source": []
  }
 ],
 "metadata": {
  "kernelspec": {
   "display_name": "Python 3 (ipykernel)",
   "language": "python",
   "name": "python3"
  },
  "language_info": {
   "codemirror_mode": {
    "name": "ipython",
    "version": 3
   },
   "file_extension": ".py",
   "mimetype": "text/x-python",
   "name": "python",
   "nbconvert_exporter": "python",
   "pygments_lexer": "ipython3",
   "version": "3.9.12"
  },
  "toc": {
   "base_numbering": 1,
   "nav_menu": {},
   "number_sections": true,
   "sideBar": true,
   "skip_h1_title": true,
   "title_cell": "Table of Contents",
   "title_sidebar": "Contents",
   "toc_cell": false,
   "toc_position": {},
   "toc_section_display": true,
   "toc_window_display": true
  }
 },
 "nbformat": 4,
 "nbformat_minor": 2
}
