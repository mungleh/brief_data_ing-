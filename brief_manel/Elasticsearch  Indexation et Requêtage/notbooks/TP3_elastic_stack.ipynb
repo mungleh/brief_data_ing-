{
 "cells": [
  {
   "cell_type": "markdown",
   "metadata": {},
   "source": [
    "# Elastic Stack\n",
    "L'objectif du TP est de continuer la prise en main la stack Elastic ( elasticsearch & Kibana) en mode local."
   ]
  },
  {
   "cell_type": "markdown",
   "metadata": {},
   "source": [
    "##  1- elasticsearch\n",
    "Utiliser l'environnement déja mis en place lors du TP1 et utilisé lors du TP2\n",
    "\n",
    "Vérifier que l'environnement est bien lancé :\n",
    "\n",
    "* L'url d'elasticsearch:  http://localhost:9200\n",
    "* L'url cerebro:  http://localhost:9000\n",
    "* L'url de Kibana : http://localhost:5601"
   ]
  },
  {
   "cell_type": "code",
   "execution_count": null,
   "metadata": {},
   "outputs": [],
   "source": []
  },
  {
   "cell_type": "markdown",
   "metadata": {},
   "source": [
    "## 2- Créer et gérer votre 2éme index\n",
    "\n",
    "* créer un index (vide): myindex\n",
    "\n",
    "\n"
   ]
  },
  {
   "cell_type": "code",
   "execution_count": null,
   "metadata": {},
   "outputs": [],
   "source": [
    "#TBD\n"
   ]
  },
  {
   "cell_type": "markdown",
   "metadata": {},
   "source": [
    "* Ajouter à l'index myindex, le document suivant:\n",
    "\n",
    "{ \n",
    "\n",
    "\"first_name\" : \"Jean\",\n",
    "\n",
    "\"last_name\" : \"Dupont\",\n",
    "\n",
    "\"age\" :25,\n",
    "\n",
    "\"about\" :\"I'm a data engineer\",\n",
    "\n",
    "\"interests\": [ \"sports\", \"music\" ]\n",
    "\n",
    "}\n"
   ]
  },
  {
   "cell_type": "markdown",
   "metadata": {},
   "source": [
    "=> Ajouter le via un webservice REST ou via une commande curl"
   ]
  },
  {
   "cell_type": "code",
   "execution_count": null,
   "metadata": {},
   "outputs": [],
   "source": [
    "#TBD"
   ]
  },
  {
   "cell_type": "markdown",
   "metadata": {},
   "source": [
    "* Afficher la liste des index de votre cluster:\n",
    "    \n"
   ]
  },
  {
   "cell_type": "code",
   "execution_count": null,
   "metadata": {},
   "outputs": [],
   "source": [
    "#TBD"
   ]
  },
  {
   "cell_type": "markdown",
   "metadata": {},
   "source": [
    "* Supprimer l'index myindex \n",
    "\n",
    "\n"
   ]
  },
  {
   "cell_type": "code",
   "execution_count": null,
   "metadata": {},
   "outputs": [],
   "source": [
    "#TBD"
   ]
  },
  {
   "cell_type": "markdown",
   "metadata": {},
   "source": [
    "* Charger  un index \"movies2\" , en utilisant l'API REST d'elasticsearch, le fichier de mapping mapping.json (fourni), insérer ensuite les données de movies2.json (fourni)\n",
    "\n"
   ]
  },
  {
   "cell_type": "code",
   "execution_count": null,
   "metadata": {},
   "outputs": [],
   "source": [
    "#TBD"
   ]
  },
  {
   "cell_type": "markdown",
   "metadata": {},
   "source": [
    "Vérifier le contenu inséré sur l'interface cerebro (ou aussi via l'URL elasticsearch :\n",
    "\n",
    "http://localhost:9200/movies2/_mappings\n",
    "\n",
    "http://localhost:9200/movies2/?pretty\n",
    "\n",
    "http://localhost:9200/movies2/_search\n",
    "\n",
    "http://localhost:9200/_cat/indices?v\n",
    "\n",
    "\n"
   ]
  },
  {
   "cell_type": "code",
   "execution_count": null,
   "metadata": {},
   "outputs": [],
   "source": []
  },
  {
   "cell_type": "markdown",
   "metadata": {},
   "source": [
    "## 3- Visualiser les résultats avec Kibana\n",
    "\n",
    "Télécharger et lancer kibana : https://www.elastic.co/fr/downloads/kibana\n",
    "\n",
    "Vérifier que c'est bien démarré via l'URL:  http://localhost:5601\n",
    "RQ: Analyser les diff paramètres dans le fichier de conf: config/kibana.yml\n",
    "\n",
    "Charger votre index Elasticsearch et contruire un Dashboard avec 3 Graphes pertinents de votre choix"
   ]
  },
  {
   "cell_type": "code",
   "execution_count": null,
   "metadata": {},
   "outputs": [],
   "source": []
  }
 ],
 "metadata": {
  "kernelspec": {
   "display_name": "Python 3 (ipykernel)",
   "language": "python",
   "name": "python3"
  },
  "language_info": {
   "codemirror_mode": {
    "name": "ipython",
    "version": 3
   },
   "file_extension": ".py",
   "mimetype": "text/x-python",
   "name": "python",
   "nbconvert_exporter": "python",
   "pygments_lexer": "ipython3",
   "version": "3.9.12"
  },
  "toc": {
   "base_numbering": 1,
   "nav_menu": {},
   "number_sections": true,
   "sideBar": true,
   "skip_h1_title": true,
   "title_cell": "Table of Contents",
   "title_sidebar": "Contents",
   "toc_cell": false,
   "toc_position": {
    "height": "calc(100% - 180px)",
    "left": "10px",
    "top": "150px",
    "width": "165px"
   },
   "toc_section_display": true,
   "toc_window_display": true
  }
 },
 "nbformat": 4,
 "nbformat_minor": 2
}
