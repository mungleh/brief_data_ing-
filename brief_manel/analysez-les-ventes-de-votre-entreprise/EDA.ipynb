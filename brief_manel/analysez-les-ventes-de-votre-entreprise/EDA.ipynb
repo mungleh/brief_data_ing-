{
 "cells": [
  {
   "cell_type": "markdown",
   "id": "81a5eb01",
   "metadata": {},
   "source": [
    "# Import"
   ]
  },
  {
   "cell_type": "code",
   "execution_count": 1,
   "id": "623bae23",
   "metadata": {},
   "outputs": [],
   "source": [
    "import plotly.graph_objs as go\n",
    "import plotly.offline as py\n",
    "import matplotlib as plt\n",
    "import seaborn as sns\n",
    "import pandas as pd\n",
    "import numpy as np"
   ]
  },
  {
   "cell_type": "code",
   "execution_count": 2,
   "id": "ef2ff2d5",
   "metadata": {},
   "outputs": [],
   "source": [
    "df = pd.read_csv('data/cli_ven_psc.csv', delimiter=\",\")  "
   ]
  },
  {
   "cell_type": "code",
   "execution_count": 3,
   "id": "c1f42e24",
   "metadata": {},
   "outputs": [],
   "source": [
    "df['date'] = df['date'].astype('datetime64[ns]')"
   ]
  },
  {
   "cell_type": "code",
   "execution_count": 4,
   "id": "4e8b06ec",
   "metadata": {
    "scrolled": true
   },
   "outputs": [
    {
     "data": {
      "text/html": [
       "<div>\n",
       "<style scoped>\n",
       "    .dataframe tbody tr th:only-of-type {\n",
       "        vertical-align: middle;\n",
       "    }\n",
       "\n",
       "    .dataframe tbody tr th {\n",
       "        vertical-align: top;\n",
       "    }\n",
       "\n",
       "    .dataframe thead th {\n",
       "        text-align: right;\n",
       "    }\n",
       "</style>\n",
       "<table border=\"1\" class=\"dataframe\">\n",
       "  <thead>\n",
       "    <tr style=\"text-align: right;\">\n",
       "      <th></th>\n",
       "      <th>client_id</th>\n",
       "      <th>sex</th>\n",
       "      <th>birth</th>\n",
       "      <th>product_id</th>\n",
       "      <th>date</th>\n",
       "      <th>session_id</th>\n",
       "      <th>quantity_sold</th>\n",
       "      <th>category</th>\n",
       "      <th>sub_category</th>\n",
       "      <th>price</th>\n",
       "      <th>stock_quantity</th>\n",
       "    </tr>\n",
       "  </thead>\n",
       "  <tbody>\n",
       "    <tr>\n",
       "      <th>0</th>\n",
       "      <td>c_4410</td>\n",
       "      <td>f</td>\n",
       "      <td>1967.0</td>\n",
       "      <td>0_1455</td>\n",
       "      <td>2021-03-22 14:29:25.189266</td>\n",
       "      <td>s_9942</td>\n",
       "      <td>10.0</td>\n",
       "      <td>Vêtements</td>\n",
       "      <td>T-shirts</td>\n",
       "      <td>8.99</td>\n",
       "      <td>88.0</td>\n",
       "    </tr>\n",
       "    <tr>\n",
       "      <th>1</th>\n",
       "      <td>c_4389</td>\n",
       "      <td>m</td>\n",
       "      <td>1984.0</td>\n",
       "      <td>0_1455</td>\n",
       "      <td>2021-07-09 11:16:18.579726</td>\n",
       "      <td>s_59967</td>\n",
       "      <td>2.0</td>\n",
       "      <td>Vêtements</td>\n",
       "      <td>T-shirts</td>\n",
       "      <td>8.99</td>\n",
       "      <td>88.0</td>\n",
       "    </tr>\n",
       "    <tr>\n",
       "      <th>2</th>\n",
       "      <td>c_5019</td>\n",
       "      <td>f</td>\n",
       "      <td>1977.0</td>\n",
       "      <td>0_1455</td>\n",
       "      <td>2022-01-15 00:01:53.456196</td>\n",
       "      <td>s_149928</td>\n",
       "      <td>1.0</td>\n",
       "      <td>Vêtements</td>\n",
       "      <td>T-shirts</td>\n",
       "      <td>8.99</td>\n",
       "      <td>88.0</td>\n",
       "    </tr>\n",
       "    <tr>\n",
       "      <th>3</th>\n",
       "      <td>c_7049</td>\n",
       "      <td>f</td>\n",
       "      <td>1987.0</td>\n",
       "      <td>0_1455</td>\n",
       "      <td>2021-03-04 14:01:38.698752</td>\n",
       "      <td>s_1637</td>\n",
       "      <td>5.0</td>\n",
       "      <td>Vêtements</td>\n",
       "      <td>T-shirts</td>\n",
       "      <td>8.99</td>\n",
       "      <td>88.0</td>\n",
       "    </tr>\n",
       "    <tr>\n",
       "      <th>4</th>\n",
       "      <td>c_5110</td>\n",
       "      <td>f</td>\n",
       "      <td>1982.0</td>\n",
       "      <td>0_1455</td>\n",
       "      <td>2021-09-05 11:48:41.065009</td>\n",
       "      <td>s_85364</td>\n",
       "      <td>4.0</td>\n",
       "      <td>Vêtements</td>\n",
       "      <td>T-shirts</td>\n",
       "      <td>8.99</td>\n",
       "      <td>88.0</td>\n",
       "    </tr>\n",
       "    <tr>\n",
       "      <th>...</th>\n",
       "      <td>...</td>\n",
       "      <td>...</td>\n",
       "      <td>...</td>\n",
       "      <td>...</td>\n",
       "      <td>...</td>\n",
       "      <td>...</td>\n",
       "      <td>...</td>\n",
       "      <td>...</td>\n",
       "      <td>...</td>\n",
       "      <td>...</td>\n",
       "      <td>...</td>\n",
       "    </tr>\n",
       "    <tr>\n",
       "      <th>337314</th>\n",
       "      <td>NaN</td>\n",
       "      <td>NaN</td>\n",
       "      <td>NaN</td>\n",
       "      <td>0_525</td>\n",
       "      <td>NaT</td>\n",
       "      <td>NaN</td>\n",
       "      <td>0.0</td>\n",
       "      <td>Vêtements</td>\n",
       "      <td>T-shirts</td>\n",
       "      <td>2.99</td>\n",
       "      <td>96.0</td>\n",
       "    </tr>\n",
       "    <tr>\n",
       "      <th>337315</th>\n",
       "      <td>NaN</td>\n",
       "      <td>NaN</td>\n",
       "      <td>NaN</td>\n",
       "      <td>2_86</td>\n",
       "      <td>NaT</td>\n",
       "      <td>NaN</td>\n",
       "      <td>0.0</td>\n",
       "      <td>Montres</td>\n",
       "      <td>Montres connectées</td>\n",
       "      <td>132.36</td>\n",
       "      <td>67.0</td>\n",
       "    </tr>\n",
       "    <tr>\n",
       "      <th>337316</th>\n",
       "      <td>NaN</td>\n",
       "      <td>NaN</td>\n",
       "      <td>NaN</td>\n",
       "      <td>0_299</td>\n",
       "      <td>NaT</td>\n",
       "      <td>NaN</td>\n",
       "      <td>0.0</td>\n",
       "      <td>Vêtements</td>\n",
       "      <td>T-shirts</td>\n",
       "      <td>22.99</td>\n",
       "      <td>53.0</td>\n",
       "    </tr>\n",
       "    <tr>\n",
       "      <th>337317</th>\n",
       "      <td>NaN</td>\n",
       "      <td>NaN</td>\n",
       "      <td>NaN</td>\n",
       "      <td>0_510</td>\n",
       "      <td>NaT</td>\n",
       "      <td>NaN</td>\n",
       "      <td>0.0</td>\n",
       "      <td>Vêtements</td>\n",
       "      <td>T-shirts</td>\n",
       "      <td>23.66</td>\n",
       "      <td>1.0</td>\n",
       "    </tr>\n",
       "    <tr>\n",
       "      <th>337318</th>\n",
       "      <td>NaN</td>\n",
       "      <td>NaN</td>\n",
       "      <td>NaN</td>\n",
       "      <td>0_2308</td>\n",
       "      <td>NaT</td>\n",
       "      <td>NaN</td>\n",
       "      <td>0.0</td>\n",
       "      <td>Vêtements</td>\n",
       "      <td>T-shirts</td>\n",
       "      <td>20.28</td>\n",
       "      <td>87.0</td>\n",
       "    </tr>\n",
       "  </tbody>\n",
       "</table>\n",
       "<p>337319 rows × 11 columns</p>\n",
       "</div>"
      ],
      "text/plain": [
       "       client_id  sex   birth product_id                       date  \\\n",
       "0         c_4410    f  1967.0     0_1455 2021-03-22 14:29:25.189266   \n",
       "1         c_4389    m  1984.0     0_1455 2021-07-09 11:16:18.579726   \n",
       "2         c_5019    f  1977.0     0_1455 2022-01-15 00:01:53.456196   \n",
       "3         c_7049    f  1987.0     0_1455 2021-03-04 14:01:38.698752   \n",
       "4         c_5110    f  1982.0     0_1455 2021-09-05 11:48:41.065009   \n",
       "...          ...  ...     ...        ...                        ...   \n",
       "337314       NaN  NaN     NaN      0_525                        NaT   \n",
       "337315       NaN  NaN     NaN       2_86                        NaT   \n",
       "337316       NaN  NaN     NaN      0_299                        NaT   \n",
       "337317       NaN  NaN     NaN      0_510                        NaT   \n",
       "337318       NaN  NaN     NaN     0_2308                        NaT   \n",
       "\n",
       "       session_id  quantity_sold   category        sub_category   price  \\\n",
       "0          s_9942           10.0  Vêtements            T-shirts    8.99   \n",
       "1         s_59967            2.0  Vêtements            T-shirts    8.99   \n",
       "2        s_149928            1.0  Vêtements            T-shirts    8.99   \n",
       "3          s_1637            5.0  Vêtements            T-shirts    8.99   \n",
       "4         s_85364            4.0  Vêtements            T-shirts    8.99   \n",
       "...           ...            ...        ...                 ...     ...   \n",
       "337314        NaN            0.0  Vêtements            T-shirts    2.99   \n",
       "337315        NaN            0.0    Montres  Montres connectées  132.36   \n",
       "337316        NaN            0.0  Vêtements            T-shirts   22.99   \n",
       "337317        NaN            0.0  Vêtements            T-shirts   23.66   \n",
       "337318        NaN            0.0  Vêtements            T-shirts   20.28   \n",
       "\n",
       "        stock_quantity  \n",
       "0                 88.0  \n",
       "1                 88.0  \n",
       "2                 88.0  \n",
       "3                 88.0  \n",
       "4                 88.0  \n",
       "...                ...  \n",
       "337314            96.0  \n",
       "337315            67.0  \n",
       "337316            53.0  \n",
       "337317             1.0  \n",
       "337318            87.0  \n",
       "\n",
       "[337319 rows x 11 columns]"
      ]
     },
     "execution_count": 4,
     "metadata": {},
     "output_type": "execute_result"
    }
   ],
   "source": [
    "df"
   ]
  },
  {
   "cell_type": "markdown",
   "id": "6504f4a3",
   "metadata": {},
   "source": [
    "# EDA tavu"
   ]
  },
  {
   "cell_type": "markdown",
   "id": "e47ba906",
   "metadata": {},
   "source": [
    "## multi-varié pyramid plot"
   ]
  },
  {
   "cell_type": "code",
   "execution_count": 5,
   "id": "bb0fba92",
   "metadata": {},
   "outputs": [],
   "source": [
    "df['age'] = 2024 - df['birth']"
   ]
  },
  {
   "cell_type": "code",
   "execution_count": 6,
   "id": "9202ca5c",
   "metadata": {},
   "outputs": [],
   "source": [
    "df_pyramid = df.copy().dropna()"
   ]
  },
  {
   "cell_type": "code",
   "execution_count": 7,
   "id": "a67d4f42",
   "metadata": {},
   "outputs": [],
   "source": [
    "df_pyramid['age'] = round(df_pyramid['age'],-1)"
   ]
  },
  {
   "cell_type": "code",
   "execution_count": 8,
   "id": "12f40ec2",
   "metadata": {},
   "outputs": [],
   "source": [
    "# df_pyramid['age'] =  (df_pyramid['age'] / 5).round().astype(int) * 5"
   ]
  },
  {
   "cell_type": "code",
   "execution_count": 9,
   "id": "98d814cd",
   "metadata": {},
   "outputs": [
    {
     "data": {
      "text/html": [
       "<div>\n",
       "<style scoped>\n",
       "    .dataframe tbody tr th:only-of-type {\n",
       "        vertical-align: middle;\n",
       "    }\n",
       "\n",
       "    .dataframe tbody tr th {\n",
       "        vertical-align: top;\n",
       "    }\n",
       "\n",
       "    .dataframe thead th {\n",
       "        text-align: right;\n",
       "    }\n",
       "</style>\n",
       "<table border=\"1\" class=\"dataframe\">\n",
       "  <thead>\n",
       "    <tr style=\"text-align: right;\">\n",
       "      <th></th>\n",
       "      <th>client_id</th>\n",
       "      <th>sex</th>\n",
       "      <th>birth</th>\n",
       "      <th>product_id</th>\n",
       "      <th>date</th>\n",
       "      <th>session_id</th>\n",
       "      <th>quantity_sold</th>\n",
       "      <th>category</th>\n",
       "      <th>sub_category</th>\n",
       "      <th>price</th>\n",
       "      <th>stock_quantity</th>\n",
       "      <th>age</th>\n",
       "    </tr>\n",
       "  </thead>\n",
       "  <tbody>\n",
       "    <tr>\n",
       "      <th>0</th>\n",
       "      <td>c_4410</td>\n",
       "      <td>f</td>\n",
       "      <td>1967.0</td>\n",
       "      <td>0_1455</td>\n",
       "      <td>2021-03-22 14:29:25.189266</td>\n",
       "      <td>s_9942</td>\n",
       "      <td>10.0</td>\n",
       "      <td>Vêtements</td>\n",
       "      <td>T-shirts</td>\n",
       "      <td>8.99</td>\n",
       "      <td>88.0</td>\n",
       "      <td>60.0</td>\n",
       "    </tr>\n",
       "    <tr>\n",
       "      <th>1</th>\n",
       "      <td>c_4389</td>\n",
       "      <td>m</td>\n",
       "      <td>1984.0</td>\n",
       "      <td>0_1455</td>\n",
       "      <td>2021-07-09 11:16:18.579726</td>\n",
       "      <td>s_59967</td>\n",
       "      <td>2.0</td>\n",
       "      <td>Vêtements</td>\n",
       "      <td>T-shirts</td>\n",
       "      <td>8.99</td>\n",
       "      <td>88.0</td>\n",
       "      <td>40.0</td>\n",
       "    </tr>\n",
       "    <tr>\n",
       "      <th>2</th>\n",
       "      <td>c_5019</td>\n",
       "      <td>f</td>\n",
       "      <td>1977.0</td>\n",
       "      <td>0_1455</td>\n",
       "      <td>2022-01-15 00:01:53.456196</td>\n",
       "      <td>s_149928</td>\n",
       "      <td>1.0</td>\n",
       "      <td>Vêtements</td>\n",
       "      <td>T-shirts</td>\n",
       "      <td>8.99</td>\n",
       "      <td>88.0</td>\n",
       "      <td>50.0</td>\n",
       "    </tr>\n",
       "    <tr>\n",
       "      <th>3</th>\n",
       "      <td>c_7049</td>\n",
       "      <td>f</td>\n",
       "      <td>1987.0</td>\n",
       "      <td>0_1455</td>\n",
       "      <td>2021-03-04 14:01:38.698752</td>\n",
       "      <td>s_1637</td>\n",
       "      <td>5.0</td>\n",
       "      <td>Vêtements</td>\n",
       "      <td>T-shirts</td>\n",
       "      <td>8.99</td>\n",
       "      <td>88.0</td>\n",
       "      <td>40.0</td>\n",
       "    </tr>\n",
       "    <tr>\n",
       "      <th>4</th>\n",
       "      <td>c_5110</td>\n",
       "      <td>f</td>\n",
       "      <td>1982.0</td>\n",
       "      <td>0_1455</td>\n",
       "      <td>2021-09-05 11:48:41.065009</td>\n",
       "      <td>s_85364</td>\n",
       "      <td>4.0</td>\n",
       "      <td>Vêtements</td>\n",
       "      <td>T-shirts</td>\n",
       "      <td>8.99</td>\n",
       "      <td>88.0</td>\n",
       "      <td>40.0</td>\n",
       "    </tr>\n",
       "    <tr>\n",
       "      <th>...</th>\n",
       "      <td>...</td>\n",
       "      <td>...</td>\n",
       "      <td>...</td>\n",
       "      <td>...</td>\n",
       "      <td>...</td>\n",
       "      <td>...</td>\n",
       "      <td>...</td>\n",
       "      <td>...</td>\n",
       "      <td>...</td>\n",
       "      <td>...</td>\n",
       "      <td>...</td>\n",
       "      <td>...</td>\n",
       "    </tr>\n",
       "    <tr>\n",
       "      <th>337292</th>\n",
       "      <td>c_7135</td>\n",
       "      <td>m</td>\n",
       "      <td>1996.0</td>\n",
       "      <td>2_99</td>\n",
       "      <td>2021-07-11 20:56:49.820935</td>\n",
       "      <td>s_61009</td>\n",
       "      <td>9.0</td>\n",
       "      <td>Montres</td>\n",
       "      <td>Montres connectées</td>\n",
       "      <td>84.99</td>\n",
       "      <td>25.0</td>\n",
       "      <td>30.0</td>\n",
       "    </tr>\n",
       "    <tr>\n",
       "      <th>337293</th>\n",
       "      <td>c_5828</td>\n",
       "      <td>f</td>\n",
       "      <td>1998.0</td>\n",
       "      <td>2_99</td>\n",
       "      <td>2021-11-21 01:53:46.967570</td>\n",
       "      <td>s_122697</td>\n",
       "      <td>8.0</td>\n",
       "      <td>Montres</td>\n",
       "      <td>Montres connectées</td>\n",
       "      <td>84.99</td>\n",
       "      <td>25.0</td>\n",
       "      <td>30.0</td>\n",
       "    </tr>\n",
       "    <tr>\n",
       "      <th>337294</th>\n",
       "      <td>c_8260</td>\n",
       "      <td>m</td>\n",
       "      <td>1991.0</td>\n",
       "      <td>0_833</td>\n",
       "      <td>2021-09-27 23:22:40.394509</td>\n",
       "      <td>s_96558</td>\n",
       "      <td>2.0</td>\n",
       "      <td>Vêtements</td>\n",
       "      <td>T-shirts</td>\n",
       "      <td>2.99</td>\n",
       "      <td>24.0</td>\n",
       "      <td>30.0</td>\n",
       "    </tr>\n",
       "    <tr>\n",
       "      <th>337295</th>\n",
       "      <td>c_8138</td>\n",
       "      <td>f</td>\n",
       "      <td>1984.0</td>\n",
       "      <td>0_394</td>\n",
       "      <td>2021-11-09 09:02:38.299240</td>\n",
       "      <td>s_116986</td>\n",
       "      <td>1.0</td>\n",
       "      <td>Vêtements</td>\n",
       "      <td>T-shirts</td>\n",
       "      <td>2.14</td>\n",
       "      <td>69.0</td>\n",
       "      <td>40.0</td>\n",
       "    </tr>\n",
       "    <tr>\n",
       "      <th>337296</th>\n",
       "      <td>c_8327</td>\n",
       "      <td>m</td>\n",
       "      <td>1972.0</td>\n",
       "      <td>0_394</td>\n",
       "      <td>2021-12-28 22:44:11.200205</td>\n",
       "      <td>s_141516</td>\n",
       "      <td>1.0</td>\n",
       "      <td>Vêtements</td>\n",
       "      <td>T-shirts</td>\n",
       "      <td>2.14</td>\n",
       "      <td>69.0</td>\n",
       "      <td>50.0</td>\n",
       "    </tr>\n",
       "  </tbody>\n",
       "</table>\n",
       "<p>336268 rows × 12 columns</p>\n",
       "</div>"
      ],
      "text/plain": [
       "       client_id sex   birth product_id                       date session_id  \\\n",
       "0         c_4410   f  1967.0     0_1455 2021-03-22 14:29:25.189266     s_9942   \n",
       "1         c_4389   m  1984.0     0_1455 2021-07-09 11:16:18.579726    s_59967   \n",
       "2         c_5019   f  1977.0     0_1455 2022-01-15 00:01:53.456196   s_149928   \n",
       "3         c_7049   f  1987.0     0_1455 2021-03-04 14:01:38.698752     s_1637   \n",
       "4         c_5110   f  1982.0     0_1455 2021-09-05 11:48:41.065009    s_85364   \n",
       "...          ...  ..     ...        ...                        ...        ...   \n",
       "337292    c_7135   m  1996.0       2_99 2021-07-11 20:56:49.820935    s_61009   \n",
       "337293    c_5828   f  1998.0       2_99 2021-11-21 01:53:46.967570   s_122697   \n",
       "337294    c_8260   m  1991.0      0_833 2021-09-27 23:22:40.394509    s_96558   \n",
       "337295    c_8138   f  1984.0      0_394 2021-11-09 09:02:38.299240   s_116986   \n",
       "337296    c_8327   m  1972.0      0_394 2021-12-28 22:44:11.200205   s_141516   \n",
       "\n",
       "        quantity_sold   category        sub_category  price  stock_quantity  \\\n",
       "0                10.0  Vêtements            T-shirts   8.99            88.0   \n",
       "1                 2.0  Vêtements            T-shirts   8.99            88.0   \n",
       "2                 1.0  Vêtements            T-shirts   8.99            88.0   \n",
       "3                 5.0  Vêtements            T-shirts   8.99            88.0   \n",
       "4                 4.0  Vêtements            T-shirts   8.99            88.0   \n",
       "...               ...        ...                 ...    ...             ...   \n",
       "337292            9.0    Montres  Montres connectées  84.99            25.0   \n",
       "337293            8.0    Montres  Montres connectées  84.99            25.0   \n",
       "337294            2.0  Vêtements            T-shirts   2.99            24.0   \n",
       "337295            1.0  Vêtements            T-shirts   2.14            69.0   \n",
       "337296            1.0  Vêtements            T-shirts   2.14            69.0   \n",
       "\n",
       "         age  \n",
       "0       60.0  \n",
       "1       40.0  \n",
       "2       50.0  \n",
       "3       40.0  \n",
       "4       40.0  \n",
       "...      ...  \n",
       "337292  30.0  \n",
       "337293  30.0  \n",
       "337294  30.0  \n",
       "337295  40.0  \n",
       "337296  50.0  \n",
       "\n",
       "[336268 rows x 12 columns]"
      ]
     },
     "execution_count": 9,
     "metadata": {},
     "output_type": "execute_result"
    }
   ],
   "source": [
    "df_pyramid"
   ]
  },
  {
   "cell_type": "code",
   "execution_count": 10,
   "id": "1d8f9fb5",
   "metadata": {},
   "outputs": [],
   "source": [
    "hommeh = df_pyramid[df_pyramid['sex'].isin(['m'])]\n",
    "femmef = df_pyramid[df_pyramid['sex'].isin(['f'])]"
   ]
  },
  {
   "cell_type": "code",
   "execution_count": 11,
   "id": "8f72c969",
   "metadata": {},
   "outputs": [],
   "source": [
    "hommeh = hommeh.groupby(by=[\"age\"]).count()\n",
    "femmef = femmef.groupby(by=[\"age\"]).count()"
   ]
  },
  {
   "cell_type": "code",
   "execution_count": 12,
   "id": "3578a030",
   "metadata": {},
   "outputs": [],
   "source": [
    "hommeh['age'] = hommeh.index\n",
    "femmef['age'] = femmef.index"
   ]
  },
  {
   "cell_type": "code",
   "execution_count": 13,
   "id": "6073e0e6",
   "metadata": {},
   "outputs": [
    {
     "data": {
      "text/html": [
       "<div>\n",
       "<style scoped>\n",
       "    .dataframe tbody tr th:only-of-type {\n",
       "        vertical-align: middle;\n",
       "    }\n",
       "\n",
       "    .dataframe tbody tr th {\n",
       "        vertical-align: top;\n",
       "    }\n",
       "\n",
       "    .dataframe thead th {\n",
       "        text-align: right;\n",
       "    }\n",
       "</style>\n",
       "<table border=\"1\" class=\"dataframe\">\n",
       "  <thead>\n",
       "    <tr style=\"text-align: right;\">\n",
       "      <th></th>\n",
       "      <th>client_id</th>\n",
       "      <th>sex</th>\n",
       "      <th>birth</th>\n",
       "      <th>product_id</th>\n",
       "      <th>date</th>\n",
       "      <th>session_id</th>\n",
       "      <th>quantity_sold</th>\n",
       "      <th>category</th>\n",
       "      <th>sub_category</th>\n",
       "      <th>price</th>\n",
       "      <th>stock_quantity</th>\n",
       "      <th>age</th>\n",
       "    </tr>\n",
       "    <tr>\n",
       "      <th>age</th>\n",
       "      <th></th>\n",
       "      <th></th>\n",
       "      <th></th>\n",
       "      <th></th>\n",
       "      <th></th>\n",
       "      <th></th>\n",
       "      <th></th>\n",
       "      <th></th>\n",
       "      <th></th>\n",
       "      <th></th>\n",
       "      <th></th>\n",
       "      <th></th>\n",
       "    </tr>\n",
       "  </thead>\n",
       "  <tbody>\n",
       "    <tr>\n",
       "      <th>20.0</th>\n",
       "      <td>11643</td>\n",
       "      <td>11643</td>\n",
       "      <td>11643</td>\n",
       "      <td>11643</td>\n",
       "      <td>11643</td>\n",
       "      <td>11643</td>\n",
       "      <td>11643</td>\n",
       "      <td>11643</td>\n",
       "      <td>11643</td>\n",
       "      <td>11643</td>\n",
       "      <td>11643</td>\n",
       "      <td>20.0</td>\n",
       "    </tr>\n",
       "    <tr>\n",
       "      <th>30.0</th>\n",
       "      <td>17747</td>\n",
       "      <td>17747</td>\n",
       "      <td>17747</td>\n",
       "      <td>17747</td>\n",
       "      <td>17747</td>\n",
       "      <td>17747</td>\n",
       "      <td>17747</td>\n",
       "      <td>17747</td>\n",
       "      <td>17747</td>\n",
       "      <td>17747</td>\n",
       "      <td>17747</td>\n",
       "      <td>30.0</td>\n",
       "    </tr>\n",
       "    <tr>\n",
       "      <th>40.0</th>\n",
       "      <td>67700</td>\n",
       "      <td>67700</td>\n",
       "      <td>67700</td>\n",
       "      <td>67700</td>\n",
       "      <td>67700</td>\n",
       "      <td>67700</td>\n",
       "      <td>67700</td>\n",
       "      <td>67700</td>\n",
       "      <td>67700</td>\n",
       "      <td>67700</td>\n",
       "      <td>67700</td>\n",
       "      <td>40.0</td>\n",
       "    </tr>\n",
       "    <tr>\n",
       "      <th>50.0</th>\n",
       "      <td>35126</td>\n",
       "      <td>35126</td>\n",
       "      <td>35126</td>\n",
       "      <td>35126</td>\n",
       "      <td>35126</td>\n",
       "      <td>35126</td>\n",
       "      <td>35126</td>\n",
       "      <td>35126</td>\n",
       "      <td>35126</td>\n",
       "      <td>35126</td>\n",
       "      <td>35126</td>\n",
       "      <td>50.0</td>\n",
       "    </tr>\n",
       "    <tr>\n",
       "      <th>60.0</th>\n",
       "      <td>21531</td>\n",
       "      <td>21531</td>\n",
       "      <td>21531</td>\n",
       "      <td>21531</td>\n",
       "      <td>21531</td>\n",
       "      <td>21531</td>\n",
       "      <td>21531</td>\n",
       "      <td>21531</td>\n",
       "      <td>21531</td>\n",
       "      <td>21531</td>\n",
       "      <td>21531</td>\n",
       "      <td>60.0</td>\n",
       "    </tr>\n",
       "    <tr>\n",
       "      <th>70.0</th>\n",
       "      <td>9763</td>\n",
       "      <td>9763</td>\n",
       "      <td>9763</td>\n",
       "      <td>9763</td>\n",
       "      <td>9763</td>\n",
       "      <td>9763</td>\n",
       "      <td>9763</td>\n",
       "      <td>9763</td>\n",
       "      <td>9763</td>\n",
       "      <td>9763</td>\n",
       "      <td>9763</td>\n",
       "      <td>70.0</td>\n",
       "    </tr>\n",
       "    <tr>\n",
       "      <th>80.0</th>\n",
       "      <td>4772</td>\n",
       "      <td>4772</td>\n",
       "      <td>4772</td>\n",
       "      <td>4772</td>\n",
       "      <td>4772</td>\n",
       "      <td>4772</td>\n",
       "      <td>4772</td>\n",
       "      <td>4772</td>\n",
       "      <td>4772</td>\n",
       "      <td>4772</td>\n",
       "      <td>4772</td>\n",
       "      <td>80.0</td>\n",
       "    </tr>\n",
       "    <tr>\n",
       "      <th>90.0</th>\n",
       "      <td>634</td>\n",
       "      <td>634</td>\n",
       "      <td>634</td>\n",
       "      <td>634</td>\n",
       "      <td>634</td>\n",
       "      <td>634</td>\n",
       "      <td>634</td>\n",
       "      <td>634</td>\n",
       "      <td>634</td>\n",
       "      <td>634</td>\n",
       "      <td>634</td>\n",
       "      <td>90.0</td>\n",
       "    </tr>\n",
       "    <tr>\n",
       "      <th>100.0</th>\n",
       "      <td>70</td>\n",
       "      <td>70</td>\n",
       "      <td>70</td>\n",
       "      <td>70</td>\n",
       "      <td>70</td>\n",
       "      <td>70</td>\n",
       "      <td>70</td>\n",
       "      <td>70</td>\n",
       "      <td>70</td>\n",
       "      <td>70</td>\n",
       "      <td>70</td>\n",
       "      <td>100.0</td>\n",
       "    </tr>\n",
       "  </tbody>\n",
       "</table>\n",
       "</div>"
      ],
      "text/plain": [
       "       client_id    sex  birth  product_id   date  session_id  quantity_sold  \\\n",
       "age                                                                            \n",
       "20.0       11643  11643  11643       11643  11643       11643          11643   \n",
       "30.0       17747  17747  17747       17747  17747       17747          17747   \n",
       "40.0       67700  67700  67700       67700  67700       67700          67700   \n",
       "50.0       35126  35126  35126       35126  35126       35126          35126   \n",
       "60.0       21531  21531  21531       21531  21531       21531          21531   \n",
       "70.0        9763   9763   9763        9763   9763        9763           9763   \n",
       "80.0        4772   4772   4772        4772   4772        4772           4772   \n",
       "90.0         634    634    634         634    634         634            634   \n",
       "100.0         70     70     70          70     70          70             70   \n",
       "\n",
       "       category  sub_category  price  stock_quantity    age  \n",
       "age                                                          \n",
       "20.0      11643         11643  11643           11643   20.0  \n",
       "30.0      17747         17747  17747           17747   30.0  \n",
       "40.0      67700         67700  67700           67700   40.0  \n",
       "50.0      35126         35126  35126           35126   50.0  \n",
       "60.0      21531         21531  21531           21531   60.0  \n",
       "70.0       9763          9763   9763            9763   70.0  \n",
       "80.0       4772          4772   4772            4772   80.0  \n",
       "90.0        634           634    634             634   90.0  \n",
       "100.0        70            70     70              70  100.0  "
      ]
     },
     "execution_count": 13,
     "metadata": {},
     "output_type": "execute_result"
    }
   ],
   "source": [
    "hommeh"
   ]
  },
  {
   "cell_type": "code",
   "execution_count": 14,
   "id": "5c9abece",
   "metadata": {},
   "outputs": [
    {
     "data": {
      "text/html": [
       "<div>\n",
       "<style scoped>\n",
       "    .dataframe tbody tr th:only-of-type {\n",
       "        vertical-align: middle;\n",
       "    }\n",
       "\n",
       "    .dataframe tbody tr th {\n",
       "        vertical-align: top;\n",
       "    }\n",
       "\n",
       "    .dataframe thead th {\n",
       "        text-align: right;\n",
       "    }\n",
       "</style>\n",
       "<table border=\"1\" class=\"dataframe\">\n",
       "  <thead>\n",
       "    <tr style=\"text-align: right;\">\n",
       "      <th></th>\n",
       "      <th>client_id</th>\n",
       "      <th>sex</th>\n",
       "      <th>birth</th>\n",
       "      <th>product_id</th>\n",
       "      <th>date</th>\n",
       "      <th>session_id</th>\n",
       "      <th>quantity_sold</th>\n",
       "      <th>category</th>\n",
       "      <th>sub_category</th>\n",
       "      <th>price</th>\n",
       "      <th>stock_quantity</th>\n",
       "      <th>age</th>\n",
       "    </tr>\n",
       "    <tr>\n",
       "      <th>age</th>\n",
       "      <th></th>\n",
       "      <th></th>\n",
       "      <th></th>\n",
       "      <th></th>\n",
       "      <th></th>\n",
       "      <th></th>\n",
       "      <th></th>\n",
       "      <th></th>\n",
       "      <th></th>\n",
       "      <th></th>\n",
       "      <th></th>\n",
       "      <th></th>\n",
       "    </tr>\n",
       "  </thead>\n",
       "  <tbody>\n",
       "    <tr>\n",
       "      <th>20.0</th>\n",
       "      <td>9325</td>\n",
       "      <td>9325</td>\n",
       "      <td>9325</td>\n",
       "      <td>9325</td>\n",
       "      <td>9325</td>\n",
       "      <td>9325</td>\n",
       "      <td>9325</td>\n",
       "      <td>9325</td>\n",
       "      <td>9325</td>\n",
       "      <td>9325</td>\n",
       "      <td>9325</td>\n",
       "      <td>20.0</td>\n",
       "    </tr>\n",
       "    <tr>\n",
       "      <th>30.0</th>\n",
       "      <td>17578</td>\n",
       "      <td>17578</td>\n",
       "      <td>17578</td>\n",
       "      <td>17578</td>\n",
       "      <td>17578</td>\n",
       "      <td>17578</td>\n",
       "      <td>17578</td>\n",
       "      <td>17578</td>\n",
       "      <td>17578</td>\n",
       "      <td>17578</td>\n",
       "      <td>17578</td>\n",
       "      <td>30.0</td>\n",
       "    </tr>\n",
       "    <tr>\n",
       "      <th>40.0</th>\n",
       "      <td>58021</td>\n",
       "      <td>58021</td>\n",
       "      <td>58021</td>\n",
       "      <td>58021</td>\n",
       "      <td>58021</td>\n",
       "      <td>58021</td>\n",
       "      <td>58021</td>\n",
       "      <td>58021</td>\n",
       "      <td>58021</td>\n",
       "      <td>58021</td>\n",
       "      <td>58021</td>\n",
       "      <td>40.0</td>\n",
       "    </tr>\n",
       "    <tr>\n",
       "      <th>50.0</th>\n",
       "      <td>39925</td>\n",
       "      <td>39925</td>\n",
       "      <td>39925</td>\n",
       "      <td>39925</td>\n",
       "      <td>39925</td>\n",
       "      <td>39925</td>\n",
       "      <td>39925</td>\n",
       "      <td>39925</td>\n",
       "      <td>39925</td>\n",
       "      <td>39925</td>\n",
       "      <td>39925</td>\n",
       "      <td>50.0</td>\n",
       "    </tr>\n",
       "    <tr>\n",
       "      <th>60.0</th>\n",
       "      <td>23944</td>\n",
       "      <td>23944</td>\n",
       "      <td>23944</td>\n",
       "      <td>23944</td>\n",
       "      <td>23944</td>\n",
       "      <td>23944</td>\n",
       "      <td>23944</td>\n",
       "      <td>23944</td>\n",
       "      <td>23944</td>\n",
       "      <td>23944</td>\n",
       "      <td>23944</td>\n",
       "      <td>60.0</td>\n",
       "    </tr>\n",
       "    <tr>\n",
       "      <th>70.0</th>\n",
       "      <td>11694</td>\n",
       "      <td>11694</td>\n",
       "      <td>11694</td>\n",
       "      <td>11694</td>\n",
       "      <td>11694</td>\n",
       "      <td>11694</td>\n",
       "      <td>11694</td>\n",
       "      <td>11694</td>\n",
       "      <td>11694</td>\n",
       "      <td>11694</td>\n",
       "      <td>11694</td>\n",
       "      <td>70.0</td>\n",
       "    </tr>\n",
       "    <tr>\n",
       "      <th>80.0</th>\n",
       "      <td>5210</td>\n",
       "      <td>5210</td>\n",
       "      <td>5210</td>\n",
       "      <td>5210</td>\n",
       "      <td>5210</td>\n",
       "      <td>5210</td>\n",
       "      <td>5210</td>\n",
       "      <td>5210</td>\n",
       "      <td>5210</td>\n",
       "      <td>5210</td>\n",
       "      <td>5210</td>\n",
       "      <td>80.0</td>\n",
       "    </tr>\n",
       "    <tr>\n",
       "      <th>90.0</th>\n",
       "      <td>1569</td>\n",
       "      <td>1569</td>\n",
       "      <td>1569</td>\n",
       "      <td>1569</td>\n",
       "      <td>1569</td>\n",
       "      <td>1569</td>\n",
       "      <td>1569</td>\n",
       "      <td>1569</td>\n",
       "      <td>1569</td>\n",
       "      <td>1569</td>\n",
       "      <td>1569</td>\n",
       "      <td>90.0</td>\n",
       "    </tr>\n",
       "    <tr>\n",
       "      <th>100.0</th>\n",
       "      <td>16</td>\n",
       "      <td>16</td>\n",
       "      <td>16</td>\n",
       "      <td>16</td>\n",
       "      <td>16</td>\n",
       "      <td>16</td>\n",
       "      <td>16</td>\n",
       "      <td>16</td>\n",
       "      <td>16</td>\n",
       "      <td>16</td>\n",
       "      <td>16</td>\n",
       "      <td>100.0</td>\n",
       "    </tr>\n",
       "  </tbody>\n",
       "</table>\n",
       "</div>"
      ],
      "text/plain": [
       "       client_id    sex  birth  product_id   date  session_id  quantity_sold  \\\n",
       "age                                                                            \n",
       "20.0        9325   9325   9325        9325   9325        9325           9325   \n",
       "30.0       17578  17578  17578       17578  17578       17578          17578   \n",
       "40.0       58021  58021  58021       58021  58021       58021          58021   \n",
       "50.0       39925  39925  39925       39925  39925       39925          39925   \n",
       "60.0       23944  23944  23944       23944  23944       23944          23944   \n",
       "70.0       11694  11694  11694       11694  11694       11694          11694   \n",
       "80.0        5210   5210   5210        5210   5210        5210           5210   \n",
       "90.0        1569   1569   1569        1569   1569        1569           1569   \n",
       "100.0         16     16     16          16     16          16             16   \n",
       "\n",
       "       category  sub_category  price  stock_quantity    age  \n",
       "age                                                          \n",
       "20.0       9325          9325   9325            9325   20.0  \n",
       "30.0      17578         17578  17578           17578   30.0  \n",
       "40.0      58021         58021  58021           58021   40.0  \n",
       "50.0      39925         39925  39925           39925   50.0  \n",
       "60.0      23944         23944  23944           23944   60.0  \n",
       "70.0      11694         11694  11694           11694   70.0  \n",
       "80.0       5210          5210   5210            5210   80.0  \n",
       "90.0       1569          1569   1569            1569   90.0  \n",
       "100.0        16            16     16              16  100.0  "
      ]
     },
     "execution_count": 14,
     "metadata": {},
     "output_type": "execute_result"
    }
   ],
   "source": [
    "femmef"
   ]
  },
  {
   "cell_type": "code",
   "execution_count": 15,
   "id": "5fc5494d",
   "metadata": {
    "scrolled": true
   },
   "outputs": [],
   "source": [
    "hommeh = hommeh[['age', 'sex']]\n",
    "femmef = femmef[['age', 'sex']]"
   ]
  },
  {
   "cell_type": "code",
   "execution_count": 16,
   "id": "a88e9252",
   "metadata": {},
   "outputs": [
    {
     "name": "stderr",
     "output_type": "stream",
     "text": [
      "/tmp/ipykernel_12479/1107343299.py:1: SettingWithCopyWarning:\n",
      "\n",
      "\n",
      "A value is trying to be set on a copy of a slice from a DataFrame.\n",
      "Try using .loc[row_indexer,col_indexer] = value instead\n",
      "\n",
      "See the caveats in the documentation: https://pandas.pydata.org/pandas-docs/stable/user_guide/indexing.html#returning-a-view-versus-a-copy\n",
      "\n"
     ]
    }
   ],
   "source": [
    "femmef['sex'] *= -1"
   ]
  },
  {
   "cell_type": "code",
   "execution_count": 18,
   "id": "ba128653",
   "metadata": {},
   "outputs": [
    {
     "data": {
      "application/vnd.plotly.v1+json": {
       "config": {
        "linkText": "Export to plot.ly",
        "plotlyServerURL": "https://plot.ly",
        "showLink": false
       },
       "data": [
        {
         "hoverinfo": "x",
         "marker": {
          "color": "blue"
         },
         "name": "maleh",
         "orientation": "h",
         "type": "bar",
         "x": [
          11643,
          17747,
          67700,
          35126,
          21531,
          9763,
          4772,
          634,
          70
         ],
         "y": [
          20,
          30,
          40,
          50,
          60,
          70,
          80,
          90,
          100
         ]
        },
        {
         "hoverinfo": "text",
         "marker": {
          "color": "pink"
         },
         "name": "femaleh",
         "orientation": "h",
         "text": [
          9325,
          17578,
          58021,
          39925,
          23944,
          11694,
          5210,
          1569,
          16
         ],
         "type": "bar",
         "x": [
          -9325,
          -17578,
          -58021,
          -39925,
          -23944,
          -11694,
          -5210,
          -1569,
          -16
         ],
         "y": [
          20,
          30,
          40,
          50,
          60,
          70,
          80,
          90,
          100
         ]
        }
       ],
       "layout": {
        "bargap": 0.1,
        "barmode": "overlay",
        "template": {
         "data": {
          "bar": [
           {
            "error_x": {
             "color": "#2a3f5f"
            },
            "error_y": {
             "color": "#2a3f5f"
            },
            "marker": {
             "line": {
              "color": "#E5ECF6",
              "width": 0.5
             },
             "pattern": {
              "fillmode": "overlay",
              "size": 10,
              "solidity": 0.2
             }
            },
            "type": "bar"
           }
          ],
          "barpolar": [
           {
            "marker": {
             "line": {
              "color": "#E5ECF6",
              "width": 0.5
             },
             "pattern": {
              "fillmode": "overlay",
              "size": 10,
              "solidity": 0.2
             }
            },
            "type": "barpolar"
           }
          ],
          "carpet": [
           {
            "aaxis": {
             "endlinecolor": "#2a3f5f",
             "gridcolor": "white",
             "linecolor": "white",
             "minorgridcolor": "white",
             "startlinecolor": "#2a3f5f"
            },
            "baxis": {
             "endlinecolor": "#2a3f5f",
             "gridcolor": "white",
             "linecolor": "white",
             "minorgridcolor": "white",
             "startlinecolor": "#2a3f5f"
            },
            "type": "carpet"
           }
          ],
          "choropleth": [
           {
            "colorbar": {
             "outlinewidth": 0,
             "ticks": ""
            },
            "type": "choropleth"
           }
          ],
          "contour": [
           {
            "colorbar": {
             "outlinewidth": 0,
             "ticks": ""
            },
            "colorscale": [
             [
              0,
              "#0d0887"
             ],
             [
              0.1111111111111111,
              "#46039f"
             ],
             [
              0.2222222222222222,
              "#7201a8"
             ],
             [
              0.3333333333333333,
              "#9c179e"
             ],
             [
              0.4444444444444444,
              "#bd3786"
             ],
             [
              0.5555555555555556,
              "#d8576b"
             ],
             [
              0.6666666666666666,
              "#ed7953"
             ],
             [
              0.7777777777777778,
              "#fb9f3a"
             ],
             [
              0.8888888888888888,
              "#fdca26"
             ],
             [
              1,
              "#f0f921"
             ]
            ],
            "type": "contour"
           }
          ],
          "contourcarpet": [
           {
            "colorbar": {
             "outlinewidth": 0,
             "ticks": ""
            },
            "type": "contourcarpet"
           }
          ],
          "heatmap": [
           {
            "colorbar": {
             "outlinewidth": 0,
             "ticks": ""
            },
            "colorscale": [
             [
              0,
              "#0d0887"
             ],
             [
              0.1111111111111111,
              "#46039f"
             ],
             [
              0.2222222222222222,
              "#7201a8"
             ],
             [
              0.3333333333333333,
              "#9c179e"
             ],
             [
              0.4444444444444444,
              "#bd3786"
             ],
             [
              0.5555555555555556,
              "#d8576b"
             ],
             [
              0.6666666666666666,
              "#ed7953"
             ],
             [
              0.7777777777777778,
              "#fb9f3a"
             ],
             [
              0.8888888888888888,
              "#fdca26"
             ],
             [
              1,
              "#f0f921"
             ]
            ],
            "type": "heatmap"
           }
          ],
          "heatmapgl": [
           {
            "colorbar": {
             "outlinewidth": 0,
             "ticks": ""
            },
            "colorscale": [
             [
              0,
              "#0d0887"
             ],
             [
              0.1111111111111111,
              "#46039f"
             ],
             [
              0.2222222222222222,
              "#7201a8"
             ],
             [
              0.3333333333333333,
              "#9c179e"
             ],
             [
              0.4444444444444444,
              "#bd3786"
             ],
             [
              0.5555555555555556,
              "#d8576b"
             ],
             [
              0.6666666666666666,
              "#ed7953"
             ],
             [
              0.7777777777777778,
              "#fb9f3a"
             ],
             [
              0.8888888888888888,
              "#fdca26"
             ],
             [
              1,
              "#f0f921"
             ]
            ],
            "type": "heatmapgl"
           }
          ],
          "histogram": [
           {
            "marker": {
             "pattern": {
              "fillmode": "overlay",
              "size": 10,
              "solidity": 0.2
             }
            },
            "type": "histogram"
           }
          ],
          "histogram2d": [
           {
            "colorbar": {
             "outlinewidth": 0,
             "ticks": ""
            },
            "colorscale": [
             [
              0,
              "#0d0887"
             ],
             [
              0.1111111111111111,
              "#46039f"
             ],
             [
              0.2222222222222222,
              "#7201a8"
             ],
             [
              0.3333333333333333,
              "#9c179e"
             ],
             [
              0.4444444444444444,
              "#bd3786"
             ],
             [
              0.5555555555555556,
              "#d8576b"
             ],
             [
              0.6666666666666666,
              "#ed7953"
             ],
             [
              0.7777777777777778,
              "#fb9f3a"
             ],
             [
              0.8888888888888888,
              "#fdca26"
             ],
             [
              1,
              "#f0f921"
             ]
            ],
            "type": "histogram2d"
           }
          ],
          "histogram2dcontour": [
           {
            "colorbar": {
             "outlinewidth": 0,
             "ticks": ""
            },
            "colorscale": [
             [
              0,
              "#0d0887"
             ],
             [
              0.1111111111111111,
              "#46039f"
             ],
             [
              0.2222222222222222,
              "#7201a8"
             ],
             [
              0.3333333333333333,
              "#9c179e"
             ],
             [
              0.4444444444444444,
              "#bd3786"
             ],
             [
              0.5555555555555556,
              "#d8576b"
             ],
             [
              0.6666666666666666,
              "#ed7953"
             ],
             [
              0.7777777777777778,
              "#fb9f3a"
             ],
             [
              0.8888888888888888,
              "#fdca26"
             ],
             [
              1,
              "#f0f921"
             ]
            ],
            "type": "histogram2dcontour"
           }
          ],
          "mesh3d": [
           {
            "colorbar": {
             "outlinewidth": 0,
             "ticks": ""
            },
            "type": "mesh3d"
           }
          ],
          "parcoords": [
           {
            "line": {
             "colorbar": {
              "outlinewidth": 0,
              "ticks": ""
             }
            },
            "type": "parcoords"
           }
          ],
          "pie": [
           {
            "automargin": true,
            "type": "pie"
           }
          ],
          "scatter": [
           {
            "fillpattern": {
             "fillmode": "overlay",
             "size": 10,
             "solidity": 0.2
            },
            "type": "scatter"
           }
          ],
          "scatter3d": [
           {
            "line": {
             "colorbar": {
              "outlinewidth": 0,
              "ticks": ""
             }
            },
            "marker": {
             "colorbar": {
              "outlinewidth": 0,
              "ticks": ""
             }
            },
            "type": "scatter3d"
           }
          ],
          "scattercarpet": [
           {
            "marker": {
             "colorbar": {
              "outlinewidth": 0,
              "ticks": ""
             }
            },
            "type": "scattercarpet"
           }
          ],
          "scattergeo": [
           {
            "marker": {
             "colorbar": {
              "outlinewidth": 0,
              "ticks": ""
             }
            },
            "type": "scattergeo"
           }
          ],
          "scattergl": [
           {
            "marker": {
             "colorbar": {
              "outlinewidth": 0,
              "ticks": ""
             }
            },
            "type": "scattergl"
           }
          ],
          "scattermapbox": [
           {
            "marker": {
             "colorbar": {
              "outlinewidth": 0,
              "ticks": ""
             }
            },
            "type": "scattermapbox"
           }
          ],
          "scatterpolar": [
           {
            "marker": {
             "colorbar": {
              "outlinewidth": 0,
              "ticks": ""
             }
            },
            "type": "scatterpolar"
           }
          ],
          "scatterpolargl": [
           {
            "marker": {
             "colorbar": {
              "outlinewidth": 0,
              "ticks": ""
             }
            },
            "type": "scatterpolargl"
           }
          ],
          "scatterternary": [
           {
            "marker": {
             "colorbar": {
              "outlinewidth": 0,
              "ticks": ""
             }
            },
            "type": "scatterternary"
           }
          ],
          "surface": [
           {
            "colorbar": {
             "outlinewidth": 0,
             "ticks": ""
            },
            "colorscale": [
             [
              0,
              "#0d0887"
             ],
             [
              0.1111111111111111,
              "#46039f"
             ],
             [
              0.2222222222222222,
              "#7201a8"
             ],
             [
              0.3333333333333333,
              "#9c179e"
             ],
             [
              0.4444444444444444,
              "#bd3786"
             ],
             [
              0.5555555555555556,
              "#d8576b"
             ],
             [
              0.6666666666666666,
              "#ed7953"
             ],
             [
              0.7777777777777778,
              "#fb9f3a"
             ],
             [
              0.8888888888888888,
              "#fdca26"
             ],
             [
              1,
              "#f0f921"
             ]
            ],
            "type": "surface"
           }
          ],
          "table": [
           {
            "cells": {
             "fill": {
              "color": "#EBF0F8"
             },
             "line": {
              "color": "white"
             }
            },
            "header": {
             "fill": {
              "color": "#C8D4E3"
             },
             "line": {
              "color": "white"
             }
            },
            "type": "table"
           }
          ]
         },
         "layout": {
          "annotationdefaults": {
           "arrowcolor": "#2a3f5f",
           "arrowhead": 0,
           "arrowwidth": 1
          },
          "autotypenumbers": "strict",
          "coloraxis": {
           "colorbar": {
            "outlinewidth": 0,
            "ticks": ""
           }
          },
          "colorscale": {
           "diverging": [
            [
             0,
             "#8e0152"
            ],
            [
             0.1,
             "#c51b7d"
            ],
            [
             0.2,
             "#de77ae"
            ],
            [
             0.3,
             "#f1b6da"
            ],
            [
             0.4,
             "#fde0ef"
            ],
            [
             0.5,
             "#f7f7f7"
            ],
            [
             0.6,
             "#e6f5d0"
            ],
            [
             0.7,
             "#b8e186"
            ],
            [
             0.8,
             "#7fbc41"
            ],
            [
             0.9,
             "#4d9221"
            ],
            [
             1,
             "#276419"
            ]
           ],
           "sequential": [
            [
             0,
             "#0d0887"
            ],
            [
             0.1111111111111111,
             "#46039f"
            ],
            [
             0.2222222222222222,
             "#7201a8"
            ],
            [
             0.3333333333333333,
             "#9c179e"
            ],
            [
             0.4444444444444444,
             "#bd3786"
            ],
            [
             0.5555555555555556,
             "#d8576b"
            ],
            [
             0.6666666666666666,
             "#ed7953"
            ],
            [
             0.7777777777777778,
             "#fb9f3a"
            ],
            [
             0.8888888888888888,
             "#fdca26"
            ],
            [
             1,
             "#f0f921"
            ]
           ],
           "sequentialminus": [
            [
             0,
             "#0d0887"
            ],
            [
             0.1111111111111111,
             "#46039f"
            ],
            [
             0.2222222222222222,
             "#7201a8"
            ],
            [
             0.3333333333333333,
             "#9c179e"
            ],
            [
             0.4444444444444444,
             "#bd3786"
            ],
            [
             0.5555555555555556,
             "#d8576b"
            ],
            [
             0.6666666666666666,
             "#ed7953"
            ],
            [
             0.7777777777777778,
             "#fb9f3a"
            ],
            [
             0.8888888888888888,
             "#fdca26"
            ],
            [
             1,
             "#f0f921"
            ]
           ]
          },
          "colorway": [
           "#636efa",
           "#EF553B",
           "#00cc96",
           "#ab63fa",
           "#FFA15A",
           "#19d3f3",
           "#FF6692",
           "#B6E880",
           "#FF97FF",
           "#FECB52"
          ],
          "font": {
           "color": "#2a3f5f"
          },
          "geo": {
           "bgcolor": "white",
           "lakecolor": "white",
           "landcolor": "#E5ECF6",
           "showlakes": true,
           "showland": true,
           "subunitcolor": "white"
          },
          "hoverlabel": {
           "align": "left"
          },
          "hovermode": "closest",
          "mapbox": {
           "style": "light"
          },
          "paper_bgcolor": "white",
          "plot_bgcolor": "#E5ECF6",
          "polar": {
           "angularaxis": {
            "gridcolor": "white",
            "linecolor": "white",
            "ticks": ""
           },
           "bgcolor": "#E5ECF6",
           "radialaxis": {
            "gridcolor": "white",
            "linecolor": "white",
            "ticks": ""
           }
          },
          "scene": {
           "xaxis": {
            "backgroundcolor": "#E5ECF6",
            "gridcolor": "white",
            "gridwidth": 2,
            "linecolor": "white",
            "showbackground": true,
            "ticks": "",
            "zerolinecolor": "white"
           },
           "yaxis": {
            "backgroundcolor": "#E5ECF6",
            "gridcolor": "white",
            "gridwidth": 2,
            "linecolor": "white",
            "showbackground": true,
            "ticks": "",
            "zerolinecolor": "white"
           },
           "zaxis": {
            "backgroundcolor": "#E5ECF6",
            "gridcolor": "white",
            "gridwidth": 2,
            "linecolor": "white",
            "showbackground": true,
            "ticks": "",
            "zerolinecolor": "white"
           }
          },
          "shapedefaults": {
           "line": {
            "color": "#2a3f5f"
           }
          },
          "ternary": {
           "aaxis": {
            "gridcolor": "white",
            "linecolor": "white",
            "ticks": ""
           },
           "baxis": {
            "gridcolor": "white",
            "linecolor": "white",
            "ticks": ""
           },
           "bgcolor": "#E5ECF6",
           "caxis": {
            "gridcolor": "white",
            "linecolor": "white",
            "ticks": ""
           }
          },
          "title": {
           "x": 0.05
          },
          "xaxis": {
           "automargin": true,
           "gridcolor": "white",
           "linecolor": "white",
           "ticks": "",
           "title": {
            "standoff": 15
           },
           "zerolinecolor": "white",
           "zerolinewidth": 2
          },
          "yaxis": {
           "automargin": true,
           "gridcolor": "white",
           "linecolor": "white",
           "ticks": "",
           "title": {
            "standoff": 15
           },
           "zerolinecolor": "white",
           "zerolinewidth": 2
          }
         }
        },
        "xaxis": {
         "range": [
          -70000,
          70000
         ],
         "ticktext": [
          70000,
          45000,
          20000,
          0,
          20000,
          45000,
          70000
         ],
         "tickvals": [
          -70000,
          -45000,
          -20000,
          0,
          20000,
          45000,
          70000
         ],
         "title": {
          "text": "Sales by gender and age"
         }
        },
        "yaxis": {
         "title": {
          "text": "Age"
         }
        }
       }
      },
      "text/html": [
       "<div>                            <div id=\"0906f96d-d831-45d8-a285-b57a4ce063ed\" class=\"plotly-graph-div\" style=\"height:525px; width:100%;\"></div>            <script type=\"text/javascript\">                require([\"plotly\"], function(Plotly) {                    window.PLOTLYENV=window.PLOTLYENV || {};                                    if (document.getElementById(\"0906f96d-d831-45d8-a285-b57a4ce063ed\")) {                    Plotly.newPlot(                        \"0906f96d-d831-45d8-a285-b57a4ce063ed\",                        [{\"hoverinfo\":\"x\",\"marker\":{\"color\":\"blue\"},\"name\":\"maleh\",\"orientation\":\"h\",\"x\":[11643,17747,67700,35126,21531,9763,4772,634,70],\"y\":[20.0,30.0,40.0,50.0,60.0,70.0,80.0,90.0,100.0],\"type\":\"bar\"},{\"hoverinfo\":\"text\",\"marker\":{\"color\":\"pink\"},\"name\":\"femaleh\",\"orientation\":\"h\",\"text\":[9325.0,17578.0,58021.0,39925.0,23944.0,11694.0,5210.0,1569.0,16.0],\"x\":[-9325,-17578,-58021,-39925,-23944,-11694,-5210,-1569,-16],\"y\":[20.0,30.0,40.0,50.0,60.0,70.0,80.0,90.0,100.0],\"type\":\"bar\"}],                        {\"bargap\":0.1,\"barmode\":\"overlay\",\"template\":{\"data\":{\"barpolar\":[{\"marker\":{\"line\":{\"color\":\"#E5ECF6\",\"width\":0.5},\"pattern\":{\"fillmode\":\"overlay\",\"size\":10,\"solidity\":0.2}},\"type\":\"barpolar\"}],\"bar\":[{\"error_x\":{\"color\":\"#2a3f5f\"},\"error_y\":{\"color\":\"#2a3f5f\"},\"marker\":{\"line\":{\"color\":\"#E5ECF6\",\"width\":0.5},\"pattern\":{\"fillmode\":\"overlay\",\"size\":10,\"solidity\":0.2}},\"type\":\"bar\"}],\"carpet\":[{\"aaxis\":{\"endlinecolor\":\"#2a3f5f\",\"gridcolor\":\"white\",\"linecolor\":\"white\",\"minorgridcolor\":\"white\",\"startlinecolor\":\"#2a3f5f\"},\"baxis\":{\"endlinecolor\":\"#2a3f5f\",\"gridcolor\":\"white\",\"linecolor\":\"white\",\"minorgridcolor\":\"white\",\"startlinecolor\":\"#2a3f5f\"},\"type\":\"carpet\"}],\"choropleth\":[{\"colorbar\":{\"outlinewidth\":0,\"ticks\":\"\"},\"type\":\"choropleth\"}],\"contourcarpet\":[{\"colorbar\":{\"outlinewidth\":0,\"ticks\":\"\"},\"type\":\"contourcarpet\"}],\"contour\":[{\"colorbar\":{\"outlinewidth\":0,\"ticks\":\"\"},\"colorscale\":[[0.0,\"#0d0887\"],[0.1111111111111111,\"#46039f\"],[0.2222222222222222,\"#7201a8\"],[0.3333333333333333,\"#9c179e\"],[0.4444444444444444,\"#bd3786\"],[0.5555555555555556,\"#d8576b\"],[0.6666666666666666,\"#ed7953\"],[0.7777777777777778,\"#fb9f3a\"],[0.8888888888888888,\"#fdca26\"],[1.0,\"#f0f921\"]],\"type\":\"contour\"}],\"heatmapgl\":[{\"colorbar\":{\"outlinewidth\":0,\"ticks\":\"\"},\"colorscale\":[[0.0,\"#0d0887\"],[0.1111111111111111,\"#46039f\"],[0.2222222222222222,\"#7201a8\"],[0.3333333333333333,\"#9c179e\"],[0.4444444444444444,\"#bd3786\"],[0.5555555555555556,\"#d8576b\"],[0.6666666666666666,\"#ed7953\"],[0.7777777777777778,\"#fb9f3a\"],[0.8888888888888888,\"#fdca26\"],[1.0,\"#f0f921\"]],\"type\":\"heatmapgl\"}],\"heatmap\":[{\"colorbar\":{\"outlinewidth\":0,\"ticks\":\"\"},\"colorscale\":[[0.0,\"#0d0887\"],[0.1111111111111111,\"#46039f\"],[0.2222222222222222,\"#7201a8\"],[0.3333333333333333,\"#9c179e\"],[0.4444444444444444,\"#bd3786\"],[0.5555555555555556,\"#d8576b\"],[0.6666666666666666,\"#ed7953\"],[0.7777777777777778,\"#fb9f3a\"],[0.8888888888888888,\"#fdca26\"],[1.0,\"#f0f921\"]],\"type\":\"heatmap\"}],\"histogram2dcontour\":[{\"colorbar\":{\"outlinewidth\":0,\"ticks\":\"\"},\"colorscale\":[[0.0,\"#0d0887\"],[0.1111111111111111,\"#46039f\"],[0.2222222222222222,\"#7201a8\"],[0.3333333333333333,\"#9c179e\"],[0.4444444444444444,\"#bd3786\"],[0.5555555555555556,\"#d8576b\"],[0.6666666666666666,\"#ed7953\"],[0.7777777777777778,\"#fb9f3a\"],[0.8888888888888888,\"#fdca26\"],[1.0,\"#f0f921\"]],\"type\":\"histogram2dcontour\"}],\"histogram2d\":[{\"colorbar\":{\"outlinewidth\":0,\"ticks\":\"\"},\"colorscale\":[[0.0,\"#0d0887\"],[0.1111111111111111,\"#46039f\"],[0.2222222222222222,\"#7201a8\"],[0.3333333333333333,\"#9c179e\"],[0.4444444444444444,\"#bd3786\"],[0.5555555555555556,\"#d8576b\"],[0.6666666666666666,\"#ed7953\"],[0.7777777777777778,\"#fb9f3a\"],[0.8888888888888888,\"#fdca26\"],[1.0,\"#f0f921\"]],\"type\":\"histogram2d\"}],\"histogram\":[{\"marker\":{\"pattern\":{\"fillmode\":\"overlay\",\"size\":10,\"solidity\":0.2}},\"type\":\"histogram\"}],\"mesh3d\":[{\"colorbar\":{\"outlinewidth\":0,\"ticks\":\"\"},\"type\":\"mesh3d\"}],\"parcoords\":[{\"line\":{\"colorbar\":{\"outlinewidth\":0,\"ticks\":\"\"}},\"type\":\"parcoords\"}],\"pie\":[{\"automargin\":true,\"type\":\"pie\"}],\"scatter3d\":[{\"line\":{\"colorbar\":{\"outlinewidth\":0,\"ticks\":\"\"}},\"marker\":{\"colorbar\":{\"outlinewidth\":0,\"ticks\":\"\"}},\"type\":\"scatter3d\"}],\"scattercarpet\":[{\"marker\":{\"colorbar\":{\"outlinewidth\":0,\"ticks\":\"\"}},\"type\":\"scattercarpet\"}],\"scattergeo\":[{\"marker\":{\"colorbar\":{\"outlinewidth\":0,\"ticks\":\"\"}},\"type\":\"scattergeo\"}],\"scattergl\":[{\"marker\":{\"colorbar\":{\"outlinewidth\":0,\"ticks\":\"\"}},\"type\":\"scattergl\"}],\"scattermapbox\":[{\"marker\":{\"colorbar\":{\"outlinewidth\":0,\"ticks\":\"\"}},\"type\":\"scattermapbox\"}],\"scatterpolargl\":[{\"marker\":{\"colorbar\":{\"outlinewidth\":0,\"ticks\":\"\"}},\"type\":\"scatterpolargl\"}],\"scatterpolar\":[{\"marker\":{\"colorbar\":{\"outlinewidth\":0,\"ticks\":\"\"}},\"type\":\"scatterpolar\"}],\"scatter\":[{\"fillpattern\":{\"fillmode\":\"overlay\",\"size\":10,\"solidity\":0.2},\"type\":\"scatter\"}],\"scatterternary\":[{\"marker\":{\"colorbar\":{\"outlinewidth\":0,\"ticks\":\"\"}},\"type\":\"scatterternary\"}],\"surface\":[{\"colorbar\":{\"outlinewidth\":0,\"ticks\":\"\"},\"colorscale\":[[0.0,\"#0d0887\"],[0.1111111111111111,\"#46039f\"],[0.2222222222222222,\"#7201a8\"],[0.3333333333333333,\"#9c179e\"],[0.4444444444444444,\"#bd3786\"],[0.5555555555555556,\"#d8576b\"],[0.6666666666666666,\"#ed7953\"],[0.7777777777777778,\"#fb9f3a\"],[0.8888888888888888,\"#fdca26\"],[1.0,\"#f0f921\"]],\"type\":\"surface\"}],\"table\":[{\"cells\":{\"fill\":{\"color\":\"#EBF0F8\"},\"line\":{\"color\":\"white\"}},\"header\":{\"fill\":{\"color\":\"#C8D4E3\"},\"line\":{\"color\":\"white\"}},\"type\":\"table\"}]},\"layout\":{\"annotationdefaults\":{\"arrowcolor\":\"#2a3f5f\",\"arrowhead\":0,\"arrowwidth\":1},\"autotypenumbers\":\"strict\",\"coloraxis\":{\"colorbar\":{\"outlinewidth\":0,\"ticks\":\"\"}},\"colorscale\":{\"diverging\":[[0,\"#8e0152\"],[0.1,\"#c51b7d\"],[0.2,\"#de77ae\"],[0.3,\"#f1b6da\"],[0.4,\"#fde0ef\"],[0.5,\"#f7f7f7\"],[0.6,\"#e6f5d0\"],[0.7,\"#b8e186\"],[0.8,\"#7fbc41\"],[0.9,\"#4d9221\"],[1,\"#276419\"]],\"sequential\":[[0.0,\"#0d0887\"],[0.1111111111111111,\"#46039f\"],[0.2222222222222222,\"#7201a8\"],[0.3333333333333333,\"#9c179e\"],[0.4444444444444444,\"#bd3786\"],[0.5555555555555556,\"#d8576b\"],[0.6666666666666666,\"#ed7953\"],[0.7777777777777778,\"#fb9f3a\"],[0.8888888888888888,\"#fdca26\"],[1.0,\"#f0f921\"]],\"sequentialminus\":[[0.0,\"#0d0887\"],[0.1111111111111111,\"#46039f\"],[0.2222222222222222,\"#7201a8\"],[0.3333333333333333,\"#9c179e\"],[0.4444444444444444,\"#bd3786\"],[0.5555555555555556,\"#d8576b\"],[0.6666666666666666,\"#ed7953\"],[0.7777777777777778,\"#fb9f3a\"],[0.8888888888888888,\"#fdca26\"],[1.0,\"#f0f921\"]]},\"colorway\":[\"#636efa\",\"#EF553B\",\"#00cc96\",\"#ab63fa\",\"#FFA15A\",\"#19d3f3\",\"#FF6692\",\"#B6E880\",\"#FF97FF\",\"#FECB52\"],\"font\":{\"color\":\"#2a3f5f\"},\"geo\":{\"bgcolor\":\"white\",\"lakecolor\":\"white\",\"landcolor\":\"#E5ECF6\",\"showlakes\":true,\"showland\":true,\"subunitcolor\":\"white\"},\"hoverlabel\":{\"align\":\"left\"},\"hovermode\":\"closest\",\"mapbox\":{\"style\":\"light\"},\"paper_bgcolor\":\"white\",\"plot_bgcolor\":\"#E5ECF6\",\"polar\":{\"angularaxis\":{\"gridcolor\":\"white\",\"linecolor\":\"white\",\"ticks\":\"\"},\"bgcolor\":\"#E5ECF6\",\"radialaxis\":{\"gridcolor\":\"white\",\"linecolor\":\"white\",\"ticks\":\"\"}},\"scene\":{\"xaxis\":{\"backgroundcolor\":\"#E5ECF6\",\"gridcolor\":\"white\",\"gridwidth\":2,\"linecolor\":\"white\",\"showbackground\":true,\"ticks\":\"\",\"zerolinecolor\":\"white\"},\"yaxis\":{\"backgroundcolor\":\"#E5ECF6\",\"gridcolor\":\"white\",\"gridwidth\":2,\"linecolor\":\"white\",\"showbackground\":true,\"ticks\":\"\",\"zerolinecolor\":\"white\"},\"zaxis\":{\"backgroundcolor\":\"#E5ECF6\",\"gridcolor\":\"white\",\"gridwidth\":2,\"linecolor\":\"white\",\"showbackground\":true,\"ticks\":\"\",\"zerolinecolor\":\"white\"}},\"shapedefaults\":{\"line\":{\"color\":\"#2a3f5f\"}},\"ternary\":{\"aaxis\":{\"gridcolor\":\"white\",\"linecolor\":\"white\",\"ticks\":\"\"},\"baxis\":{\"gridcolor\":\"white\",\"linecolor\":\"white\",\"ticks\":\"\"},\"bgcolor\":\"#E5ECF6\",\"caxis\":{\"gridcolor\":\"white\",\"linecolor\":\"white\",\"ticks\":\"\"}},\"title\":{\"x\":0.05},\"xaxis\":{\"automargin\":true,\"gridcolor\":\"white\",\"linecolor\":\"white\",\"ticks\":\"\",\"title\":{\"standoff\":15},\"zerolinecolor\":\"white\",\"zerolinewidth\":2},\"yaxis\":{\"automargin\":true,\"gridcolor\":\"white\",\"linecolor\":\"white\",\"ticks\":\"\",\"title\":{\"standoff\":15},\"zerolinecolor\":\"white\",\"zerolinewidth\":2}}},\"xaxis\":{\"range\":[-70000,70000],\"ticktext\":[70000,45000,20000,0,20000,45000,70000],\"tickvals\":[-70000,-45000,-20000,0,20000,45000,70000],\"title\":{\"text\":\"Sales by gender and age\"}},\"yaxis\":{\"title\":{\"text\":\"Age\"}}},                        {\"responsive\": true}                    ).then(function(){\n",
       "                            \n",
       "var gd = document.getElementById('0906f96d-d831-45d8-a285-b57a4ce063ed');\n",
       "var x = new MutationObserver(function (mutations, observer) {{\n",
       "        var display = window.getComputedStyle(gd).display;\n",
       "        if (!display || display === 'none') {{\n",
       "            console.log([gd, 'removed!']);\n",
       "            Plotly.purge(gd);\n",
       "            observer.disconnect();\n",
       "        }}\n",
       "}});\n",
       "\n",
       "// Listen for the removal of the full notebook cells\n",
       "var notebookContainer = gd.closest('#notebook-container');\n",
       "if (notebookContainer) {{\n",
       "    x.observe(notebookContainer, {childList: true});\n",
       "}}\n",
       "\n",
       "// Listen for the clearing of the current output cell\n",
       "var outputEl = gd.closest('.output');\n",
       "if (outputEl) {{\n",
       "    x.observe(outputEl, {childList: true});\n",
       "}}\n",
       "\n",
       "                        })                };                });            </script>        </div>"
      ]
     },
     "metadata": {},
     "output_type": "display_data"
    }
   ],
   "source": [
    "women_bins = femmef['sex']\n",
    "men_bins = hommeh['sex']\n",
    "\n",
    "y = hommeh['age']\n",
    "\n",
    "layout = go.Layout(yaxis=go.layout.YAxis(title='Age'),\n",
    "                   xaxis=go.layout.XAxis(\n",
    "                       range=[-70000, 70000],\n",
    "                       tickvals=[-70000, -45000, -20000, 0, 20000, 45000, 70000],\n",
    "                       ticktext=[70000, 45000, 20000, 0, 20000, 45000, 70000],\n",
    "                       title=\"Sales by gender and age\"),\n",
    "                   barmode='overlay',\n",
    "                   bargap=0.1)\n",
    "\n",
    "data = [go.Bar(y=y,\n",
    "               x=men_bins,\n",
    "               orientation='h',\n",
    "               name='maleh',\n",
    "               hoverinfo='x',\n",
    "               marker=dict(color='blue')\n",
    "               ),\n",
    "        go.Bar(y=y,\n",
    "               x=women_bins,\n",
    "               orientation='h',\n",
    "               name='femaleh',\n",
    "               text=-1 * women_bins.astype('int'),\n",
    "               hoverinfo='text',\n",
    "               marker=dict(color='pink')\n",
    "               )]\n",
    "\n",
    "py.iplot(dict(data=data, layout=layout), filename='EXAMPLES/bar_pyramid')"
   ]
  },
  {
   "cell_type": "markdown",
   "id": "69d9106c",
   "metadata": {},
   "source": [
    "## bivarié Ventes dans le temp par categories - FLEMME PAS FINIT"
   ]
  },
  {
   "cell_type": "code",
   "execution_count": null,
   "id": "ad557fa4",
   "metadata": {},
   "outputs": [],
   "source": [
    "df_time = df.copy().dropna()"
   ]
  },
  {
   "cell_type": "code",
   "execution_count": null,
   "id": "a3d76f4a",
   "metadata": {},
   "outputs": [],
   "source": [
    "df_time['date'] = df_time['date'].dt.date"
   ]
  },
  {
   "cell_type": "code",
   "execution_count": null,
   "id": "ac5be243",
   "metadata": {},
   "outputs": [],
   "source": [
    "truc = {'time': ['year', 'month', 'day'], 'categ': ['category', \"sub\"]}"
   ]
  },
  {
   "cell_type": "code",
   "execution_count": null,
   "id": "a2a03125",
   "metadata": {},
   "outputs": [],
   "source": [
    "for i in truc['time']:\n",
    "    print(i)"
   ]
  },
  {
   "cell_type": "code",
   "execution_count": null,
   "id": "dbf7da8d",
   "metadata": {},
   "outputs": [],
   "source": [
    "# for i in truc['categ']:\n",
    "#     sns.countplot(data=df_time, x=df_time['date'].dt.year, hue=u)\n",
    "#     sns.countplot(data=df_time, x=df_time['date'].dt.month, hue=u)\n",
    "#     sns.countplot(data=df_time, x=df_time['date'].dt.day, hue=u)"
   ]
  },
  {
   "cell_type": "markdown",
   "id": "b82751d5",
   "metadata": {},
   "source": [
    "## Uni-varié Ventes par categories"
   ]
  },
  {
   "cell_type": "code",
   "execution_count": null,
   "id": "5b71ebb1",
   "metadata": {
    "scrolled": true
   },
   "outputs": [],
   "source": [
    "sns.countplot(data=df, x=df['category'])"
   ]
  }
 ],
 "metadata": {
  "kernelspec": {
   "display_name": "Python 3 (ipykernel)",
   "language": "python",
   "name": "python3"
  },
  "language_info": {
   "codemirror_mode": {
    "name": "ipython",
    "version": 3
   },
   "file_extension": ".py",
   "mimetype": "text/x-python",
   "name": "python",
   "nbconvert_exporter": "python",
   "pygments_lexer": "ipython3",
   "version": "3.8.12"
  },
  "toc": {
   "base_numbering": 1,
   "nav_menu": {},
   "number_sections": true,
   "sideBar": true,
   "skip_h1_title": false,
   "title_cell": "Table of Contents",
   "title_sidebar": "Contents",
   "toc_cell": false,
   "toc_position": {},
   "toc_section_display": true,
   "toc_window_display": false
  }
 },
 "nbformat": 4,
 "nbformat_minor": 5
}
