{
 "cells": [
  {
   "cell_type": "code",
   "execution_count": 1,
   "metadata": {},
   "outputs": [],
   "source": [
    "SPARK_LOCAL_IP=\"127.0.0.1\"\n",
    "\n",
    "from pyspark.sql import SparkSession, Window\n",
    "import pyspark.sql.functions as F\n",
    "from pyspark.sql.types import *\n",
    "\n",
    "import time\n",
    "\n",
    "spark = SparkSession.builder.config(\"spark.sql.repl.eagerEval.enabled\", True).getOrCreate()"
   ]
  },
  {
   "cell_type": "code",
   "execution_count": 2,
   "metadata": {},
   "outputs": [],
   "source": [
    "# Creation du Dataframe"
   ]
  },
  {
   "cell_type": "code",
   "execution_count": 3,
   "metadata": {},
   "outputs": [],
   "source": [
    "matrix = [\n",
    "[' Ricky', 4879320143, '2022-09-05 11:23:59', True],\n",
    "['Simon', 4879320143, '2022-09-05 11:23:59', True],\n",
    "['Sergio', 4879320143, '2022-09-05 11:23:59', True],\n",
    "['Pedrito', 4879320143, '2022-09-07 11:23:59', True],\n",
    "['jJuenito', 4879320143, '2022-09-08 11:23:59', True],\n",
    "['Pepe', 4879320143, '2022-09-09 11:23:59', True],\n",
    "['Liusa', 4879320143, '2022-09-05 11:23:59', True],\n",
    "]\n",
    "\n",
    "columns = ['name', 'dni', 'date', 'is_human']\n",
    "\n",
    "spark_df = spark.createDataFrame(matrix, columns)"
   ]
  },
  {
   "cell_type": "code",
   "execution_count": 4,
   "metadata": {},
   "outputs": [
    {
     "data": {
      "text/html": [
       "<table border='1'>\n",
       "<tr><th>name</th><th>dni</th><th>date</th><th>is_human</th></tr>\n",
       "<tr><td> Ricky</td><td>4879320143</td><td>2022-09-05 11:23:59</td><td>true</td></tr>\n",
       "<tr><td>Simon</td><td>4879320143</td><td>2022-09-05 11:23:59</td><td>true</td></tr>\n",
       "<tr><td>Sergio</td><td>4879320143</td><td>2022-09-05 11:23:59</td><td>true</td></tr>\n",
       "<tr><td>Pedrito</td><td>4879320143</td><td>2022-09-07 11:23:59</td><td>true</td></tr>\n",
       "<tr><td>jJuenito</td><td>4879320143</td><td>2022-09-08 11:23:59</td><td>true</td></tr>\n",
       "<tr><td>Pepe</td><td>4879320143</td><td>2022-09-09 11:23:59</td><td>true</td></tr>\n",
       "<tr><td>Liusa</td><td>4879320143</td><td>2022-09-05 11:23:59</td><td>true</td></tr>\n",
       "</table>\n"
      ],
      "text/plain": [
       "+--------+----------+-------------------+--------+\n",
       "|    name|       dni|               date|is_human|\n",
       "+--------+----------+-------------------+--------+\n",
       "|   Ricky|4879320143|2022-09-05 11:23:59|    true|\n",
       "|   Simon|4879320143|2022-09-05 11:23:59|    true|\n",
       "|  Sergio|4879320143|2022-09-05 11:23:59|    true|\n",
       "| Pedrito|4879320143|2022-09-07 11:23:59|    true|\n",
       "|jJuenito|4879320143|2022-09-08 11:23:59|    true|\n",
       "|    Pepe|4879320143|2022-09-09 11:23:59|    true|\n",
       "|   Liusa|4879320143|2022-09-05 11:23:59|    true|\n",
       "+--------+----------+-------------------+--------+"
      ]
     },
     "execution_count": 4,
     "metadata": {},
     "output_type": "execute_result"
    }
   ],
   "source": [
    "spark_df"
   ]
  },
  {
   "cell_type": "code",
   "execution_count": 5,
   "metadata": {},
   "outputs": [],
   "source": [
    "# 1. `lit`: Ajouter une colonne avec une valeur constante"
   ]
  },
  {
   "cell_type": "code",
   "execution_count": 6,
   "metadata": {},
   "outputs": [
    {
     "data": {
      "text/html": [
       "<table border='1'>\n",
       "<tr><th>name</th><th>dni</th><th>date</th><th>is_human</th><th>one_lol</th></tr>\n",
       "<tr><td> Ricky</td><td>4879320143</td><td>2022-09-05 11:23:59</td><td>true</td><td>1</td></tr>\n",
       "<tr><td>Simon</td><td>4879320143</td><td>2022-09-05 11:23:59</td><td>true</td><td>1</td></tr>\n",
       "<tr><td>Sergio</td><td>4879320143</td><td>2022-09-05 11:23:59</td><td>true</td><td>1</td></tr>\n",
       "<tr><td>Pedrito</td><td>4879320143</td><td>2022-09-07 11:23:59</td><td>true</td><td>1</td></tr>\n",
       "<tr><td>jJuenito</td><td>4879320143</td><td>2022-09-08 11:23:59</td><td>true</td><td>1</td></tr>\n",
       "<tr><td>Pepe</td><td>4879320143</td><td>2022-09-09 11:23:59</td><td>true</td><td>1</td></tr>\n",
       "<tr><td>Liusa</td><td>4879320143</td><td>2022-09-05 11:23:59</td><td>true</td><td>1</td></tr>\n",
       "</table>\n"
      ],
      "text/plain": [
       "+--------+----------+-------------------+--------+-------+\n",
       "|    name|       dni|               date|is_human|one_lol|\n",
       "+--------+----------+-------------------+--------+-------+\n",
       "|   Ricky|4879320143|2022-09-05 11:23:59|    true|      1|\n",
       "|   Simon|4879320143|2022-09-05 11:23:59|    true|      1|\n",
       "|  Sergio|4879320143|2022-09-05 11:23:59|    true|      1|\n",
       "| Pedrito|4879320143|2022-09-07 11:23:59|    true|      1|\n",
       "|jJuenito|4879320143|2022-09-08 11:23:59|    true|      1|\n",
       "|    Pepe|4879320143|2022-09-09 11:23:59|    true|      1|\n",
       "|   Liusa|4879320143|2022-09-05 11:23:59|    true|      1|\n",
       "+--------+----------+-------------------+--------+-------+"
      ]
     },
     "execution_count": 6,
     "metadata": {},
     "output_type": "execute_result"
    }
   ],
   "source": [
    "spark_df.select(\"*\",F.lit(\"1\").alias(\"one_lol\"))"
   ]
  },
  {
   "cell_type": "code",
   "execution_count": 7,
   "metadata": {},
   "outputs": [],
   "source": [
    "# 2. `col` et `when`: Créer une colonne avec une condition"
   ]
  },
  {
   "cell_type": "code",
   "execution_count": 8,
   "metadata": {},
   "outputs": [
    {
     "data": {
      "text/html": [
       "<table border='1'>\n",
       "<tr><th>name</th><th>dni</th><th>date</th><th>is_human</th><th>is_Pepe</th></tr>\n",
       "<tr><td> Ricky</td><td>4879320143</td><td>2022-09-05 11:23:59</td><td>true</td><td>AW NAH</td></tr>\n",
       "<tr><td>Simon</td><td>4879320143</td><td>2022-09-05 11:23:59</td><td>true</td><td>AW NAH</td></tr>\n",
       "<tr><td>Sergio</td><td>4879320143</td><td>2022-09-05 11:23:59</td><td>true</td><td>AW NAH</td></tr>\n",
       "<tr><td>Pedrito</td><td>4879320143</td><td>2022-09-07 11:23:59</td><td>true</td><td>AW NAH</td></tr>\n",
       "<tr><td>jJuenito</td><td>4879320143</td><td>2022-09-08 11:23:59</td><td>true</td><td>AW NAH</td></tr>\n",
       "<tr><td>Pepe</td><td>4879320143</td><td>2022-09-09 11:23:59</td><td>true</td><td>OW YEAH</td></tr>\n",
       "<tr><td>Liusa</td><td>4879320143</td><td>2022-09-05 11:23:59</td><td>true</td><td>AW NAH</td></tr>\n",
       "</table>\n"
      ],
      "text/plain": [
       "+--------+----------+-------------------+--------+-------+\n",
       "|    name|       dni|               date|is_human|is_Pepe|\n",
       "+--------+----------+-------------------+--------+-------+\n",
       "|   Ricky|4879320143|2022-09-05 11:23:59|    true| AW NAH|\n",
       "|   Simon|4879320143|2022-09-05 11:23:59|    true| AW NAH|\n",
       "|  Sergio|4879320143|2022-09-05 11:23:59|    true| AW NAH|\n",
       "| Pedrito|4879320143|2022-09-07 11:23:59|    true| AW NAH|\n",
       "|jJuenito|4879320143|2022-09-08 11:23:59|    true| AW NAH|\n",
       "|    Pepe|4879320143|2022-09-09 11:23:59|    true|OW YEAH|\n",
       "|   Liusa|4879320143|2022-09-05 11:23:59|    true| AW NAH|\n",
       "+--------+----------+-------------------+--------+-------+"
      ]
     },
     "execution_count": 8,
     "metadata": {},
     "output_type": "execute_result"
    }
   ],
   "source": [
    "spark_df.withColumn(\"is_Pepe\", F.when(F.col(\"name\") == \"Pepe\" , F.lit(\"OW YEAH\")).otherwise(F.lit(\"AW NAH\")))"
   ]
  },
  {
   "cell_type": "code",
   "execution_count": 9,
   "metadata": {},
   "outputs": [],
   "source": [
    "# 3. `concat`: Combiner des colonnes en une seule chaîne"
   ]
  },
  {
   "cell_type": "code",
   "execution_count": 10,
   "metadata": {},
   "outputs": [
    {
     "data": {
      "text/html": [
       "<table border='1'>\n",
       "<tr><th>name</th><th>dni</th><th>date</th><th>is_human</th><th>dnidatelol</th></tr>\n",
       "<tr><td> Ricky</td><td>4879320143</td><td>2022-09-05 11:23:59</td><td>true</td><td>48793201432022-09...</td></tr>\n",
       "<tr><td>Simon</td><td>4879320143</td><td>2022-09-05 11:23:59</td><td>true</td><td>48793201432022-09...</td></tr>\n",
       "<tr><td>Sergio</td><td>4879320143</td><td>2022-09-05 11:23:59</td><td>true</td><td>48793201432022-09...</td></tr>\n",
       "<tr><td>Pedrito</td><td>4879320143</td><td>2022-09-07 11:23:59</td><td>true</td><td>48793201432022-09...</td></tr>\n",
       "<tr><td>jJuenito</td><td>4879320143</td><td>2022-09-08 11:23:59</td><td>true</td><td>48793201432022-09...</td></tr>\n",
       "<tr><td>Pepe</td><td>4879320143</td><td>2022-09-09 11:23:59</td><td>true</td><td>48793201432022-09...</td></tr>\n",
       "<tr><td>Liusa</td><td>4879320143</td><td>2022-09-05 11:23:59</td><td>true</td><td>48793201432022-09...</td></tr>\n",
       "</table>\n"
      ],
      "text/plain": [
       "+--------+----------+-------------------+--------+--------------------+\n",
       "|    name|       dni|               date|is_human|          dnidatelol|\n",
       "+--------+----------+-------------------+--------+--------------------+\n",
       "|   Ricky|4879320143|2022-09-05 11:23:59|    true|48793201432022-09...|\n",
       "|   Simon|4879320143|2022-09-05 11:23:59|    true|48793201432022-09...|\n",
       "|  Sergio|4879320143|2022-09-05 11:23:59|    true|48793201432022-09...|\n",
       "| Pedrito|4879320143|2022-09-07 11:23:59|    true|48793201432022-09...|\n",
       "|jJuenito|4879320143|2022-09-08 11:23:59|    true|48793201432022-09...|\n",
       "|    Pepe|4879320143|2022-09-09 11:23:59|    true|48793201432022-09...|\n",
       "|   Liusa|4879320143|2022-09-05 11:23:59|    true|48793201432022-09...|\n",
       "+--------+----------+-------------------+--------+--------------------+"
      ]
     },
     "execution_count": 10,
     "metadata": {},
     "output_type": "execute_result"
    }
   ],
   "source": [
    "spark_df.withColumn(\"dnidatelol\", F.concat(spark_df.dni, spark_df.date))"
   ]
  },
  {
   "cell_type": "code",
   "execution_count": 11,
   "metadata": {},
   "outputs": [],
   "source": [
    "# 4. `month`, `year`, `quarter`: Extraire le mois, l'année et le trimestre"
   ]
  },
  {
   "cell_type": "code",
   "execution_count": 12,
   "metadata": {},
   "outputs": [
    {
     "data": {
      "text/html": [
       "<table border='1'>\n",
       "<tr><th>name</th><th>dni</th><th>date</th><th>is_human</th><th>month</th><th>year</th><th>quarter</th></tr>\n",
       "<tr><td> Ricky</td><td>4879320143</td><td>2022-09-05 11:23:59</td><td>true</td><td>9</td><td>2022</td><td>3</td></tr>\n",
       "<tr><td>Simon</td><td>4879320143</td><td>2022-09-05 11:23:59</td><td>true</td><td>9</td><td>2022</td><td>3</td></tr>\n",
       "<tr><td>Sergio</td><td>4879320143</td><td>2022-09-05 11:23:59</td><td>true</td><td>9</td><td>2022</td><td>3</td></tr>\n",
       "<tr><td>Pedrito</td><td>4879320143</td><td>2022-09-07 11:23:59</td><td>true</td><td>9</td><td>2022</td><td>3</td></tr>\n",
       "<tr><td>jJuenito</td><td>4879320143</td><td>2022-09-08 11:23:59</td><td>true</td><td>9</td><td>2022</td><td>3</td></tr>\n",
       "<tr><td>Pepe</td><td>4879320143</td><td>2022-09-09 11:23:59</td><td>true</td><td>9</td><td>2022</td><td>3</td></tr>\n",
       "<tr><td>Liusa</td><td>4879320143</td><td>2022-09-05 11:23:59</td><td>true</td><td>9</td><td>2022</td><td>3</td></tr>\n",
       "</table>\n"
      ],
      "text/plain": [
       "+--------+----------+-------------------+--------+-----+----+-------+\n",
       "|    name|       dni|               date|is_human|month|year|quarter|\n",
       "+--------+----------+-------------------+--------+-----+----+-------+\n",
       "|   Ricky|4879320143|2022-09-05 11:23:59|    true|    9|2022|      3|\n",
       "|   Simon|4879320143|2022-09-05 11:23:59|    true|    9|2022|      3|\n",
       "|  Sergio|4879320143|2022-09-05 11:23:59|    true|    9|2022|      3|\n",
       "| Pedrito|4879320143|2022-09-07 11:23:59|    true|    9|2022|      3|\n",
       "|jJuenito|4879320143|2022-09-08 11:23:59|    true|    9|2022|      3|\n",
       "|    Pepe|4879320143|2022-09-09 11:23:59|    true|    9|2022|      3|\n",
       "|   Liusa|4879320143|2022-09-05 11:23:59|    true|    9|2022|      3|\n",
       "+--------+----------+-------------------+--------+-----+----+-------+"
      ]
     },
     "execution_count": 12,
     "metadata": {},
     "output_type": "execute_result"
    }
   ],
   "source": [
    "spark_df.withColumn('month', F.month('date')) \\\n",
    "        .withColumn('year', F.year('date')) \\\n",
    "        .withColumn('quarter', F.quarter('date'))"
   ]
  },
  {
   "cell_type": "code",
   "execution_count": 13,
   "metadata": {},
   "outputs": [],
   "source": [
    "# 5. `abs` et `floor`: Appliquer des fonctions mathématiques"
   ]
  },
  {
   "cell_type": "code",
   "execution_count": 14,
   "metadata": {},
   "outputs": [
    {
     "data": {
      "text/html": [
       "<table border='1'>\n",
       "<tr><th>name</th><th>dni</th><th>date</th><th>is_human</th><th>absdni</th></tr>\n",
       "<tr><td> Ricky</td><td>4879320143</td><td>2022-09-05 11:23:59</td><td>true</td><td>4879320142</td></tr>\n",
       "<tr><td>Simon</td><td>4879320143</td><td>2022-09-05 11:23:59</td><td>true</td><td>4879320142</td></tr>\n",
       "<tr><td>Sergio</td><td>4879320143</td><td>2022-09-05 11:23:59</td><td>true</td><td>4879320142</td></tr>\n",
       "<tr><td>Pedrito</td><td>4879320143</td><td>2022-09-07 11:23:59</td><td>true</td><td>4879320142</td></tr>\n",
       "<tr><td>jJuenito</td><td>4879320143</td><td>2022-09-08 11:23:59</td><td>true</td><td>4879320142</td></tr>\n",
       "<tr><td>Pepe</td><td>4879320143</td><td>2022-09-09 11:23:59</td><td>true</td><td>4879320142</td></tr>\n",
       "<tr><td>Liusa</td><td>4879320143</td><td>2022-09-05 11:23:59</td><td>true</td><td>4879320142</td></tr>\n",
       "</table>\n"
      ],
      "text/plain": [
       "+--------+----------+-------------------+--------+----------+\n",
       "|    name|       dni|               date|is_human|    absdni|\n",
       "+--------+----------+-------------------+--------+----------+\n",
       "|   Ricky|4879320143|2022-09-05 11:23:59|    true|4879320142|\n",
       "|   Simon|4879320143|2022-09-05 11:23:59|    true|4879320142|\n",
       "|  Sergio|4879320143|2022-09-05 11:23:59|    true|4879320142|\n",
       "| Pedrito|4879320143|2022-09-07 11:23:59|    true|4879320142|\n",
       "|jJuenito|4879320143|2022-09-08 11:23:59|    true|4879320142|\n",
       "|    Pepe|4879320143|2022-09-09 11:23:59|    true|4879320142|\n",
       "|   Liusa|4879320143|2022-09-05 11:23:59|    true|4879320142|\n",
       "+--------+----------+-------------------+--------+----------+"
      ]
     },
     "execution_count": 14,
     "metadata": {},
     "output_type": "execute_result"
    }
   ],
   "source": [
    "spark_df.withColumn(\"absdni\", F.abs(F.col(\"dni\") -1))"
   ]
  },
  {
   "cell_type": "code",
   "execution_count": 15,
   "metadata": {
    "scrolled": true
   },
   "outputs": [
    {
     "data": {
      "text/html": [
       "<table border='1'>\n",
       "<tr><th>name</th><th>dni</th><th>date</th><th>is_human</th><th>Rating</th></tr>\n",
       "<tr><td> Ricky</td><td>4879320143</td><td>2022-09-05 11:23:59</td><td>true</td><td>5.1</td></tr>\n",
       "<tr><td>Simon</td><td>4879320143</td><td>2022-09-05 11:23:59</td><td>true</td><td>4.2</td></tr>\n",
       "<tr><td>Sergio</td><td>4879320143</td><td>2022-09-05 11:23:59</td><td>true</td><td>1.6</td></tr>\n",
       "<tr><td>Pedrito</td><td>4879320143</td><td>2022-09-07 11:23:59</td><td>true</td><td>4.5</td></tr>\n",
       "<tr><td>jJuenito</td><td>4879320143</td><td>2022-09-08 11:23:59</td><td>true</td><td>8.7</td></tr>\n",
       "<tr><td>Pepe</td><td>4879320143</td><td>2022-09-09 11:23:59</td><td>true</td><td>10.1</td></tr>\n",
       "<tr><td>Liusa</td><td>4879320143</td><td>2022-09-05 11:23:59</td><td>true</td><td>3.3</td></tr>\n",
       "</table>\n"
      ],
      "text/plain": [
       "+--------+----------+-------------------+--------+------+\n",
       "|    name|       dni|               date|is_human|Rating|\n",
       "+--------+----------+-------------------+--------+------+\n",
       "|   Ricky|4879320143|2022-09-05 11:23:59|    true|   5.1|\n",
       "|   Simon|4879320143|2022-09-05 11:23:59|    true|   4.2|\n",
       "|  Sergio|4879320143|2022-09-05 11:23:59|    true|   1.6|\n",
       "| Pedrito|4879320143|2022-09-07 11:23:59|    true|   4.5|\n",
       "|jJuenito|4879320143|2022-09-08 11:23:59|    true|   8.7|\n",
       "|    Pepe|4879320143|2022-09-09 11:23:59|    true|  10.1|\n",
       "|   Liusa|4879320143|2022-09-05 11:23:59|    true|   3.3|\n",
       "+--------+----------+-------------------+--------+------+"
      ]
     },
     "execution_count": 15,
     "metadata": {},
     "output_type": "execute_result"
    }
   ],
   "source": [
    "# rating = [[5,10],\n",
    "#           [6,14],\n",
    "#           [7,3],\n",
    "#           [8,2],\n",
    "#           [9,6],\n",
    "#           [10,11],\n",
    "#           [11,7]\n",
    "#           ]\n",
    "\n",
    "rating = [5.1, 4.2, 1.6, 4.5, 8.7, 10.1, 3.3]\n",
    "b = spark.createDataFrame([(l,) for l in rating], ['Rating'])\n",
    "\n",
    "spark_df = spark_df.withColumn(\"row_idx\", F.row_number().over(Window.orderBy(F.monotonically_increasing_id())))\n",
    "b = b.withColumn(\"row_idx\", F.row_number().over(Window.orderBy(F.monotonically_increasing_id())))\n",
    "\n",
    "spark_df2 = spark_df.join(b, spark_df.row_idx == b.row_idx).\\\n",
    "             drop(\"row_idx\")\n",
    "\n",
    "spark_df2"
   ]
  },
  {
   "cell_type": "code",
   "execution_count": 16,
   "metadata": {},
   "outputs": [
    {
     "data": {
      "text/html": [
       "<table border='1'>\n",
       "<tr><th>name</th><th>dni</th><th>date</th><th>is_human</th><th>Rating</th><th>floorr</th></tr>\n",
       "<tr><td> Ricky</td><td>4879320143</td><td>2022-09-05 11:23:59</td><td>true</td><td>5.1</td><td>5</td></tr>\n",
       "<tr><td>Simon</td><td>4879320143</td><td>2022-09-05 11:23:59</td><td>true</td><td>4.2</td><td>4</td></tr>\n",
       "<tr><td>Sergio</td><td>4879320143</td><td>2022-09-05 11:23:59</td><td>true</td><td>1.6</td><td>1</td></tr>\n",
       "<tr><td>Pedrito</td><td>4879320143</td><td>2022-09-07 11:23:59</td><td>true</td><td>4.5</td><td>4</td></tr>\n",
       "<tr><td>jJuenito</td><td>4879320143</td><td>2022-09-08 11:23:59</td><td>true</td><td>8.7</td><td>8</td></tr>\n",
       "<tr><td>Pepe</td><td>4879320143</td><td>2022-09-09 11:23:59</td><td>true</td><td>10.1</td><td>10</td></tr>\n",
       "<tr><td>Liusa</td><td>4879320143</td><td>2022-09-05 11:23:59</td><td>true</td><td>3.3</td><td>3</td></tr>\n",
       "</table>\n"
      ],
      "text/plain": [
       "+--------+----------+-------------------+--------+------+------+\n",
       "|    name|       dni|               date|is_human|Rating|floorr|\n",
       "+--------+----------+-------------------+--------+------+------+\n",
       "|   Ricky|4879320143|2022-09-05 11:23:59|    true|   5.1|     5|\n",
       "|   Simon|4879320143|2022-09-05 11:23:59|    true|   4.2|     4|\n",
       "|  Sergio|4879320143|2022-09-05 11:23:59|    true|   1.6|     1|\n",
       "| Pedrito|4879320143|2022-09-07 11:23:59|    true|   4.5|     4|\n",
       "|jJuenito|4879320143|2022-09-08 11:23:59|    true|   8.7|     8|\n",
       "|    Pepe|4879320143|2022-09-09 11:23:59|    true|  10.1|    10|\n",
       "|   Liusa|4879320143|2022-09-05 11:23:59|    true|   3.3|     3|\n",
       "+--------+----------+-------------------+--------+------+------+"
      ]
     },
     "execution_count": 16,
     "metadata": {},
     "output_type": "execute_result"
    }
   ],
   "source": [
    "spark_df2.withColumn(\"floorr\", F.floor(F.col(\"Rating\")))"
   ]
  },
  {
   "cell_type": "code",
   "execution_count": 17,
   "metadata": {},
   "outputs": [],
   "source": [
    "# 6. `concat_ws`: Concaténer avec un séparateur"
   ]
  },
  {
   "cell_type": "code",
   "execution_count": 18,
   "metadata": {},
   "outputs": [
    {
     "data": {
      "text/html": [
       "<table border='1'>\n",
       "<tr><th>name</th><th>dni</th><th>date</th><th>is_human</th><th>row_idx</th><th>status</th></tr>\n",
       "<tr><td> Ricky</td><td>4879320143</td><td>2022-09-05 11:23:59</td><td>true</td><td>1</td><td> Ricky-true</td></tr>\n",
       "<tr><td>Simon</td><td>4879320143</td><td>2022-09-05 11:23:59</td><td>true</td><td>2</td><td>Simon-true</td></tr>\n",
       "<tr><td>Sergio</td><td>4879320143</td><td>2022-09-05 11:23:59</td><td>true</td><td>3</td><td>Sergio-true</td></tr>\n",
       "<tr><td>Pedrito</td><td>4879320143</td><td>2022-09-07 11:23:59</td><td>true</td><td>4</td><td>Pedrito-true</td></tr>\n",
       "<tr><td>jJuenito</td><td>4879320143</td><td>2022-09-08 11:23:59</td><td>true</td><td>5</td><td>jJuenito-true</td></tr>\n",
       "<tr><td>Pepe</td><td>4879320143</td><td>2022-09-09 11:23:59</td><td>true</td><td>6</td><td>Pepe-true</td></tr>\n",
       "<tr><td>Liusa</td><td>4879320143</td><td>2022-09-05 11:23:59</td><td>true</td><td>7</td><td>Liusa-true</td></tr>\n",
       "</table>\n"
      ],
      "text/plain": [
       "+--------+----------+-------------------+--------+-------+-------------+\n",
       "|    name|       dni|               date|is_human|row_idx|       status|\n",
       "+--------+----------+-------------------+--------+-------+-------------+\n",
       "|   Ricky|4879320143|2022-09-05 11:23:59|    true|      1|   Ricky-true|\n",
       "|   Simon|4879320143|2022-09-05 11:23:59|    true|      2|   Simon-true|\n",
       "|  Sergio|4879320143|2022-09-05 11:23:59|    true|      3|  Sergio-true|\n",
       "| Pedrito|4879320143|2022-09-07 11:23:59|    true|      4| Pedrito-true|\n",
       "|jJuenito|4879320143|2022-09-08 11:23:59|    true|      5|jJuenito-true|\n",
       "|    Pepe|4879320143|2022-09-09 11:23:59|    true|      6|    Pepe-true|\n",
       "|   Liusa|4879320143|2022-09-05 11:23:59|    true|      7|   Liusa-true|\n",
       "+--------+----------+-------------------+--------+-------+-------------+"
      ]
     },
     "execution_count": 18,
     "metadata": {},
     "output_type": "execute_result"
    }
   ],
   "source": [
    "spark_df.select(\"*\", F.concat_ws('-', spark_df.name, spark_df.is_human).alias('status'))"
   ]
  },
  {
   "cell_type": "code",
   "execution_count": 19,
   "metadata": {},
   "outputs": [],
   "source": [
    "# 7. `array_distinct`, `collect_list`, `collect_set`: Utiliser des fonctions d'agrégation sur des arrays"
   ]
  },
  {
   "cell_type": "code",
   "execution_count": 20,
   "metadata": {},
   "outputs": [
    {
     "name": "stdout",
     "output_type": "stream",
     "text": [
      "+--------+----------+-------------------+--------+-------+---------------------+------------------------+---------------+\n",
      "|name    |dni       |date               |is_human|row_idx|dnidni               |dniArray                |unique_dniArray|\n",
      "+--------+----------+-------------------+--------+-------+---------------------+------------------------+---------------+\n",
      "| Ricky  |4879320143|2022-09-05 11:23:59|true    |1      |4879320143-4879320143|[4879320143, 4879320143]|[4879320143]   |\n",
      "|Simon   |4879320143|2022-09-05 11:23:59|true    |2      |4879320143-4879320143|[4879320143, 4879320143]|[4879320143]   |\n",
      "|Sergio  |4879320143|2022-09-05 11:23:59|true    |3      |4879320143-4879320143|[4879320143, 4879320143]|[4879320143]   |\n",
      "|Pedrito |4879320143|2022-09-07 11:23:59|true    |4      |4879320143-4879320143|[4879320143, 4879320143]|[4879320143]   |\n",
      "|jJuenito|4879320143|2022-09-08 11:23:59|true    |5      |4879320143-4879320143|[4879320143, 4879320143]|[4879320143]   |\n",
      "|Pepe    |4879320143|2022-09-09 11:23:59|true    |6      |4879320143-4879320143|[4879320143, 4879320143]|[4879320143]   |\n",
      "|Liusa   |4879320143|2022-09-05 11:23:59|true    |7      |4879320143-4879320143|[4879320143, 4879320143]|[4879320143]   |\n",
      "+--------+----------+-------------------+--------+-------+---------------------+------------------------+---------------+\n",
      "\n"
     ]
    }
   ],
   "source": [
    "# array_distinct\n",
    "spark_df.withColumn(\"dnidni\", F.concat_ws('-', spark_df.dni, spark_df.dni)) \\\n",
    "        .withColumn(\"dniArray\", F.split(F.col(\"dnidni\"),\"-\")) \\\n",
    "        .withColumn(\"unique_dniArray\", F.array_distinct(\"dniArray\")) \\\n",
    "        .show(spark_df.count(), False)"
   ]
  },
  {
   "cell_type": "code",
   "execution_count": 21,
   "metadata": {},
   "outputs": [
    {
     "name": "stdout",
     "output_type": "stream",
     "text": [
      "+-------------------+------------------------------+\n",
      "|date               |names_in_date                 |\n",
      "+-------------------+------------------------------+\n",
      "|2022-09-05 11:23:59|[ Ricky, Simon, Sergio, Liusa]|\n",
      "|2022-09-07 11:23:59|[Pedrito]                     |\n",
      "|2022-09-08 11:23:59|[jJuenito]                    |\n",
      "|2022-09-09 11:23:59|[Pepe]                        |\n",
      "+-------------------+------------------------------+\n",
      "\n"
     ]
    }
   ],
   "source": [
    "# collect_list\n",
    "spark_df.groupBy(\"date\").agg(F.collect_list(\"name\") \\\n",
    "        .alias(\"names_in_date\")) \\\n",
    "        .show(spark_df.count(), False)"
   ]
  },
  {
   "cell_type": "code",
   "execution_count": 22,
   "metadata": {
    "scrolled": true
   },
   "outputs": [
    {
     "data": {
      "text/html": [
       "<table border='1'>\n",
       "<tr><th>name</th><th>dni</th><th>date</th><th>is_human</th><th>Rating</th></tr>\n",
       "<tr><td> Ricky</td><td>4879320143</td><td>2022-09-05 11:23:59</td><td>true</td><td>5</td></tr>\n",
       "<tr><td>Simon</td><td>4879320143</td><td>2022-09-05 11:23:59</td><td>true</td><td>5</td></tr>\n",
       "<tr><td>Sergio</td><td>4879320143</td><td>2022-09-05 11:23:59</td><td>true</td><td>6</td></tr>\n",
       "<tr><td>Pedrito</td><td>4879320143</td><td>2022-09-07 11:23:59</td><td>true</td><td>6</td></tr>\n",
       "<tr><td>jJuenito</td><td>4879320143</td><td>2022-09-08 11:23:59</td><td>true</td><td>8</td></tr>\n",
       "<tr><td>Pepe</td><td>4879320143</td><td>2022-09-09 11:23:59</td><td>true</td><td>8</td></tr>\n",
       "<tr><td>Liusa</td><td>4879320143</td><td>2022-09-05 11:23:59</td><td>true</td><td>3</td></tr>\n",
       "</table>\n"
      ],
      "text/plain": [
       "+--------+----------+-------------------+--------+------+\n",
       "|    name|       dni|               date|is_human|Rating|\n",
       "+--------+----------+-------------------+--------+------+\n",
       "|   Ricky|4879320143|2022-09-05 11:23:59|    true|     5|\n",
       "|   Simon|4879320143|2022-09-05 11:23:59|    true|     5|\n",
       "|  Sergio|4879320143|2022-09-05 11:23:59|    true|     6|\n",
       "| Pedrito|4879320143|2022-09-07 11:23:59|    true|     6|\n",
       "|jJuenito|4879320143|2022-09-08 11:23:59|    true|     8|\n",
       "|    Pepe|4879320143|2022-09-09 11:23:59|    true|     8|\n",
       "|   Liusa|4879320143|2022-09-05 11:23:59|    true|     3|\n",
       "+--------+----------+-------------------+--------+------+"
      ]
     },
     "execution_count": 22,
     "metadata": {},
     "output_type": "execute_result"
    }
   ],
   "source": [
    "# collect_set\n",
    "rating = [5, 5, 6, 6, 8, 8, 3]\n",
    "b = spark.createDataFrame([(l,) for l in rating], ['Rating'])\n",
    "\n",
    "spark_df = spark_df.withColumn(\"row_idx\", F.row_number().over(Window.orderBy(F.monotonically_increasing_id())))\n",
    "b = b.withColumn(\"row_idx\", F.row_number().over(Window.orderBy(F.monotonically_increasing_id())))\n",
    "\n",
    "spark_df3 = spark_df.join(b, spark_df.row_idx == b.row_idx).\\\n",
    "             drop(\"row_idx\")\n",
    "\n",
    "spark_df3"
   ]
  },
  {
   "cell_type": "code",
   "execution_count": 23,
   "metadata": {},
   "outputs": [
    {
     "name": "stdout",
     "output_type": "stream",
     "text": [
      "+----------+--------------+\n",
      "|dni       |nodupratinglol|\n",
      "+----------+--------------+\n",
      "|4879320143|[5, 6, 3, 8]  |\n",
      "+----------+--------------+\n",
      "\n"
     ]
    }
   ],
   "source": [
    "spark_df3.groupBy(\"dni\").agg(F.collect_set(\"Rating\") \\\n",
    "        .alias(\"nodupratinglol\")) \\\n",
    "        .show(spark_df.count(), False)"
   ]
  },
  {
   "cell_type": "code",
   "execution_count": 24,
   "metadata": {},
   "outputs": [],
   "source": [
    "# 8. `split` et `trim`: Nettoyer et diviser des chaînes"
   ]
  },
  {
   "cell_type": "code",
   "execution_count": 25,
   "metadata": {
    "scrolled": true
   },
   "outputs": [
    {
     "data": {
      "text/html": [
       "<table border='1'>\n",
       "<tr><th>name</th><th>dni</th><th>date</th><th>is_human</th><th>row_idx</th><th>dates</th></tr>\n",
       "<tr><td> Ricky</td><td>4879320143</td><td>2022-09-05 11:23:59</td><td>true</td><td>1</td><td>[2022, 09, 05 11:...</td></tr>\n",
       "<tr><td>Simon</td><td>4879320143</td><td>2022-09-05 11:23:59</td><td>true</td><td>2</td><td>[2022, 09, 05 11:...</td></tr>\n",
       "<tr><td>Sergio</td><td>4879320143</td><td>2022-09-05 11:23:59</td><td>true</td><td>3</td><td>[2022, 09, 05 11:...</td></tr>\n",
       "<tr><td>Pedrito</td><td>4879320143</td><td>2022-09-07 11:23:59</td><td>true</td><td>4</td><td>[2022, 09, 07 11:...</td></tr>\n",
       "<tr><td>jJuenito</td><td>4879320143</td><td>2022-09-08 11:23:59</td><td>true</td><td>5</td><td>[2022, 09, 08 11:...</td></tr>\n",
       "<tr><td>Pepe</td><td>4879320143</td><td>2022-09-09 11:23:59</td><td>true</td><td>6</td><td>[2022, 09, 09 11:...</td></tr>\n",
       "<tr><td>Liusa</td><td>4879320143</td><td>2022-09-05 11:23:59</td><td>true</td><td>7</td><td>[2022, 09, 05 11:...</td></tr>\n",
       "</table>\n"
      ],
      "text/plain": [
       "+--------+----------+-------------------+--------+-------+--------------------+\n",
       "|    name|       dni|               date|is_human|row_idx|               dates|\n",
       "+--------+----------+-------------------+--------+-------+--------------------+\n",
       "|   Ricky|4879320143|2022-09-05 11:23:59|    true|      1|[2022, 09, 05 11:...|\n",
       "|   Simon|4879320143|2022-09-05 11:23:59|    true|      2|[2022, 09, 05 11:...|\n",
       "|  Sergio|4879320143|2022-09-05 11:23:59|    true|      3|[2022, 09, 05 11:...|\n",
       "| Pedrito|4879320143|2022-09-07 11:23:59|    true|      4|[2022, 09, 07 11:...|\n",
       "|jJuenito|4879320143|2022-09-08 11:23:59|    true|      5|[2022, 09, 08 11:...|\n",
       "|    Pepe|4879320143|2022-09-09 11:23:59|    true|      6|[2022, 09, 09 11:...|\n",
       "|   Liusa|4879320143|2022-09-05 11:23:59|    true|      7|[2022, 09, 05 11:...|\n",
       "+--------+----------+-------------------+--------+-------+--------------------+"
      ]
     },
     "execution_count": 25,
     "metadata": {},
     "output_type": "execute_result"
    }
   ],
   "source": [
    "# split\n",
    "spark_df.withColumn('dates', F.split(spark_df.date, '-'))"
   ]
  },
  {
   "cell_type": "code",
   "execution_count": 75,
   "metadata": {},
   "outputs": [
    {
     "data": {
      "text/html": [
       "<table border='1'>\n",
       "<tr><th>name</th><th>dni</th><th>date</th><th>is_human</th><th>row_idx</th><th>ishumaneh</th><th>isisihumanhuman</th><th>lengtha</th><th>lengthe</th></tr>\n",
       "<tr><td> Ricky</td><td>4879320143</td><td>2022-09-05 11:23:59</td><td>true</td><td>1</td><td>  true   </td><td>true</td><td>4</td><td>4</td></tr>\n",
       "<tr><td>Simon</td><td>4879320143</td><td>2022-09-05 11:23:59</td><td>true</td><td>2</td><td>  true   </td><td>true</td><td>4</td><td>4</td></tr>\n",
       "<tr><td>Sergio</td><td>4879320143</td><td>2022-09-05 11:23:59</td><td>true</td><td>3</td><td>  true   </td><td>true</td><td>4</td><td>4</td></tr>\n",
       "<tr><td>Pedrito</td><td>4879320143</td><td>2022-09-07 11:23:59</td><td>true</td><td>4</td><td>  true   </td><td>true</td><td>4</td><td>4</td></tr>\n",
       "<tr><td>jJuenito</td><td>4879320143</td><td>2022-09-08 11:23:59</td><td>true</td><td>5</td><td>  true   </td><td>true</td><td>4</td><td>4</td></tr>\n",
       "<tr><td>Pepe</td><td>4879320143</td><td>2022-09-09 11:23:59</td><td>true</td><td>6</td><td>  true   </td><td>true</td><td>4</td><td>4</td></tr>\n",
       "<tr><td>Liusa</td><td>4879320143</td><td>2022-09-05 11:23:59</td><td>true</td><td>7</td><td>  true   </td><td>true</td><td>4</td><td>4</td></tr>\n",
       "</table>\n"
      ],
      "text/plain": [
       "+--------+----------+-------------------+--------+-------+---------+---------------+-------+-------+\n",
       "|    name|       dni|               date|is_human|row_idx|ishumaneh|isisihumanhuman|lengtha|lengthe|\n",
       "+--------+----------+-------------------+--------+-------+---------+---------------+-------+-------+\n",
       "|   Ricky|4879320143|2022-09-05 11:23:59|    true|      1|  true   |           true|      4|      4|\n",
       "|   Simon|4879320143|2022-09-05 11:23:59|    true|      2|  true   |           true|      4|      4|\n",
       "|  Sergio|4879320143|2022-09-05 11:23:59|    true|      3|  true   |           true|      4|      4|\n",
       "| Pedrito|4879320143|2022-09-07 11:23:59|    true|      4|  true   |           true|      4|      4|\n",
       "|jJuenito|4879320143|2022-09-08 11:23:59|    true|      5|  true   |           true|      4|      4|\n",
       "|    Pepe|4879320143|2022-09-09 11:23:59|    true|      6|  true   |           true|      4|      4|\n",
       "|   Liusa|4879320143|2022-09-05 11:23:59|    true|      7|  true   |           true|      4|      4|\n",
       "+--------+----------+-------------------+--------+-------+---------+---------------+-------+-------+"
      ]
     },
     "execution_count": 75,
     "metadata": {},
     "output_type": "execute_result"
    }
   ],
   "source": [
    "# trim\n",
    "spark_df.withColumn('ishumaneh', F.regexp_replace('is_human', 'true', '  true   ')) \\\n",
    "        .withColumn(\"isisihumanhuman\", F.trim(F.col(\"ishumaneh\"))) \\\n",
    "        .withColumn(\"lengtha\", F.length(\"is_human\")) \\\n",
    "        .withColumn(\"lengthe\", F.length(\"isisihumanhuman\"))"
   ]
  },
  {
   "cell_type": "code",
   "execution_count": 27,
   "metadata": {},
   "outputs": [],
   "source": [
    "# 9. `explode`: Diviser une colonne de tableau en lignes distinctes"
   ]
  },
  {
   "cell_type": "code",
   "execution_count": 28,
   "metadata": {},
   "outputs": [
    {
     "data": {
      "text/html": [
       "<table border='1'>\n",
       "<tr><th>name</th><th>dni</th><th>date</th><th>is_human</th><th>row_idx</th><th>dates</th><th>EXPLOSIOOOOOOOOOOOOOOOOOOOON</th></tr>\n",
       "<tr><td> Ricky</td><td>4879320143</td><td>2022-09-05 11:23:59</td><td>true</td><td>1</td><td>[2022, 09, 05 11:...</td><td>2022</td></tr>\n",
       "<tr><td> Ricky</td><td>4879320143</td><td>2022-09-05 11:23:59</td><td>true</td><td>1</td><td>[2022, 09, 05 11:...</td><td>09</td></tr>\n",
       "<tr><td> Ricky</td><td>4879320143</td><td>2022-09-05 11:23:59</td><td>true</td><td>1</td><td>[2022, 09, 05 11:...</td><td>05 11:23:59</td></tr>\n",
       "<tr><td>Simon</td><td>4879320143</td><td>2022-09-05 11:23:59</td><td>true</td><td>2</td><td>[2022, 09, 05 11:...</td><td>2022</td></tr>\n",
       "<tr><td>Simon</td><td>4879320143</td><td>2022-09-05 11:23:59</td><td>true</td><td>2</td><td>[2022, 09, 05 11:...</td><td>09</td></tr>\n",
       "<tr><td>Simon</td><td>4879320143</td><td>2022-09-05 11:23:59</td><td>true</td><td>2</td><td>[2022, 09, 05 11:...</td><td>05 11:23:59</td></tr>\n",
       "<tr><td>Sergio</td><td>4879320143</td><td>2022-09-05 11:23:59</td><td>true</td><td>3</td><td>[2022, 09, 05 11:...</td><td>2022</td></tr>\n",
       "<tr><td>Sergio</td><td>4879320143</td><td>2022-09-05 11:23:59</td><td>true</td><td>3</td><td>[2022, 09, 05 11:...</td><td>09</td></tr>\n",
       "<tr><td>Sergio</td><td>4879320143</td><td>2022-09-05 11:23:59</td><td>true</td><td>3</td><td>[2022, 09, 05 11:...</td><td>05 11:23:59</td></tr>\n",
       "<tr><td>Pedrito</td><td>4879320143</td><td>2022-09-07 11:23:59</td><td>true</td><td>4</td><td>[2022, 09, 07 11:...</td><td>2022</td></tr>\n",
       "<tr><td>Pedrito</td><td>4879320143</td><td>2022-09-07 11:23:59</td><td>true</td><td>4</td><td>[2022, 09, 07 11:...</td><td>09</td></tr>\n",
       "<tr><td>Pedrito</td><td>4879320143</td><td>2022-09-07 11:23:59</td><td>true</td><td>4</td><td>[2022, 09, 07 11:...</td><td>07 11:23:59</td></tr>\n",
       "<tr><td>jJuenito</td><td>4879320143</td><td>2022-09-08 11:23:59</td><td>true</td><td>5</td><td>[2022, 09, 08 11:...</td><td>2022</td></tr>\n",
       "<tr><td>jJuenito</td><td>4879320143</td><td>2022-09-08 11:23:59</td><td>true</td><td>5</td><td>[2022, 09, 08 11:...</td><td>09</td></tr>\n",
       "<tr><td>jJuenito</td><td>4879320143</td><td>2022-09-08 11:23:59</td><td>true</td><td>5</td><td>[2022, 09, 08 11:...</td><td>08 11:23:59</td></tr>\n",
       "<tr><td>Pepe</td><td>4879320143</td><td>2022-09-09 11:23:59</td><td>true</td><td>6</td><td>[2022, 09, 09 11:...</td><td>2022</td></tr>\n",
       "<tr><td>Pepe</td><td>4879320143</td><td>2022-09-09 11:23:59</td><td>true</td><td>6</td><td>[2022, 09, 09 11:...</td><td>09</td></tr>\n",
       "<tr><td>Pepe</td><td>4879320143</td><td>2022-09-09 11:23:59</td><td>true</td><td>6</td><td>[2022, 09, 09 11:...</td><td>09 11:23:59</td></tr>\n",
       "<tr><td>Liusa</td><td>4879320143</td><td>2022-09-05 11:23:59</td><td>true</td><td>7</td><td>[2022, 09, 05 11:...</td><td>2022</td></tr>\n",
       "<tr><td>Liusa</td><td>4879320143</td><td>2022-09-05 11:23:59</td><td>true</td><td>7</td><td>[2022, 09, 05 11:...</td><td>09</td></tr>\n",
       "</table>\n",
       "only showing top 20 rows\n"
      ],
      "text/plain": [
       "+--------+----------+-------------------+--------+-------+--------------------+----------------------------+\n",
       "|    name|       dni|               date|is_human|row_idx|               dates|EXPLOSIOOOOOOOOOOOOOOOOOOOON|\n",
       "+--------+----------+-------------------+--------+-------+--------------------+----------------------------+\n",
       "|   Ricky|4879320143|2022-09-05 11:23:59|    true|      1|[2022, 09, 05 11:...|                        2022|\n",
       "|   Ricky|4879320143|2022-09-05 11:23:59|    true|      1|[2022, 09, 05 11:...|                          09|\n",
       "|   Ricky|4879320143|2022-09-05 11:23:59|    true|      1|[2022, 09, 05 11:...|                 05 11:23:59|\n",
       "|   Simon|4879320143|2022-09-05 11:23:59|    true|      2|[2022, 09, 05 11:...|                        2022|\n",
       "|   Simon|4879320143|2022-09-05 11:23:59|    true|      2|[2022, 09, 05 11:...|                          09|\n",
       "|   Simon|4879320143|2022-09-05 11:23:59|    true|      2|[2022, 09, 05 11:...|                 05 11:23:59|\n",
       "|  Sergio|4879320143|2022-09-05 11:23:59|    true|      3|[2022, 09, 05 11:...|                        2022|\n",
       "|  Sergio|4879320143|2022-09-05 11:23:59|    true|      3|[2022, 09, 05 11:...|                          09|\n",
       "|  Sergio|4879320143|2022-09-05 11:23:59|    true|      3|[2022, 09, 05 11:...|                 05 11:23:59|\n",
       "| Pedrito|4879320143|2022-09-07 11:23:59|    true|      4|[2022, 09, 07 11:...|                        2022|\n",
       "| Pedrito|4879320143|2022-09-07 11:23:59|    true|      4|[2022, 09, 07 11:...|                          09|\n",
       "| Pedrito|4879320143|2022-09-07 11:23:59|    true|      4|[2022, 09, 07 11:...|                 07 11:23:59|\n",
       "|jJuenito|4879320143|2022-09-08 11:23:59|    true|      5|[2022, 09, 08 11:...|                        2022|\n",
       "|jJuenito|4879320143|2022-09-08 11:23:59|    true|      5|[2022, 09, 08 11:...|                          09|\n",
       "|jJuenito|4879320143|2022-09-08 11:23:59|    true|      5|[2022, 09, 08 11:...|                 08 11:23:59|\n",
       "|    Pepe|4879320143|2022-09-09 11:23:59|    true|      6|[2022, 09, 09 11:...|                        2022|\n",
       "|    Pepe|4879320143|2022-09-09 11:23:59|    true|      6|[2022, 09, 09 11:...|                          09|\n",
       "|    Pepe|4879320143|2022-09-09 11:23:59|    true|      6|[2022, 09, 09 11:...|                 09 11:23:59|\n",
       "|   Liusa|4879320143|2022-09-05 11:23:59|    true|      7|[2022, 09, 05 11:...|                        2022|\n",
       "|   Liusa|4879320143|2022-09-05 11:23:59|    true|      7|[2022, 09, 05 11:...|                          09|\n",
       "+--------+----------+-------------------+--------+-------+--------------------+----------------------------+\n",
       "only showing top 20 rows"
      ]
     },
     "execution_count": 28,
     "metadata": {},
     "output_type": "execute_result"
    }
   ],
   "source": [
    "spark_df.withColumn('dates', F.split(spark_df.date, '-')) \\\n",
    "        .withColumn(\"EXPLOSIOOOOOOOOOOOOOOOOOOOON\", F.explode(F.col(\"dates\")))"
   ]
  },
  {
   "cell_type": "code",
   "execution_count": 29,
   "metadata": {},
   "outputs": [],
   "source": [
    "# 10. `lower`: Convertir des chaînes en minuscules"
   ]
  },
  {
   "cell_type": "code",
   "execution_count": 30,
   "metadata": {},
   "outputs": [
    {
     "data": {
      "text/html": [
       "<table border='1'>\n",
       "<tr><th>name</th><th>dni</th><th>date</th><th>is_human</th><th>row_idx</th><th>lower_name</th></tr>\n",
       "<tr><td> Ricky</td><td>4879320143</td><td>2022-09-05 11:23:59</td><td>true</td><td>1</td><td> ricky</td></tr>\n",
       "<tr><td>Simon</td><td>4879320143</td><td>2022-09-05 11:23:59</td><td>true</td><td>2</td><td>simon</td></tr>\n",
       "<tr><td>Sergio</td><td>4879320143</td><td>2022-09-05 11:23:59</td><td>true</td><td>3</td><td>sergio</td></tr>\n",
       "<tr><td>Pedrito</td><td>4879320143</td><td>2022-09-07 11:23:59</td><td>true</td><td>4</td><td>pedrito</td></tr>\n",
       "<tr><td>jJuenito</td><td>4879320143</td><td>2022-09-08 11:23:59</td><td>true</td><td>5</td><td>jjuenito</td></tr>\n",
       "<tr><td>Pepe</td><td>4879320143</td><td>2022-09-09 11:23:59</td><td>true</td><td>6</td><td>pepe</td></tr>\n",
       "<tr><td>Liusa</td><td>4879320143</td><td>2022-09-05 11:23:59</td><td>true</td><td>7</td><td>liusa</td></tr>\n",
       "</table>\n"
      ],
      "text/plain": [
       "+--------+----------+-------------------+--------+-------+----------+\n",
       "|    name|       dni|               date|is_human|row_idx|lower_name|\n",
       "+--------+----------+-------------------+--------+-------+----------+\n",
       "|   Ricky|4879320143|2022-09-05 11:23:59|    true|      1|     ricky|\n",
       "|   Simon|4879320143|2022-09-05 11:23:59|    true|      2|     simon|\n",
       "|  Sergio|4879320143|2022-09-05 11:23:59|    true|      3|    sergio|\n",
       "| Pedrito|4879320143|2022-09-07 11:23:59|    true|      4|   pedrito|\n",
       "|jJuenito|4879320143|2022-09-08 11:23:59|    true|      5|  jjuenito|\n",
       "|    Pepe|4879320143|2022-09-09 11:23:59|    true|      6|      pepe|\n",
       "|   Liusa|4879320143|2022-09-05 11:23:59|    true|      7|     liusa|\n",
       "+--------+----------+-------------------+--------+-------+----------+"
      ]
     },
     "execution_count": 30,
     "metadata": {},
     "output_type": "execute_result"
    }
   ],
   "source": [
    "spark_df.withColumn(\"lower_name\", F.lower(F.col(\"name\")))"
   ]
  },
  {
   "cell_type": "code",
   "execution_count": 31,
   "metadata": {},
   "outputs": [],
   "source": [
    "# 11. `select`: Sélectionner des colonnes spécifiques"
   ]
  },
  {
   "cell_type": "code",
   "execution_count": 32,
   "metadata": {},
   "outputs": [
    {
     "data": {
      "text/html": [
       "<table border='1'>\n",
       "<tr><th>dni</th></tr>\n",
       "<tr><td>4879320143</td></tr>\n",
       "<tr><td>4879320143</td></tr>\n",
       "<tr><td>4879320143</td></tr>\n",
       "<tr><td>4879320143</td></tr>\n",
       "<tr><td>4879320143</td></tr>\n",
       "<tr><td>4879320143</td></tr>\n",
       "<tr><td>4879320143</td></tr>\n",
       "</table>\n"
      ],
      "text/plain": [
       "+----------+\n",
       "|       dni|\n",
       "+----------+\n",
       "|4879320143|\n",
       "|4879320143|\n",
       "|4879320143|\n",
       "|4879320143|\n",
       "|4879320143|\n",
       "|4879320143|\n",
       "|4879320143|\n",
       "+----------+"
      ]
     },
     "execution_count": 32,
     "metadata": {},
     "output_type": "execute_result"
    }
   ],
   "source": [
    "spark_df.select(\"dni\")"
   ]
  },
  {
   "cell_type": "code",
   "execution_count": 33,
   "metadata": {},
   "outputs": [],
   "source": [
    "# 12. `withColumn`: Créer une nouvelle colonne"
   ]
  },
  {
   "cell_type": "code",
   "execution_count": 34,
   "metadata": {},
   "outputs": [
    {
     "data": {
      "text/html": [
       "<table border='1'>\n",
       "<tr><th>name</th><th>dni</th><th>date</th><th>is_human</th><th>row_idx</th><th>lower_name</th></tr>\n",
       "<tr><td> Ricky</td><td>4879320143</td><td>2022-09-05 11:23:59</td><td>true</td><td>1</td><td> ricky</td></tr>\n",
       "<tr><td>Simon</td><td>4879320143</td><td>2022-09-05 11:23:59</td><td>true</td><td>2</td><td>simon</td></tr>\n",
       "<tr><td>Sergio</td><td>4879320143</td><td>2022-09-05 11:23:59</td><td>true</td><td>3</td><td>sergio</td></tr>\n",
       "<tr><td>Pedrito</td><td>4879320143</td><td>2022-09-07 11:23:59</td><td>true</td><td>4</td><td>pedrito</td></tr>\n",
       "<tr><td>jJuenito</td><td>4879320143</td><td>2022-09-08 11:23:59</td><td>true</td><td>5</td><td>jjuenito</td></tr>\n",
       "<tr><td>Pepe</td><td>4879320143</td><td>2022-09-09 11:23:59</td><td>true</td><td>6</td><td>pepe</td></tr>\n",
       "<tr><td>Liusa</td><td>4879320143</td><td>2022-09-05 11:23:59</td><td>true</td><td>7</td><td>liusa</td></tr>\n",
       "</table>\n"
      ],
      "text/plain": [
       "+--------+----------+-------------------+--------+-------+----------+\n",
       "|    name|       dni|               date|is_human|row_idx|lower_name|\n",
       "+--------+----------+-------------------+--------+-------+----------+\n",
       "|   Ricky|4879320143|2022-09-05 11:23:59|    true|      1|     ricky|\n",
       "|   Simon|4879320143|2022-09-05 11:23:59|    true|      2|     simon|\n",
       "|  Sergio|4879320143|2022-09-05 11:23:59|    true|      3|    sergio|\n",
       "| Pedrito|4879320143|2022-09-07 11:23:59|    true|      4|   pedrito|\n",
       "|jJuenito|4879320143|2022-09-08 11:23:59|    true|      5|  jjuenito|\n",
       "|    Pepe|4879320143|2022-09-09 11:23:59|    true|      6|      pepe|\n",
       "|   Liusa|4879320143|2022-09-05 11:23:59|    true|      7|     liusa|\n",
       "+--------+----------+-------------------+--------+-------+----------+"
      ]
     },
     "execution_count": 34,
     "metadata": {},
     "output_type": "execute_result"
    }
   ],
   "source": [
    "spark_df.withColumn(\"lower_name\", F.lower(F.col(\"name\")))"
   ]
  },
  {
   "cell_type": "code",
   "execution_count": 35,
   "metadata": {},
   "outputs": [],
   "source": [
    "# 13. `withColumnRenamed`: Renommer une colonne"
   ]
  },
  {
   "cell_type": "code",
   "execution_count": 36,
   "metadata": {},
   "outputs": [
    {
     "data": {
      "text/html": [
       "<table border='1'>\n",
       "<tr><th>nameh</th><th>dni</th><th>date</th><th>is_human</th><th>row_idx</th></tr>\n",
       "<tr><td> Ricky</td><td>4879320143</td><td>2022-09-05 11:23:59</td><td>true</td><td>1</td></tr>\n",
       "<tr><td>Simon</td><td>4879320143</td><td>2022-09-05 11:23:59</td><td>true</td><td>2</td></tr>\n",
       "<tr><td>Sergio</td><td>4879320143</td><td>2022-09-05 11:23:59</td><td>true</td><td>3</td></tr>\n",
       "<tr><td>Pedrito</td><td>4879320143</td><td>2022-09-07 11:23:59</td><td>true</td><td>4</td></tr>\n",
       "<tr><td>jJuenito</td><td>4879320143</td><td>2022-09-08 11:23:59</td><td>true</td><td>5</td></tr>\n",
       "<tr><td>Pepe</td><td>4879320143</td><td>2022-09-09 11:23:59</td><td>true</td><td>6</td></tr>\n",
       "<tr><td>Liusa</td><td>4879320143</td><td>2022-09-05 11:23:59</td><td>true</td><td>7</td></tr>\n",
       "</table>\n"
      ],
      "text/plain": [
       "+--------+----------+-------------------+--------+-------+\n",
       "|   nameh|       dni|               date|is_human|row_idx|\n",
       "+--------+----------+-------------------+--------+-------+\n",
       "|   Ricky|4879320143|2022-09-05 11:23:59|    true|      1|\n",
       "|   Simon|4879320143|2022-09-05 11:23:59|    true|      2|\n",
       "|  Sergio|4879320143|2022-09-05 11:23:59|    true|      3|\n",
       "| Pedrito|4879320143|2022-09-07 11:23:59|    true|      4|\n",
       "|jJuenito|4879320143|2022-09-08 11:23:59|    true|      5|\n",
       "|    Pepe|4879320143|2022-09-09 11:23:59|    true|      6|\n",
       "|   Liusa|4879320143|2022-09-05 11:23:59|    true|      7|\n",
       "+--------+----------+-------------------+--------+-------+"
      ]
     },
     "execution_count": 36,
     "metadata": {},
     "output_type": "execute_result"
    }
   ],
   "source": [
    "spark_df.withColumnRenamed(\"name\", \"nameh\")"
   ]
  },
  {
   "cell_type": "code",
   "execution_count": 37,
   "metadata": {},
   "outputs": [],
   "source": [
    "# 14. `drop`: Supprimer une colonne"
   ]
  },
  {
   "cell_type": "code",
   "execution_count": 38,
   "metadata": {},
   "outputs": [
    {
     "data": {
      "text/html": [
       "<table border='1'>\n",
       "<tr><th>name</th><th>date</th><th>is_human</th><th>row_idx</th></tr>\n",
       "<tr><td> Ricky</td><td>2022-09-05 11:23:59</td><td>true</td><td>1</td></tr>\n",
       "<tr><td>Simon</td><td>2022-09-05 11:23:59</td><td>true</td><td>2</td></tr>\n",
       "<tr><td>Sergio</td><td>2022-09-05 11:23:59</td><td>true</td><td>3</td></tr>\n",
       "<tr><td>Pedrito</td><td>2022-09-07 11:23:59</td><td>true</td><td>4</td></tr>\n",
       "<tr><td>jJuenito</td><td>2022-09-08 11:23:59</td><td>true</td><td>5</td></tr>\n",
       "<tr><td>Pepe</td><td>2022-09-09 11:23:59</td><td>true</td><td>6</td></tr>\n",
       "<tr><td>Liusa</td><td>2022-09-05 11:23:59</td><td>true</td><td>7</td></tr>\n",
       "</table>\n"
      ],
      "text/plain": [
       "+--------+-------------------+--------+-------+\n",
       "|    name|               date|is_human|row_idx|\n",
       "+--------+-------------------+--------+-------+\n",
       "|   Ricky|2022-09-05 11:23:59|    true|      1|\n",
       "|   Simon|2022-09-05 11:23:59|    true|      2|\n",
       "|  Sergio|2022-09-05 11:23:59|    true|      3|\n",
       "| Pedrito|2022-09-07 11:23:59|    true|      4|\n",
       "|jJuenito|2022-09-08 11:23:59|    true|      5|\n",
       "|    Pepe|2022-09-09 11:23:59|    true|      6|\n",
       "|   Liusa|2022-09-05 11:23:59|    true|      7|\n",
       "+--------+-------------------+--------+-------+"
      ]
     },
     "execution_count": 38,
     "metadata": {},
     "output_type": "execute_result"
    }
   ],
   "source": [
    "spark_df.drop(\"dni\")"
   ]
  },
  {
   "cell_type": "code",
   "execution_count": 39,
   "metadata": {},
   "outputs": [],
   "source": [
    "# 15. `join`: Joindre deux DataFrames (ici nous réutilisons le DataFrame lui-même pour l'exemple)"
   ]
  },
  {
   "cell_type": "code",
   "execution_count": 40,
   "metadata": {},
   "outputs": [
    {
     "data": {
      "text/html": [
       "<table border='1'>\n",
       "<tr><th>name</th><th>dni</th><th>date</th><th>is_human</th><th>row_idx</th><th>name</th><th>dni</th><th>date</th><th>is_human</th><th>row_idx</th></tr>\n",
       "<tr><td> Ricky</td><td>4879320143</td><td>2022-09-05 11:23:59</td><td>true</td><td>1</td><td> Ricky</td><td>4879320143</td><td>2022-09-05 11:23:59</td><td>true</td><td>1</td></tr>\n",
       "<tr><td>Simon</td><td>4879320143</td><td>2022-09-05 11:23:59</td><td>true</td><td>2</td><td>Simon</td><td>4879320143</td><td>2022-09-05 11:23:59</td><td>true</td><td>2</td></tr>\n",
       "<tr><td>Sergio</td><td>4879320143</td><td>2022-09-05 11:23:59</td><td>true</td><td>3</td><td>Sergio</td><td>4879320143</td><td>2022-09-05 11:23:59</td><td>true</td><td>3</td></tr>\n",
       "<tr><td>Pedrito</td><td>4879320143</td><td>2022-09-07 11:23:59</td><td>true</td><td>4</td><td>Pedrito</td><td>4879320143</td><td>2022-09-07 11:23:59</td><td>true</td><td>4</td></tr>\n",
       "<tr><td>jJuenito</td><td>4879320143</td><td>2022-09-08 11:23:59</td><td>true</td><td>5</td><td>jJuenito</td><td>4879320143</td><td>2022-09-08 11:23:59</td><td>true</td><td>5</td></tr>\n",
       "<tr><td>Pepe</td><td>4879320143</td><td>2022-09-09 11:23:59</td><td>true</td><td>6</td><td>Pepe</td><td>4879320143</td><td>2022-09-09 11:23:59</td><td>true</td><td>6</td></tr>\n",
       "<tr><td>Liusa</td><td>4879320143</td><td>2022-09-05 11:23:59</td><td>true</td><td>7</td><td>Liusa</td><td>4879320143</td><td>2022-09-05 11:23:59</td><td>true</td><td>7</td></tr>\n",
       "</table>\n"
      ],
      "text/plain": [
       "+--------+----------+-------------------+--------+-------+--------+----------+-------------------+--------+-------+\n",
       "|    name|       dni|               date|is_human|row_idx|    name|       dni|               date|is_human|row_idx|\n",
       "+--------+----------+-------------------+--------+-------+--------+----------+-------------------+--------+-------+\n",
       "|   Ricky|4879320143|2022-09-05 11:23:59|    true|      1|   Ricky|4879320143|2022-09-05 11:23:59|    true|      1|\n",
       "|   Simon|4879320143|2022-09-05 11:23:59|    true|      2|   Simon|4879320143|2022-09-05 11:23:59|    true|      2|\n",
       "|  Sergio|4879320143|2022-09-05 11:23:59|    true|      3|  Sergio|4879320143|2022-09-05 11:23:59|    true|      3|\n",
       "| Pedrito|4879320143|2022-09-07 11:23:59|    true|      4| Pedrito|4879320143|2022-09-07 11:23:59|    true|      4|\n",
       "|jJuenito|4879320143|2022-09-08 11:23:59|    true|      5|jJuenito|4879320143|2022-09-08 11:23:59|    true|      5|\n",
       "|    Pepe|4879320143|2022-09-09 11:23:59|    true|      6|    Pepe|4879320143|2022-09-09 11:23:59|    true|      6|\n",
       "|   Liusa|4879320143|2022-09-05 11:23:59|    true|      7|   Liusa|4879320143|2022-09-05 11:23:59|    true|      7|\n",
       "+--------+----------+-------------------+--------+-------+--------+----------+-------------------+--------+-------+"
      ]
     },
     "execution_count": 40,
     "metadata": {},
     "output_type": "execute_result"
    }
   ],
   "source": [
    "spark_df.join(spark_df, spark_df.name ==  spark_df.name,\"inner\")"
   ]
  },
  {
   "cell_type": "code",
   "execution_count": 41,
   "metadata": {},
   "outputs": [],
   "source": [
    "# 16. `groupBy` et `agg`: Grouper par une colonne et appliquer une agrégation"
   ]
  },
  {
   "cell_type": "code",
   "execution_count": 42,
   "metadata": {},
   "outputs": [
    {
     "name": "stdout",
     "output_type": "stream",
     "text": [
      "+-------------------+----------+----------+---------+---------+\n",
      "|date               |sum_salary|avg_salary|sum_bonus|max_bonus|\n",
      "+-------------------+----------+----------+---------+---------+\n",
      "|2022-09-05 11:23:59|NULL      |NULL      |NULL     |Simon    |\n",
      "|2022-09-07 11:23:59|NULL      |NULL      |NULL     |Pedrito  |\n",
      "|2022-09-08 11:23:59|NULL      |NULL      |NULL     |jJuenito |\n",
      "|2022-09-09 11:23:59|NULL      |NULL      |NULL     |Pepe     |\n",
      "+-------------------+----------+----------+---------+---------+\n",
      "\n"
     ]
    }
   ],
   "source": [
    "spark_df.groupBy(\"date\") \\\n",
    "    .agg(F.sum(\"name\").alias(\"sum_salary\"), \\\n",
    "         F.avg(\"name\").alias(\"avg_salary\"), \\\n",
    "         F.sum(\"name\").alias(\"sum_bonus\"), \\\n",
    "         F.max(\"name\").alias(\"max_bonus\") \\\n",
    "     ) \\\n",
    "    .show(truncate=False)"
   ]
  },
  {
   "cell_type": "code",
   "execution_count": 43,
   "metadata": {},
   "outputs": [],
   "source": [
    "# 17. `drop_duplicates`: Supprimer les doublons"
   ]
  },
  {
   "cell_type": "code",
   "execution_count": 44,
   "metadata": {},
   "outputs": [
    {
     "data": {
      "text/html": [
       "<table border='1'>\n",
       "<tr><th>name</th><th>dni</th><th>date</th><th>is_human</th><th>row_idx</th></tr>\n",
       "<tr><td> Ricky</td><td>4879320143</td><td>2022-09-05 11:23:59</td><td>true</td><td>1</td></tr>\n",
       "<tr><td>Pedrito</td><td>4879320143</td><td>2022-09-07 11:23:59</td><td>true</td><td>4</td></tr>\n",
       "<tr><td>jJuenito</td><td>4879320143</td><td>2022-09-08 11:23:59</td><td>true</td><td>5</td></tr>\n",
       "<tr><td>Pepe</td><td>4879320143</td><td>2022-09-09 11:23:59</td><td>true</td><td>6</td></tr>\n",
       "</table>\n"
      ],
      "text/plain": [
       "+--------+----------+-------------------+--------+-------+\n",
       "|    name|       dni|               date|is_human|row_idx|\n",
       "+--------+----------+-------------------+--------+-------+\n",
       "|   Ricky|4879320143|2022-09-05 11:23:59|    true|      1|\n",
       "| Pedrito|4879320143|2022-09-07 11:23:59|    true|      4|\n",
       "|jJuenito|4879320143|2022-09-08 11:23:59|    true|      5|\n",
       "|    Pepe|4879320143|2022-09-09 11:23:59|    true|      6|\n",
       "+--------+----------+-------------------+--------+-------+"
      ]
     },
     "execution_count": 44,
     "metadata": {},
     "output_type": "execute_result"
    }
   ],
   "source": [
    "spark_df.dropDuplicates([\"date\"])"
   ]
  },
  {
   "cell_type": "code",
   "execution_count": 45,
   "metadata": {},
   "outputs": [],
   "source": [
    "# 18. `where`/`filter`: Filtrer les lignes selon une condition"
   ]
  },
  {
   "cell_type": "code",
   "execution_count": 46,
   "metadata": {},
   "outputs": [
    {
     "data": {
      "text/html": [
       "<table border='1'>\n",
       "<tr><th>name</th><th>dni</th><th>date</th><th>is_human</th><th>row_idx</th></tr>\n",
       "<tr><td>Pepe</td><td>4879320143</td><td>2022-09-09 11:23:59</td><td>true</td><td>6</td></tr>\n",
       "</table>\n"
      ],
      "text/plain": [
       "+----+----------+-------------------+--------+-------+\n",
       "|name|       dni|               date|is_human|row_idx|\n",
       "+----+----------+-------------------+--------+-------+\n",
       "|Pepe|4879320143|2022-09-09 11:23:59|    true|      6|\n",
       "+----+----------+-------------------+--------+-------+"
      ]
     },
     "execution_count": 46,
     "metadata": {},
     "output_type": "execute_result"
    }
   ],
   "source": [
    "spark_df.filter(spark_df.name == \"Pepe\")"
   ]
  },
  {
   "cell_type": "code",
   "execution_count": 47,
   "metadata": {},
   "outputs": [],
   "source": [
    "# 19. `when` et `otherwise`: Créer une colonne conditionnelle"
   ]
  },
  {
   "cell_type": "code",
   "execution_count": 48,
   "metadata": {},
   "outputs": [
    {
     "data": {
      "text/html": [
       "<table border='1'>\n",
       "<tr><th>name</th><th>dni</th><th>date</th><th>is_human</th><th>row_idx</th><th>IS_IT_PEPE?????</th></tr>\n",
       "<tr><td> Ricky</td><td>4879320143</td><td>2022-09-05 11:23:59</td><td>true</td><td>1</td><td> Ricky</td></tr>\n",
       "<tr><td>Simon</td><td>4879320143</td><td>2022-09-05 11:23:59</td><td>true</td><td>2</td><td>Simon</td></tr>\n",
       "<tr><td>Sergio</td><td>4879320143</td><td>2022-09-05 11:23:59</td><td>true</td><td>3</td><td>Sergio</td></tr>\n",
       "<tr><td>Pedrito</td><td>4879320143</td><td>2022-09-07 11:23:59</td><td>true</td><td>4</td><td>Pedrito</td></tr>\n",
       "<tr><td>jJuenito</td><td>4879320143</td><td>2022-09-08 11:23:59</td><td>true</td><td>5</td><td>jJuenito</td></tr>\n",
       "<tr><td>Pepe</td><td>4879320143</td><td>2022-09-09 11:23:59</td><td>true</td><td>6</td><td>YES IT ISSSSSSSSS...</td></tr>\n",
       "<tr><td>Liusa</td><td>4879320143</td><td>2022-09-05 11:23:59</td><td>true</td><td>7</td><td>Liusa</td></tr>\n",
       "</table>\n"
      ],
      "text/plain": [
       "+--------+----------+-------------------+--------+-------+--------------------+\n",
       "|    name|       dni|               date|is_human|row_idx|     IS_IT_PEPE?????|\n",
       "+--------+----------+-------------------+--------+-------+--------------------+\n",
       "|   Ricky|4879320143|2022-09-05 11:23:59|    true|      1|               Ricky|\n",
       "|   Simon|4879320143|2022-09-05 11:23:59|    true|      2|               Simon|\n",
       "|  Sergio|4879320143|2022-09-05 11:23:59|    true|      3|              Sergio|\n",
       "| Pedrito|4879320143|2022-09-07 11:23:59|    true|      4|             Pedrito|\n",
       "|jJuenito|4879320143|2022-09-08 11:23:59|    true|      5|            jJuenito|\n",
       "|    Pepe|4879320143|2022-09-09 11:23:59|    true|      6|YES IT ISSSSSSSSS...|\n",
       "|   Liusa|4879320143|2022-09-05 11:23:59|    true|      7|               Liusa|\n",
       "+--------+----------+-------------------+--------+-------+--------------------+"
      ]
     },
     "execution_count": 48,
     "metadata": {},
     "output_type": "execute_result"
    }
   ],
   "source": [
    "spark_df.withColumn(\"IS_IT_PEPE?????\", F.when(F.col('name') == \"Pepe\",\"YES IT ISSSSSSSSSSSSSSSSSSS\") \\\n",
    "                                 .otherwise(spark_df.name))"
   ]
  },
  {
   "cell_type": "code",
   "execution_count": 49,
   "metadata": {},
   "outputs": [],
   "source": [
    "# 20. `astype`: Changer le type de colonne (équivalent à `cast`)"
   ]
  },
  {
   "cell_type": "code",
   "execution_count": 50,
   "metadata": {
    "scrolled": true
   },
   "outputs": [
    {
     "data": {
      "text/html": [
       "<table border='1'>\n",
       "<tr><th>name</th><th>dni</th><th>date</th><th>is_human</th><th>row_idx</th><th>dniflote</th></tr>\n",
       "<tr><td> Ricky</td><td>4879320143</td><td>2022-09-05 11:23:59</td><td>true</td><td>1</td><td>4.8793201E9</td></tr>\n",
       "<tr><td>Simon</td><td>4879320143</td><td>2022-09-05 11:23:59</td><td>true</td><td>2</td><td>4.8793201E9</td></tr>\n",
       "<tr><td>Sergio</td><td>4879320143</td><td>2022-09-05 11:23:59</td><td>true</td><td>3</td><td>4.8793201E9</td></tr>\n",
       "<tr><td>Pedrito</td><td>4879320143</td><td>2022-09-07 11:23:59</td><td>true</td><td>4</td><td>4.8793201E9</td></tr>\n",
       "<tr><td>jJuenito</td><td>4879320143</td><td>2022-09-08 11:23:59</td><td>true</td><td>5</td><td>4.8793201E9</td></tr>\n",
       "<tr><td>Pepe</td><td>4879320143</td><td>2022-09-09 11:23:59</td><td>true</td><td>6</td><td>4.8793201E9</td></tr>\n",
       "<tr><td>Liusa</td><td>4879320143</td><td>2022-09-05 11:23:59</td><td>true</td><td>7</td><td>4.8793201E9</td></tr>\n",
       "</table>\n"
      ],
      "text/plain": [
       "+--------+----------+-------------------+--------+-------+-----------+\n",
       "|    name|       dni|               date|is_human|row_idx|   dniflote|\n",
       "+--------+----------+-------------------+--------+-------+-----------+\n",
       "|   Ricky|4879320143|2022-09-05 11:23:59|    true|      1|4.8793201E9|\n",
       "|   Simon|4879320143|2022-09-05 11:23:59|    true|      2|4.8793201E9|\n",
       "|  Sergio|4879320143|2022-09-05 11:23:59|    true|      3|4.8793201E9|\n",
       "| Pedrito|4879320143|2022-09-07 11:23:59|    true|      4|4.8793201E9|\n",
       "|jJuenito|4879320143|2022-09-08 11:23:59|    true|      5|4.8793201E9|\n",
       "|    Pepe|4879320143|2022-09-09 11:23:59|    true|      6|4.8793201E9|\n",
       "|   Liusa|4879320143|2022-09-05 11:23:59|    true|      7|4.8793201E9|\n",
       "+--------+----------+-------------------+--------+-------+-----------+"
      ]
     },
     "execution_count": 50,
     "metadata": {},
     "output_type": "execute_result"
    }
   ],
   "source": [
    "spark_df.withColumn('dniflote', F.col('dni').astype('float'))"
   ]
  },
  {
   "cell_type": "code",
   "execution_count": 51,
   "metadata": {},
   "outputs": [],
   "source": [
    "# 21. `isin`: Vérifier si une valeur est dans une liste"
   ]
  },
  {
   "cell_type": "code",
   "execution_count": 52,
   "metadata": {},
   "outputs": [
    {
     "data": {
      "text/html": [
       "<table border='1'>\n",
       "<tr><th>name</th><th>dni</th><th>date</th><th>is_human</th><th>row_idx</th></tr>\n",
       "<tr><td>Pepe</td><td>4879320143</td><td>2022-09-09 11:23:59</td><td>true</td><td>6</td></tr>\n",
       "</table>\n"
      ],
      "text/plain": [
       "+----+----------+-------------------+--------+-------+\n",
       "|name|       dni|               date|is_human|row_idx|\n",
       "+----+----------+-------------------+--------+-------+\n",
       "|Pepe|4879320143|2022-09-09 11:23:59|    true|      6|\n",
       "+----+----------+-------------------+--------+-------+"
      ]
     },
     "execution_count": 52,
     "metadata": {},
     "output_type": "execute_result"
    }
   ],
   "source": [
    "spark_df.filter(F.col(\"name\").isin(\"Pepe\"))"
   ]
  },
  {
   "cell_type": "code",
   "execution_count": 53,
   "metadata": {},
   "outputs": [],
   "source": [
    "# 22. `lower`: Mettre des chaînes en minuscules (déjà utilisé mais réutilisé ici)"
   ]
  },
  {
   "cell_type": "code",
   "execution_count": 54,
   "metadata": {},
   "outputs": [
    {
     "data": {
      "text/html": [
       "<table border='1'>\n",
       "<tr><th>name</th><th>dni</th><th>date</th><th>is_human</th><th>row_idx</th><th>lower_name</th></tr>\n",
       "<tr><td> Ricky</td><td>4879320143</td><td>2022-09-05 11:23:59</td><td>true</td><td>1</td><td> ricky</td></tr>\n",
       "<tr><td>Simon</td><td>4879320143</td><td>2022-09-05 11:23:59</td><td>true</td><td>2</td><td>simon</td></tr>\n",
       "<tr><td>Sergio</td><td>4879320143</td><td>2022-09-05 11:23:59</td><td>true</td><td>3</td><td>sergio</td></tr>\n",
       "<tr><td>Pedrito</td><td>4879320143</td><td>2022-09-07 11:23:59</td><td>true</td><td>4</td><td>pedrito</td></tr>\n",
       "<tr><td>jJuenito</td><td>4879320143</td><td>2022-09-08 11:23:59</td><td>true</td><td>5</td><td>jjuenito</td></tr>\n",
       "<tr><td>Pepe</td><td>4879320143</td><td>2022-09-09 11:23:59</td><td>true</td><td>6</td><td>pepe</td></tr>\n",
       "<tr><td>Liusa</td><td>4879320143</td><td>2022-09-05 11:23:59</td><td>true</td><td>7</td><td>liusa</td></tr>\n",
       "</table>\n"
      ],
      "text/plain": [
       "+--------+----------+-------------------+--------+-------+----------+\n",
       "|    name|       dni|               date|is_human|row_idx|lower_name|\n",
       "+--------+----------+-------------------+--------+-------+----------+\n",
       "|   Ricky|4879320143|2022-09-05 11:23:59|    true|      1|     ricky|\n",
       "|   Simon|4879320143|2022-09-05 11:23:59|    true|      2|     simon|\n",
       "|  Sergio|4879320143|2022-09-05 11:23:59|    true|      3|    sergio|\n",
       "| Pedrito|4879320143|2022-09-07 11:23:59|    true|      4|   pedrito|\n",
       "|jJuenito|4879320143|2022-09-08 11:23:59|    true|      5|  jjuenito|\n",
       "|    Pepe|4879320143|2022-09-09 11:23:59|    true|      6|      pepe|\n",
       "|   Liusa|4879320143|2022-09-05 11:23:59|    true|      7|     liusa|\n",
       "+--------+----------+-------------------+--------+-------+----------+"
      ]
     },
     "execution_count": 54,
     "metadata": {},
     "output_type": "execute_result"
    }
   ],
   "source": [
    "spark_df.withColumn(\"lower_name\", F.lower(F.col(\"name\")))"
   ]
  },
  {
   "cell_type": "code",
   "execution_count": 55,
   "metadata": {},
   "outputs": [],
   "source": [
    "# 23. `alias`: Utiliser un alias pour une colonne"
   ]
  },
  {
   "cell_type": "code",
   "execution_count": 56,
   "metadata": {},
   "outputs": [
    {
     "data": {
      "text/html": [
       "<table border='1'>\n",
       "<tr><th>NAMEH</th></tr>\n",
       "<tr><td> Ricky</td></tr>\n",
       "<tr><td>Simon</td></tr>\n",
       "<tr><td>Sergio</td></tr>\n",
       "<tr><td>Pedrito</td></tr>\n",
       "<tr><td>jJuenito</td></tr>\n",
       "<tr><td>Pepe</td></tr>\n",
       "<tr><td>Liusa</td></tr>\n",
       "</table>\n"
      ],
      "text/plain": [
       "+--------+\n",
       "|   NAMEH|\n",
       "+--------+\n",
       "|   Ricky|\n",
       "|   Simon|\n",
       "|  Sergio|\n",
       "| Pedrito|\n",
       "|jJuenito|\n",
       "|    Pepe|\n",
       "|   Liusa|\n",
       "+--------+"
      ]
     },
     "execution_count": 56,
     "metadata": {},
     "output_type": "execute_result"
    }
   ],
   "source": [
    "spark_df.select(F.col(\"name\").alias(\"NAMEH\"))"
   ]
  },
  {
   "cell_type": "code",
   "execution_count": 57,
   "metadata": {},
   "outputs": [],
   "source": [
    "# 24. `isNull` et `isNotNull`: Vérifier si une colonne est nulle ou non"
   ]
  },
  {
   "cell_type": "code",
   "execution_count": 58,
   "metadata": {},
   "outputs": [
    {
     "data": {
      "text/html": [
       "<table border='1'>\n",
       "<tr><th>name</th><th>dni</th><th>date</th><th>is_human</th><th>row_idx</th></tr>\n",
       "</table>\n"
      ],
      "text/plain": [
       "+----+---+----+--------+-------+\n",
       "|name|dni|date|is_human|row_idx|\n",
       "+----+---+----+--------+-------+\n",
       "+----+---+----+--------+-------+"
      ]
     },
     "execution_count": 58,
     "metadata": {},
     "output_type": "execute_result"
    }
   ],
   "source": [
    "spark_df.filter(F.col(\"name\").isNull())"
   ]
  },
  {
   "cell_type": "code",
   "execution_count": 59,
   "metadata": {},
   "outputs": [
    {
     "data": {
      "text/html": [
       "<table border='1'>\n",
       "<tr><th>name</th><th>dni</th><th>date</th><th>is_human</th><th>row_idx</th></tr>\n",
       "<tr><td> Ricky</td><td>4879320143</td><td>2022-09-05 11:23:59</td><td>true</td><td>1</td></tr>\n",
       "<tr><td>Simon</td><td>4879320143</td><td>2022-09-05 11:23:59</td><td>true</td><td>2</td></tr>\n",
       "<tr><td>Sergio</td><td>4879320143</td><td>2022-09-05 11:23:59</td><td>true</td><td>3</td></tr>\n",
       "<tr><td>Pedrito</td><td>4879320143</td><td>2022-09-07 11:23:59</td><td>true</td><td>4</td></tr>\n",
       "<tr><td>jJuenito</td><td>4879320143</td><td>2022-09-08 11:23:59</td><td>true</td><td>5</td></tr>\n",
       "<tr><td>Pepe</td><td>4879320143</td><td>2022-09-09 11:23:59</td><td>true</td><td>6</td></tr>\n",
       "<tr><td>Liusa</td><td>4879320143</td><td>2022-09-05 11:23:59</td><td>true</td><td>7</td></tr>\n",
       "</table>\n"
      ],
      "text/plain": [
       "+--------+----------+-------------------+--------+-------+\n",
       "|    name|       dni|               date|is_human|row_idx|\n",
       "+--------+----------+-------------------+--------+-------+\n",
       "|   Ricky|4879320143|2022-09-05 11:23:59|    true|      1|\n",
       "|   Simon|4879320143|2022-09-05 11:23:59|    true|      2|\n",
       "|  Sergio|4879320143|2022-09-05 11:23:59|    true|      3|\n",
       "| Pedrito|4879320143|2022-09-07 11:23:59|    true|      4|\n",
       "|jJuenito|4879320143|2022-09-08 11:23:59|    true|      5|\n",
       "|    Pepe|4879320143|2022-09-09 11:23:59|    true|      6|\n",
       "|   Liusa|4879320143|2022-09-05 11:23:59|    true|      7|\n",
       "+--------+----------+-------------------+--------+-------+"
      ]
     },
     "execution_count": 59,
     "metadata": {},
     "output_type": "execute_result"
    }
   ],
   "source": [
    "spark_df.filter(F.col(\"name\").isNotNull())"
   ]
  },
  {
   "cell_type": "code",
   "execution_count": 60,
   "metadata": {},
   "outputs": [],
   "source": [
    "# 25. `like` et `rlike`: Filtrer les chaînes avec un modèle"
   ]
  },
  {
   "cell_type": "code",
   "execution_count": 61,
   "metadata": {
    "scrolled": true
   },
   "outputs": [
    {
     "data": {
      "text/html": [
       "<table border='1'>\n",
       "<tr><th>name</th><th>dni</th><th>date</th><th>is_human</th><th>row_idx</th></tr>\n",
       "<tr><td>Pedrito</td><td>4879320143</td><td>2022-09-07 11:23:59</td><td>true</td><td>4</td></tr>\n",
       "<tr><td>jJuenito</td><td>4879320143</td><td>2022-09-08 11:23:59</td><td>true</td><td>5</td></tr>\n",
       "</table>\n"
      ],
      "text/plain": [
       "+--------+----------+-------------------+--------+-------+\n",
       "|    name|       dni|               date|is_human|row_idx|\n",
       "+--------+----------+-------------------+--------+-------+\n",
       "| Pedrito|4879320143|2022-09-07 11:23:59|    true|      4|\n",
       "|jJuenito|4879320143|2022-09-08 11:23:59|    true|      5|\n",
       "+--------+----------+-------------------+--------+-------+"
      ]
     },
     "execution_count": 61,
     "metadata": {},
     "output_type": "execute_result"
    }
   ],
   "source": [
    "spark_df.where(\"name like '%ito%'\")"
   ]
  },
  {
   "cell_type": "code",
   "execution_count": 62,
   "metadata": {},
   "outputs": [
    {
     "data": {
      "text/html": [
       "<table border='1'>\n",
       "<tr><th>name</th><th>dni</th><th>date</th><th>is_human</th><th>row_idx</th></tr>\n",
       "<tr><td>Pedrito</td><td>4879320143</td><td>2022-09-07 11:23:59</td><td>true</td><td>4</td></tr>\n",
       "<tr><td>jJuenito</td><td>4879320143</td><td>2022-09-08 11:23:59</td><td>true</td><td>5</td></tr>\n",
       "</table>\n"
      ],
      "text/plain": [
       "+--------+----------+-------------------+--------+-------+\n",
       "|    name|       dni|               date|is_human|row_idx|\n",
       "+--------+----------+-------------------+--------+-------+\n",
       "| Pedrito|4879320143|2022-09-07 11:23:59|    true|      4|\n",
       "|jJuenito|4879320143|2022-09-08 11:23:59|    true|      5|\n",
       "+--------+----------+-------------------+--------+-------+"
      ]
     },
     "execution_count": 62,
     "metadata": {},
     "output_type": "execute_result"
    }
   ],
   "source": [
    "spark_df.where(\"name rlike '(?i)^*ito$'\")"
   ]
  },
  {
   "cell_type": "code",
   "execution_count": 63,
   "metadata": {},
   "outputs": [],
   "source": [
    "# 26. `regexp_replace`: Remplacer des motifs dans une chaîne avec des expressions régulières"
   ]
  },
  {
   "cell_type": "code",
   "execution_count": 64,
   "metadata": {},
   "outputs": [
    {
     "data": {
      "text/html": [
       "<table border='1'>\n",
       "<tr><th>name</th><th>dni</th><th>date</th><th>is_human</th><th>row_idx</th><th>nameh</th></tr>\n",
       "<tr><td> Ricky</td><td>4879320143</td><td>2022-09-05 11:23:59</td><td>true</td><td>1</td><td> Ricky</td></tr>\n",
       "<tr><td>Simon</td><td>4879320143</td><td>2022-09-05 11:23:59</td><td>true</td><td>2</td><td>Simon</td></tr>\n",
       "<tr><td>Sergio</td><td>4879320143</td><td>2022-09-05 11:23:59</td><td>true</td><td>3</td><td>Sergio</td></tr>\n",
       "<tr><td>Pedrito</td><td>4879320143</td><td>2022-09-07 11:23:59</td><td>true</td><td>4</td><td>Pedrito</td></tr>\n",
       "<tr><td>jJuenito</td><td>4879320143</td><td>2022-09-08 11:23:59</td><td>true</td><td>5</td><td>jJuenito</td></tr>\n",
       "<tr><td>Pepe</td><td>4879320143</td><td>2022-09-09 11:23:59</td><td>true</td><td>6</td><td>Pepe</td></tr>\n",
       "<tr><td>Liusa</td><td>4879320143</td><td>2022-09-05 11:23:59</td><td>true</td><td>7</td><td>Pepe</td></tr>\n",
       "</table>\n"
      ],
      "text/plain": [
       "+--------+----------+-------------------+--------+-------+--------+\n",
       "|    name|       dni|               date|is_human|row_idx|   nameh|\n",
       "+--------+----------+-------------------+--------+-------+--------+\n",
       "|   Ricky|4879320143|2022-09-05 11:23:59|    true|      1|   Ricky|\n",
       "|   Simon|4879320143|2022-09-05 11:23:59|    true|      2|   Simon|\n",
       "|  Sergio|4879320143|2022-09-05 11:23:59|    true|      3|  Sergio|\n",
       "| Pedrito|4879320143|2022-09-07 11:23:59|    true|      4| Pedrito|\n",
       "|jJuenito|4879320143|2022-09-08 11:23:59|    true|      5|jJuenito|\n",
       "|    Pepe|4879320143|2022-09-09 11:23:59|    true|      6|    Pepe|\n",
       "|   Liusa|4879320143|2022-09-05 11:23:59|    true|      7|    Pepe|\n",
       "+--------+----------+-------------------+--------+-------+--------+"
      ]
     },
     "execution_count": 64,
     "metadata": {},
     "output_type": "execute_result"
    }
   ],
   "source": [
    "spark_df.withColumn('nameh', F.regexp_replace('name', 'Liusa', 'Pepe'))"
   ]
  },
  {
   "cell_type": "code",
   "execution_count": 65,
   "metadata": {},
   "outputs": [],
   "source": [
    "# 27. `str.contains`: Vérifier si une chaîne contient un motif (équivalent à `like`)"
   ]
  },
  {
   "cell_type": "code",
   "execution_count": 66,
   "metadata": {},
   "outputs": [
    {
     "data": {
      "text/html": [
       "<table border='1'>\n",
       "<tr><th>name</th><th>dni</th><th>date</th><th>is_human</th><th>row_idx</th></tr>\n",
       "<tr><td>Pedrito</td><td>4879320143</td><td>2022-09-07 11:23:59</td><td>true</td><td>4</td></tr>\n",
       "<tr><td>jJuenito</td><td>4879320143</td><td>2022-09-08 11:23:59</td><td>true</td><td>5</td></tr>\n",
       "</table>\n"
      ],
      "text/plain": [
       "+--------+----------+-------------------+--------+-------+\n",
       "|    name|       dni|               date|is_human|row_idx|\n",
       "+--------+----------+-------------------+--------+-------+\n",
       "| Pedrito|4879320143|2022-09-07 11:23:59|    true|      4|\n",
       "|jJuenito|4879320143|2022-09-08 11:23:59|    true|      5|\n",
       "+--------+----------+-------------------+--------+-------+"
      ]
     },
     "execution_count": 66,
     "metadata": {},
     "output_type": "execute_result"
    }
   ],
   "source": [
    "spark_df.filter(spark_df.name.contains('ito'))"
   ]
  },
  {
   "cell_type": "code",
   "execution_count": 67,
   "metadata": {},
   "outputs": [],
   "source": [
    "# differences performances entre collect() - show()"
   ]
  },
  {
   "cell_type": "code",
   "execution_count": 68,
   "metadata": {},
   "outputs": [
    {
     "name": "stdout",
     "output_type": "stream",
     "text": [
      "Execution time: 9.1552734375e-05\n"
     ]
    },
    {
     "data": {
      "text/plain": [
       "[Row(name=' Ricky', dni=4879320143, date='2022-09-05 11:23:59', is_human=True, row_idx=1),\n",
       " Row(name='Simon', dni=4879320143, date='2022-09-05 11:23:59', is_human=True, row_idx=2),\n",
       " Row(name='Sergio', dni=4879320143, date='2022-09-05 11:23:59', is_human=True, row_idx=3),\n",
       " Row(name='Pedrito', dni=4879320143, date='2022-09-07 11:23:59', is_human=True, row_idx=4),\n",
       " Row(name='jJuenito', dni=4879320143, date='2022-09-08 11:23:59', is_human=True, row_idx=5),\n",
       " Row(name='Pepe', dni=4879320143, date='2022-09-09 11:23:59', is_human=True, row_idx=6),\n",
       " Row(name='Liusa', dni=4879320143, date='2022-09-05 11:23:59', is_human=True, row_idx=7)]"
      ]
     },
     "execution_count": 68,
     "metadata": {},
     "output_type": "execute_result"
    }
   ],
   "source": [
    "start_time = time.time()\n",
    "\n",
    "print(f\"Execution time: {time.time() - start_time}\")\n",
    "\n",
    "spark_df.collect()"
   ]
  },
  {
   "cell_type": "code",
   "execution_count": 69,
   "metadata": {},
   "outputs": [
    {
     "name": "stdout",
     "output_type": "stream",
     "text": [
      "Execution time: 5.054473876953125e-05\n",
      "+--------+----------+-------------------+--------+-------+\n",
      "|    name|       dni|               date|is_human|row_idx|\n",
      "+--------+----------+-------------------+--------+-------+\n",
      "|   Ricky|4879320143|2022-09-05 11:23:59|    true|      1|\n",
      "|   Simon|4879320143|2022-09-05 11:23:59|    true|      2|\n",
      "|  Sergio|4879320143|2022-09-05 11:23:59|    true|      3|\n",
      "| Pedrito|4879320143|2022-09-07 11:23:59|    true|      4|\n",
      "|jJuenito|4879320143|2022-09-08 11:23:59|    true|      5|\n",
      "|    Pepe|4879320143|2022-09-09 11:23:59|    true|      6|\n",
      "|   Liusa|4879320143|2022-09-05 11:23:59|    true|      7|\n",
      "+--------+----------+-------------------+--------+-------+\n",
      "\n"
     ]
    }
   ],
   "source": [
    "start_time = time.time()\n",
    "\n",
    "print(f\"Execution time: {time.time() - start_time}\")\n",
    "\n",
    "spark_df.show()"
   ]
  },
  {
   "cell_type": "code",
   "execution_count": 70,
   "metadata": {},
   "outputs": [],
   "source": [
    "# differences performances entre RDD - count()"
   ]
  },
  {
   "cell_type": "code",
   "execution_count": 71,
   "metadata": {},
   "outputs": [
    {
     "name": "stdout",
     "output_type": "stream",
     "text": [
      "Execution time: 6.842613220214844e-05\n"
     ]
    },
    {
     "data": {
      "text/plain": [
       "7"
      ]
     },
     "execution_count": 71,
     "metadata": {},
     "output_type": "execute_result"
    }
   ],
   "source": [
    "start_time = time.time()\n",
    "\n",
    "print(f\"Execution time: {time.time() - start_time}\")\n",
    "\n",
    "spark_df.count()"
   ]
  },
  {
   "cell_type": "code",
   "execution_count": 72,
   "metadata": {
    "scrolled": true
   },
   "outputs": [
    {
     "name": "stdout",
     "output_type": "stream",
     "text": [
      "Execution time: 7.891654968261719e-05\n"
     ]
    },
    {
     "data": {
      "text/plain": [
       "7"
      ]
     },
     "execution_count": 72,
     "metadata": {},
     "output_type": "execute_result"
    }
   ],
   "source": [
    "start_time = time.time()\n",
    "\n",
    "print(f\"Execution time: {time.time() - start_time}\")\n",
    "\n",
    "spark_df.rdd.count()"
   ]
  },
  {
   "cell_type": "code",
   "execution_count": 73,
   "metadata": {},
   "outputs": [],
   "source": [
    "# why not rdd\n",
    "# cuz its low-level and do not provide an optimized execution plan for many data processing tasks.\n",
    "# pas optimizé koa\n",
    "\n",
    "# why not collect()\n",
    "# it brings all data to the driver node, potentially causing memory issues\n",
    "# sa l'emmene a la racine de pyspark en gros tavu"
   ]
  },
  {
   "cell_type": "code",
   "execution_count": 74,
   "metadata": {},
   "outputs": [],
   "source": [
    "# un RDD est un Resilient Distributed Datasets qui a été crée par de la paralélisation (processus qui se lance sur plusieurs noeud du CPU je pense)\n",
    "# et est immuable"
   ]
  }
 ],
 "metadata": {
  "kernelspec": {
   "display_name": "Python 3 (ipykernel)",
   "language": "python",
   "name": "python3"
  },
  "language_info": {
   "codemirror_mode": {
    "name": "ipython",
    "version": 3
   },
   "file_extension": ".py",
   "mimetype": "text/x-python",
   "name": "python",
   "nbconvert_exporter": "python",
   "pygments_lexer": "ipython3",
   "version": "3.11.6"
  }
 },
 "nbformat": 4,
 "nbformat_minor": 4
}
