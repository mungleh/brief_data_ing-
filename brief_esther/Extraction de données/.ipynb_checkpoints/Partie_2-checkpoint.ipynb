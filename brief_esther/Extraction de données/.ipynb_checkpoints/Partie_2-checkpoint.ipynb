{
 "cells": [
  {
   "cell_type": "code",
   "execution_count": 1,
   "metadata": {
    "colab": {
     "base_uri": "https://localhost:8080/"
    },
    "id": "WgyulYO6v5EB",
    "outputId": "102096da-4ce3-4e28-a849-e20e0fe9fd14"
   },
   "outputs": [
    {
     "name": "stdout",
     "output_type": "stream",
     "text": [
      "Collecting google-colab-selenium\n",
      "  Downloading google_colab_selenium-1.0.14-py3-none-any.whl.metadata (2.7 kB)\n",
      "Collecting selenium (from google-colab-selenium)\n",
      "  Downloading selenium-4.25.0-py3-none-any.whl.metadata (7.1 kB)\n",
      "Requirement already satisfied: urllib3<3,>=1.26 in /usr/local/lib/python3.10/dist-packages (from urllib3[socks]<3,>=1.26->selenium->google-colab-selenium) (2.2.3)\n",
      "Collecting trio~=0.17 (from selenium->google-colab-selenium)\n",
      "  Downloading trio-0.27.0-py3-none-any.whl.metadata (8.6 kB)\n",
      "Collecting trio-websocket~=0.9 (from selenium->google-colab-selenium)\n",
      "  Downloading trio_websocket-0.11.1-py3-none-any.whl.metadata (4.7 kB)\n",
      "Requirement already satisfied: certifi>=2021.10.8 in /usr/local/lib/python3.10/dist-packages (from selenium->google-colab-selenium) (2024.8.30)\n",
      "Requirement already satisfied: typing_extensions~=4.9 in /usr/local/lib/python3.10/dist-packages (from selenium->google-colab-selenium) (4.12.2)\n",
      "Requirement already satisfied: websocket-client~=1.8 in /usr/local/lib/python3.10/dist-packages (from selenium->google-colab-selenium) (1.8.0)\n",
      "Requirement already satisfied: attrs>=23.2.0 in /usr/local/lib/python3.10/dist-packages (from trio~=0.17->selenium->google-colab-selenium) (24.2.0)\n",
      "Collecting sortedcontainers (from trio~=0.17->selenium->google-colab-selenium)\n",
      "  Downloading sortedcontainers-2.4.0-py2.py3-none-any.whl.metadata (10 kB)\n",
      "Requirement already satisfied: idna in /usr/local/lib/python3.10/dist-packages (from trio~=0.17->selenium->google-colab-selenium) (3.10)\n",
      "Collecting outcome (from trio~=0.17->selenium->google-colab-selenium)\n",
      "  Downloading outcome-1.3.0.post0-py2.py3-none-any.whl.metadata (2.6 kB)\n",
      "Requirement already satisfied: sniffio>=1.3.0 in /usr/local/lib/python3.10/dist-packages (from trio~=0.17->selenium->google-colab-selenium) (1.3.1)\n",
      "Requirement already satisfied: exceptiongroup in /usr/local/lib/python3.10/dist-packages (from trio~=0.17->selenium->google-colab-selenium) (1.2.2)\n",
      "Collecting wsproto>=0.14 (from trio-websocket~=0.9->selenium->google-colab-selenium)\n",
      "  Downloading wsproto-1.2.0-py3-none-any.whl.metadata (5.6 kB)\n",
      "Requirement already satisfied: pysocks!=1.5.7,<2.0,>=1.5.6 in /usr/local/lib/python3.10/dist-packages (from urllib3[socks]<3,>=1.26->selenium->google-colab-selenium) (1.7.1)\n",
      "Collecting h11<1,>=0.9.0 (from wsproto>=0.14->trio-websocket~=0.9->selenium->google-colab-selenium)\n",
      "  Downloading h11-0.14.0-py3-none-any.whl.metadata (8.2 kB)\n",
      "Downloading google_colab_selenium-1.0.14-py3-none-any.whl (8.2 kB)\n",
      "Downloading selenium-4.25.0-py3-none-any.whl (9.7 MB)\n",
      "\u001b[2K   \u001b[90m━━━━━━━━━━━━━━━━━━━━━━━━━━━━━━━━━━━━━━━━\u001b[0m \u001b[32m9.7/9.7 MB\u001b[0m \u001b[31m58.0 MB/s\u001b[0m eta \u001b[36m0:00:00\u001b[0m\n",
      "\u001b[?25hDownloading trio-0.27.0-py3-none-any.whl (481 kB)\n",
      "\u001b[2K   \u001b[90m━━━━━━━━━━━━━━━━━━━━━━━━━━━━━━━━━━━━━━━━\u001b[0m \u001b[32m481.7/481.7 kB\u001b[0m \u001b[31m22.6 MB/s\u001b[0m eta \u001b[36m0:00:00\u001b[0m\n",
      "\u001b[?25hDownloading trio_websocket-0.11.1-py3-none-any.whl (17 kB)\n",
      "Downloading wsproto-1.2.0-py3-none-any.whl (24 kB)\n",
      "Downloading outcome-1.3.0.post0-py2.py3-none-any.whl (10 kB)\n",
      "Downloading sortedcontainers-2.4.0-py2.py3-none-any.whl (29 kB)\n",
      "Downloading h11-0.14.0-py3-none-any.whl (58 kB)\n",
      "\u001b[2K   \u001b[90m━━━━━━━━━━━━━━━━━━━━━━━━━━━━━━━━━━━━━━━━\u001b[0m \u001b[32m58.3/58.3 kB\u001b[0m \u001b[31m3.6 MB/s\u001b[0m eta \u001b[36m0:00:00\u001b[0m\n",
      "\u001b[?25hInstalling collected packages: sortedcontainers, outcome, h11, wsproto, trio, trio-websocket, selenium, google-colab-selenium\n",
      "Successfully installed google-colab-selenium-1.0.14 h11-0.14.0 outcome-1.3.0.post0 selenium-4.25.0 sortedcontainers-2.4.0 trio-0.27.0 trio-websocket-0.11.1 wsproto-1.2.0\n"
     ]
    }
   ],
   "source": [
    "%pip install google-colab-selenium"
   ]
  },
  {
   "cell_type": "code",
   "execution_count": 2,
   "metadata": {
    "colab": {
     "base_uri": "https://localhost:8080/",
     "height": 78
    },
    "id": "WxAoRRnNwCCE",
    "outputId": "9ddc1e8c-e868-465a-cb5c-dc48e0e8c375"
   },
   "outputs": [
    {
     "data": {
      "text/html": [
       "\n",
       "            <div class=\"spinner-container\">\n",
       "                <div class=\"spinner\" id=\"1fd39544-209b-4b6d-a3bf-ef662aa139e7-circle\"></div>\n",
       "                <div class=\"spinner-text\" id=\"1fd39544-209b-4b6d-a3bf-ef662aa139e7-text\">Updating and upgrading APT</div>\n",
       "            </div>\n",
       "            <style>\n",
       "                @keyframes spin {\n",
       "                    from { transform: rotate(0deg); }\n",
       "                    to { transform: rotate(360deg); }\n",
       "                }\n",
       "\n",
       "                .spinner-container {\n",
       "                    display: flex;\n",
       "                    align-items: center;\n",
       "                    margin-bottom: 3px;\n",
       "                }\n",
       "\n",
       "                .spinner {\n",
       "                    border: 3px solid rgba(0, 0, 0, 0.1);\n",
       "                    border-left-color: lightblue;\n",
       "                    border-radius: 50%;\n",
       "                    width: 12px;\n",
       "                    height: 12px;\n",
       "                    animation: spin 1s linear infinite;\n",
       "                }\n",
       "\n",
       "                .spinner-text {\n",
       "                    padding-left: 6px;\n",
       "                }\n",
       "            </style>\n",
       "        "
      ],
      "text/plain": [
       "<IPython.core.display.HTML object>"
      ]
     },
     "metadata": {},
     "output_type": "display_data"
    },
    {
     "data": {
      "application/javascript": [
       "\n",
       "            const element = document.getElementById(\"1fd39544-209b-4b6d-a3bf-ef662aa139e7-circle\");\n",
       "            element.style.border = \"3px solid limegreen\";\n",
       "            element.style.animation = \"none\";\n",
       "\n",
       "            const text = document.getElementById(\"1fd39544-209b-4b6d-a3bf-ef662aa139e7-text\");\n",
       "            text.innerText = \"Updated and upgraded APT\";\n",
       "        "
      ],
      "text/plain": [
       "<IPython.core.display.Javascript object>"
      ]
     },
     "metadata": {},
     "output_type": "display_data"
    },
    {
     "data": {
      "text/html": [
       "\n",
       "            <div class=\"spinner-container\">\n",
       "                <div class=\"spinner\" id=\"c4ab5ae4-f296-414f-9bc9-3ed10cb429af-circle\"></div>\n",
       "                <div class=\"spinner-text\" id=\"c4ab5ae4-f296-414f-9bc9-3ed10cb429af-text\">Downloading Google Chrome</div>\n",
       "            </div>\n",
       "            <style>\n",
       "                @keyframes spin {\n",
       "                    from { transform: rotate(0deg); }\n",
       "                    to { transform: rotate(360deg); }\n",
       "                }\n",
       "\n",
       "                .spinner-container {\n",
       "                    display: flex;\n",
       "                    align-items: center;\n",
       "                    margin-bottom: 3px;\n",
       "                }\n",
       "\n",
       "                .spinner {\n",
       "                    border: 3px solid rgba(0, 0, 0, 0.1);\n",
       "                    border-left-color: lightblue;\n",
       "                    border-radius: 50%;\n",
       "                    width: 12px;\n",
       "                    height: 12px;\n",
       "                    animation: spin 1s linear infinite;\n",
       "                }\n",
       "\n",
       "                .spinner-text {\n",
       "                    padding-left: 6px;\n",
       "                }\n",
       "            </style>\n",
       "        "
      ],
      "text/plain": [
       "<IPython.core.display.HTML object>"
      ]
     },
     "metadata": {},
     "output_type": "display_data"
    },
    {
     "data": {
      "application/javascript": [
       "\n",
       "            const element = document.getElementById(\"c4ab5ae4-f296-414f-9bc9-3ed10cb429af-circle\");\n",
       "            element.style.border = \"3px solid limegreen\";\n",
       "            element.style.animation = \"none\";\n",
       "\n",
       "            const text = document.getElementById(\"c4ab5ae4-f296-414f-9bc9-3ed10cb429af-text\");\n",
       "            text.innerText = \"Downloaded Google Chrome\";\n",
       "        "
      ],
      "text/plain": [
       "<IPython.core.display.Javascript object>"
      ]
     },
     "metadata": {},
     "output_type": "display_data"
    },
    {
     "data": {
      "text/html": [
       "\n",
       "            <div class=\"spinner-container\">\n",
       "                <div class=\"spinner\" id=\"f1de7029-95b2-436b-bfb6-88bb659e4098-circle\"></div>\n",
       "                <div class=\"spinner-text\" id=\"f1de7029-95b2-436b-bfb6-88bb659e4098-text\">Initializing Chromedriver</div>\n",
       "            </div>\n",
       "            <style>\n",
       "                @keyframes spin {\n",
       "                    from { transform: rotate(0deg); }\n",
       "                    to { transform: rotate(360deg); }\n",
       "                }\n",
       "\n",
       "                .spinner-container {\n",
       "                    display: flex;\n",
       "                    align-items: center;\n",
       "                    margin-bottom: 3px;\n",
       "                }\n",
       "\n",
       "                .spinner {\n",
       "                    border: 3px solid rgba(0, 0, 0, 0.1);\n",
       "                    border-left-color: lightblue;\n",
       "                    border-radius: 50%;\n",
       "                    width: 12px;\n",
       "                    height: 12px;\n",
       "                    animation: spin 1s linear infinite;\n",
       "                }\n",
       "\n",
       "                .spinner-text {\n",
       "                    padding-left: 6px;\n",
       "                }\n",
       "            </style>\n",
       "        "
      ],
      "text/plain": [
       "<IPython.core.display.HTML object>"
      ]
     },
     "metadata": {},
     "output_type": "display_data"
    },
    {
     "data": {
      "application/javascript": [
       "\n",
       "            const element = document.getElementById(\"f1de7029-95b2-436b-bfb6-88bb659e4098-circle\");\n",
       "            element.style.border = \"3px solid limegreen\";\n",
       "            element.style.animation = \"none\";\n",
       "\n",
       "            const text = document.getElementById(\"f1de7029-95b2-436b-bfb6-88bb659e4098-text\");\n",
       "            text.innerText = \"Initialized Chromedriver\";\n",
       "        "
      ],
      "text/plain": [
       "<IPython.core.display.Javascript object>"
      ]
     },
     "metadata": {},
     "output_type": "display_data"
    }
   ],
   "source": [
    "import google_colab_selenium as gs"
   ]
  },
  {
   "cell_type": "code",
   "execution_count": 6,
   "metadata": {
    "colab": {
     "base_uri": "https://localhost:8080/",
     "height": 55
    },
    "id": "oV1sxfddx8Qc",
    "outputId": "19635ff8-1fdd-4128-ba71-1e2fee87812f"
   },
   "outputs": [
    {
     "data": {
      "text/html": [
       "\n",
       "            <div class=\"spinner-container\">\n",
       "                <div class=\"spinner\" id=\"1d543eb0-9ecc-4b30-9f5c-0eccae4bb251-circle\"></div>\n",
       "                <div class=\"spinner-text\" id=\"1d543eb0-9ecc-4b30-9f5c-0eccae4bb251-text\">Initializing Chromedriver</div>\n",
       "            </div>\n",
       "            <style>\n",
       "                @keyframes spin {\n",
       "                    from { transform: rotate(0deg); }\n",
       "                    to { transform: rotate(360deg); }\n",
       "                }\n",
       "\n",
       "                .spinner-container {\n",
       "                    display: flex;\n",
       "                    align-items: center;\n",
       "                    margin-bottom: 3px;\n",
       "                }\n",
       "\n",
       "                .spinner {\n",
       "                    border: 3px solid rgba(0, 0, 0, 0.1);\n",
       "                    border-left-color: lightblue;\n",
       "                    border-radius: 50%;\n",
       "                    width: 12px;\n",
       "                    height: 12px;\n",
       "                    animation: spin 1s linear infinite;\n",
       "                }\n",
       "\n",
       "                .spinner-text {\n",
       "                    padding-left: 6px;\n",
       "                }\n",
       "            </style>\n",
       "        "
      ],
      "text/plain": [
       "<IPython.core.display.HTML object>"
      ]
     },
     "metadata": {},
     "output_type": "display_data"
    },
    {
     "data": {
      "application/javascript": [
       "\n",
       "            const element = document.getElementById(\"1d543eb0-9ecc-4b30-9f5c-0eccae4bb251-circle\");\n",
       "            element.style.border = \"3px solid limegreen\";\n",
       "            element.style.animation = \"none\";\n",
       "\n",
       "            const text = document.getElementById(\"1d543eb0-9ecc-4b30-9f5c-0eccae4bb251-text\");\n",
       "            text.innerText = \"Initialized Chromedriver\";\n",
       "        "
      ],
      "text/plain": [
       "<IPython.core.display.Javascript object>"
      ]
     },
     "metadata": {},
     "output_type": "display_data"
    },
    {
     "name": "stdout",
     "output_type": "stream",
     "text": [
      "Over 1.5 Goals Stats | Over 2.5 Goals Stats | Over 3.5 Goals Stats\n"
     ]
    }
   ],
   "source": [
    "driver = gs.Chrome()\n",
    "\n",
    "driver.get(\"https://www.adamchoi.co.uk/overs/detailed\")\n",
    "\n",
    "print(driver.title)\n",
    "\n",
    "driver.quit()"
   ]
  }
 ],
 "metadata": {
  "colab": {
   "provenance": []
  },
  "kernelspec": {
   "display_name": "Python 3",
   "name": "python3"
  },
  "language_info": {
   "name": "python"
  }
 },
 "nbformat": 4,
 "nbformat_minor": 0
}
