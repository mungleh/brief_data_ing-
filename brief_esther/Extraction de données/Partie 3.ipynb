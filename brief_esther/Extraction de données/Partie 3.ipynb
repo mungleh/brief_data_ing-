{
 "cells": [
  {
   "cell_type": "code",
   "execution_count": 9,
   "id": "a977e672",
   "metadata": {},
   "outputs": [],
   "source": [
    "import pandas as pd\n",
    "import requests"
   ]
  },
  {
   "cell_type": "code",
   "execution_count": 3,
   "id": "46376e74",
   "metadata": {},
   "outputs": [],
   "source": [
    "response = requests.get('https://api.openweathermap.org/data/2.5/weather?lat=44.34&lon=10.99&appid=5ff3a6fbcdbfaeb35aba10dcab3e7496')"
   ]
  },
  {
   "cell_type": "code",
   "execution_count": 14,
   "id": "0dbcdf2a",
   "metadata": {
    "scrolled": true
   },
   "outputs": [
    {
     "data": {
      "text/plain": [
       "{'coord': {'lon': 10.99, 'lat': 44.34},\n",
       " 'weather': [{'id': 804,\n",
       "   'main': 'Clouds',\n",
       "   'description': 'overcast clouds',\n",
       "   'icon': '04d'}],\n",
       " 'base': 'stations',\n",
       " 'main': {'temp': 285.35,\n",
       "  'feels_like': 285.16,\n",
       "  'temp_min': 283.52,\n",
       "  'temp_max': 286.53,\n",
       "  'pressure': 1024,\n",
       "  'humidity': 97,\n",
       "  'sea_level': 1024,\n",
       "  'grnd_level': 956},\n",
       " 'wind': {'speed': 0.13, 'deg': 347, 'gust': 0.2},\n",
       " 'clouds': {'all': 100},\n",
       " 'dt': 1729842755,\n",
       " 'sys': {'type': 2,\n",
       "  'id': 2004688,\n",
       "  'country': 'IT',\n",
       "  'sunrise': 1729835042,\n",
       "  'sunset': 1729872952},\n",
       " 'timezone': 7200,\n",
       " 'id': 3163858,\n",
       " 'name': 'Zocca',\n",
       " 'cod': 200}"
      ]
     },
     "execution_count": 14,
     "metadata": {},
     "output_type": "execute_result"
    }
   ],
   "source": [
    "response.json()"
   ]
  }
 ],
 "metadata": {
  "kernelspec": {
   "display_name": "Python 3 (ipykernel)",
   "language": "python",
   "name": "python3"
  },
  "language_info": {
   "codemirror_mode": {
    "name": "ipython",
    "version": 3
   },
   "file_extension": ".py",
   "mimetype": "text/x-python",
   "name": "python",
   "nbconvert_exporter": "python",
   "pygments_lexer": "ipython3",
   "version": "3.8.12"
  },
  "toc": {
   "base_numbering": 1,
   "nav_menu": {},
   "number_sections": true,
   "sideBar": true,
   "skip_h1_title": false,
   "title_cell": "Table of Contents",
   "title_sidebar": "Contents",
   "toc_cell": false,
   "toc_position": {},
   "toc_section_display": true,
   "toc_window_display": false
  }
 },
 "nbformat": 4,
 "nbformat_minor": 5
}
