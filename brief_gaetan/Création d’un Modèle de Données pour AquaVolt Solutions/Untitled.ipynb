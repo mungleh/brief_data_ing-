{
 "cells": [
  {
   "cell_type": "code",
   "execution_count": 2,
   "id": "af040c6a",
   "metadata": {},
   "outputs": [],
   "source": [
    "from itertools import chain\n",
    "import polars as pd"
   ]
  },
  {
   "cell_type": "code",
   "execution_count": 6,
   "id": "534744e0",
   "metadata": {
    "scrolled": true
   },
   "outputs": [],
   "source": [
    "# pd.set_option('display.max_columns', 500)"
   ]
  },
  {
   "cell_type": "code",
   "execution_count": 27,
   "id": "dd8140ab",
   "metadata": {
    "scrolled": true
   },
   "outputs": [],
   "source": [
    "# df = pd.read_csv('data/av.csv', delimiter=\";\")  \n",
    "df = pd.read_csv('data/av.csv', separator=';', ignore_errors=True)  "
   ]
  },
  {
   "cell_type": "code",
   "execution_count": 28,
   "id": "711e5a39",
   "metadata": {},
   "outputs": [
    {
     "data": {
      "text/plain": [
       "'id_souscription'"
      ]
     },
     "execution_count": 28,
     "metadata": {},
     "output_type": "execute_result"
    }
   ],
   "source": [
    "df.columns[0]"
   ]
  },
  {
   "cell_type": "code",
   "execution_count": 29,
   "id": "add7e98f",
   "metadata": {},
   "outputs": [],
   "source": [
    "ids = [i for i in df.columns if \"id_\" in i]"
   ]
  },
  {
   "cell_type": "code",
   "execution_count": 30,
   "id": "152627c8",
   "metadata": {},
   "outputs": [
    {
     "data": {
      "text/plain": [
       "['id_souscription',\n",
       " 'id_logement',\n",
       " 'id_contact',\n",
       " 'id_contrat',\n",
       " 'id_conversation_pc',\n",
       " 'id_produit_contrat',\n",
       " 'id_marque',\n",
       " 'id_campagne_souscrit',\n",
       " 'id_campagne_offre_mkt',\n",
       " 'id_push_mkt',\n",
       " 'id_agent_vendeur',\n",
       " 'id_ordre_vente_externe',\n",
       " 'id_ref_vente_externe',\n",
       " 'id_vendeur_partenaire']"
      ]
     },
     "execution_count": 30,
     "metadata": {},
     "output_type": "execute_result"
    }
   ],
   "source": [
    "ids"
   ]
  },
  {
   "cell_type": "code",
   "execution_count": 31,
   "id": "aae9b065",
   "metadata": {},
   "outputs": [],
   "source": [
    "nb = panb = [i for i in df.columns if \"nb\" in i]"
   ]
  },
  {
   "cell_type": "code",
   "execution_count": 32,
   "id": "c038e1a3",
   "metadata": {},
   "outputs": [
    {
     "data": {
      "text/plain": [
       "['nb_creation',\n",
       " 'nb_creation_promesse',\n",
       " 'nb_creation_incomplet',\n",
       " 'nb_souscription',\n",
       " 'nb_demarre',\n",
       " 'nb_nouveau',\n",
       " 'nb_creation_client',\n",
       " 'nb_souscription_client',\n",
       " 'nb_demarre_client',\n",
       " 'nb_nouveau_client',\n",
       " 'nb_creation_contrat',\n",
       " 'nb_souscription_contrat',\n",
       " 'nb_demarre_contrat',\n",
       " 'nb_nouveau_contrat',\n",
       " 'nb_creation_police',\n",
       " 'nb_souscription_police',\n",
       " 'nb_demarre_police',\n",
       " 'nb_nouveau_police',\n",
       " 'nb_souscription_ajout_option',\n",
       " 'nb_ajout_auto']"
      ]
     },
     "execution_count": 32,
     "metadata": {},
     "output_type": "execute_result"
    }
   ],
   "source": [
    "nb"
   ]
  },
  {
   "cell_type": "code",
   "execution_count": 33,
   "id": "fc6c715e",
   "metadata": {},
   "outputs": [],
   "source": [
    "panb = [i for i in df.columns if \"nb\" not in i]"
   ]
  },
  {
   "cell_type": "code",
   "execution_count": 34,
   "id": "202e9931",
   "metadata": {},
   "outputs": [],
   "source": [
    "dfpanb = df[panb]"
   ]
  },
  {
   "cell_type": "code",
   "execution_count": 35,
   "id": "495a3705",
   "metadata": {},
   "outputs": [],
   "source": [
    "papol = [i for i in dfpanb.columns if \"police\" not in i]"
   ]
  },
  {
   "cell_type": "code",
   "execution_count": 36,
   "id": "42b9a268",
   "metadata": {},
   "outputs": [],
   "source": [
    "dfpapol = dfpanb[papol]"
   ]
  },
  {
   "cell_type": "code",
   "execution_count": 42,
   "id": "b869e922",
   "metadata": {
    "scrolled": true
   },
   "outputs": [
    {
     "ename": "AttributeError",
     "evalue": "'DataFrame' object has no attribute 'isin'",
     "output_type": "error",
     "traceback": [
      "\u001b[0;31m---------------------------------------------------------------------------\u001b[0m",
      "\u001b[0;31mAttributeError\u001b[0m                            Traceback (most recent call last)",
      "Cell \u001b[0;32mIn [42], line 1\u001b[0m\n\u001b[0;32m----> 1\u001b[0m dfpapolpol \u001b[38;5;241m=\u001b[39m dfpapol[\u001b[38;5;241m~\u001b[39m\u001b[43mdfpapol\u001b[49m\u001b[43m[\u001b[49m\u001b[43m[\u001b[49m\u001b[38;5;124;43m'\u001b[39;49m\u001b[38;5;124;43mniveau\u001b[39;49m\u001b[38;5;124;43m'\u001b[39;49m\u001b[43m]\u001b[49m\u001b[43m]\u001b[49m\u001b[38;5;241;43m.\u001b[39;49m\u001b[43misin\u001b[49m([\u001b[38;5;124m'\u001b[39m\u001b[38;5;124mpolice\u001b[39m\u001b[38;5;124m'\u001b[39m])]\n",
      "\u001b[0;31mAttributeError\u001b[0m: 'DataFrame' object has no attribute 'isin'"
     ]
    }
   ],
   "source": [
    "# dfpapolpol = dfpapol[~dfpapol['niveau'].isin(['police'])]\n",
    "dfpapolpol = dfpapol[~dfpapol[['niveau']].isin(['police'])]"
   ]
  },
  {
   "cell_type": "code",
   "execution_count": null,
   "id": "2ae94b0b",
   "metadata": {},
   "outputs": [],
   "source": [
    "lol = [i for i in dfpapolpol.columns if \"nb\" in i]"
   ]
  },
  {
   "cell_type": "code",
   "execution_count": null,
   "id": "6d2ba8e3",
   "metadata": {},
   "outputs": [],
   "source": [
    "lolol = dfpapolpol[lol]"
   ]
  },
  {
   "cell_type": "code",
   "execution_count": null,
   "id": "10c81ab5",
   "metadata": {
    "scrolled": true
   },
   "outputs": [],
   "source": [
    "lolol"
   ]
  },
  {
   "cell_type": "code",
   "execution_count": null,
   "id": "7716e25f",
   "metadata": {},
   "outputs": [],
   "source": [
    "dfpapolpol['grp_produit_contrat'].unique()"
   ]
  },
  {
   "cell_type": "code",
   "execution_count": null,
   "id": "7ac688c6",
   "metadata": {},
   "outputs": [],
   "source": [
    "dfpapolpol['lst_cd_produit_combine_contrat'].unique()"
   ]
  },
  {
   "cell_type": "code",
   "execution_count": null,
   "id": "0748af7a",
   "metadata": {
    "scrolled": true
   },
   "outputs": [],
   "source": [
    "dfpapolpol['cd_produit_contrat'].unique()"
   ]
  },
  {
   "cell_type": "code",
   "execution_count": null,
   "id": "b9ea531a",
   "metadata": {
    "scrolled": true
   },
   "outputs": [],
   "source": [
    "lul = dfpapolpol[dfpapolpol['univers_contrat'].isin(['Energie'])]"
   ]
  },
  {
   "cell_type": "code",
   "execution_count": null,
   "id": "7f134073",
   "metadata": {},
   "outputs": [],
   "source": [
    "lul['cd_produit_contrat'].unique()"
   ]
  },
  {
   "cell_type": "code",
   "execution_count": null,
   "id": "c2c17620",
   "metadata": {},
   "outputs": [],
   "source": [
    "lul['lst_cd_produit_combine_contrat'].unique()"
   ]
  },
  {
   "cell_type": "code",
   "execution_count": null,
   "id": "592c4491",
   "metadata": {
    "scrolled": true
   },
   "outputs": [],
   "source": [
    "lul[['univers_contrat', 'cd_produit_contrat', 'lst_cd_produit_combine_contrat']]"
   ]
  },
  {
   "cell_type": "code",
   "execution_count": null,
   "id": "9ed3bee2",
   "metadata": {
    "scrolled": true
   },
   "outputs": [],
   "source": [
    "dfpapolpol[dfpapolpol['id_conversation_pc'].notnull()]"
   ]
  },
  {
   "cell_type": "code",
   "execution_count": null,
   "id": "88def128",
   "metadata": {
    "scrolled": false
   },
   "outputs": [],
   "source": [
    "dfpapolpol"
   ]
  },
  {
   "cell_type": "code",
   "execution_count": null,
   "id": "3b816d15",
   "metadata": {},
   "outputs": [],
   "source": [
    "# tables = []\n",
    "# for i in ids:\n",
    "#     filtreh = i.split(\"_\")\n",
    "#     tables.append([i for i in df.columns if filtreh[1] in i])\n",
    "\n",
    "# flat = list(chain(*tables))\n",
    "\n",
    "# s = set(flat)\n",
    "# diff = [x for x in df.columns if x not in s]"
   ]
  },
  {
   "cell_type": "code",
   "execution_count": null,
   "id": "bdc81ece",
   "metadata": {},
   "outputs": [],
   "source": [
    "client = df[df['niveau'].isin(['client'])]"
   ]
  },
  {
   "cell_type": "code",
   "execution_count": null,
   "id": "de78c787",
   "metadata": {
    "scrolled": true
   },
   "outputs": [],
   "source": [
    "contrat = df[df['niveau'].isin(['contrat'])]"
   ]
  },
  {
   "cell_type": "code",
   "execution_count": null,
   "id": "a09e1a2c",
   "metadata": {},
   "outputs": [],
   "source": [
    "souscription = "
   ]
  },
  {
   "cell_type": "code",
   "execution_count": null,
   "id": "81d1a9cb",
   "metadata": {},
   "outputs": [],
   "source": [
    "client[client.duplicated(['id_souscription'], keep=False)]"
   ]
  },
  {
   "cell_type": "code",
   "execution_count": null,
   "id": "995161d3",
   "metadata": {},
   "outputs": [],
   "source": [
    "df['fg_acquis'].value_counts()"
   ]
  },
  {
   "cell_type": "code",
   "execution_count": null,
   "id": "9e8146ba",
   "metadata": {
    "scrolled": true
   },
   "outputs": [],
   "source": [
    "df[df.duplicated(['cd_client'], keep=False)].sort_values(by=\"cd_client\")"
   ]
  },
  {
   "cell_type": "code",
   "execution_count": null,
   "id": "c037bf19",
   "metadata": {
    "scrolled": true
   },
   "outputs": [],
   "source": [
    "df['cd_client'].nunique()"
   ]
  }
 ],
 "metadata": {
  "kernelspec": {
   "display_name": "Python 3 (ipykernel)",
   "language": "python",
   "name": "python3"
  },
  "language_info": {
   "codemirror_mode": {
    "name": "ipython",
    "version": 3
   },
   "file_extension": ".py",
   "mimetype": "text/x-python",
   "name": "python",
   "nbconvert_exporter": "python",
   "pygments_lexer": "ipython3",
   "version": "3.8.12"
  },
  "toc": {
   "base_numbering": 1,
   "nav_menu": {},
   "number_sections": true,
   "sideBar": true,
   "skip_h1_title": false,
   "title_cell": "Table of Contents",
   "title_sidebar": "Contents",
   "toc_cell": false,
   "toc_position": {},
   "toc_section_display": true,
   "toc_window_display": false
  }
 },
 "nbformat": 4,
 "nbformat_minor": 5
}
